{
 "cells": [
  {
   "cell_type": "code",
   "execution_count": 55,
   "metadata": {},
   "outputs": [],
   "source": [
    " # Initial imports\n",
    "import pandas as pd\n",
    "import hvplot.pandas\n",
    "from pathlib import Path\n",
    "import plotly.express as px\n",
    "from sklearn.preprocessing import StandardScaler, MinMaxScaler\n",
    "from sklearn.decomposition import PCA\n",
    "from sklearn.cluster import KMeans"
   ]
  },
  {
   "cell_type": "code",
   "execution_count": 56,
   "metadata": {},
   "outputs": [
    {
     "data": {
      "text/html": [
       "<div>\n",
       "<style scoped>\n",
       "    .dataframe tbody tr th:only-of-type {\n",
       "        vertical-align: middle;\n",
       "    }\n",
       "\n",
       "    .dataframe tbody tr th {\n",
       "        vertical-align: top;\n",
       "    }\n",
       "\n",
       "    .dataframe thead th {\n",
       "        text-align: right;\n",
       "    }\n",
       "</style>\n",
       "<table border=\"1\" class=\"dataframe\">\n",
       "  <thead>\n",
       "    <tr style=\"text-align: right;\">\n",
       "      <th></th>\n",
       "      <th>CoinName</th>\n",
       "      <th>Algorithm</th>\n",
       "      <th>IsTrading</th>\n",
       "      <th>ProofType</th>\n",
       "      <th>TotalCoinsMined</th>\n",
       "      <th>TotalCoinSupply</th>\n",
       "    </tr>\n",
       "  </thead>\n",
       "  <tbody>\n",
       "    <tr>\n",
       "      <th>42</th>\n",
       "      <td>42 Coin</td>\n",
       "      <td>Scrypt</td>\n",
       "      <td>True</td>\n",
       "      <td>PoW/PoS</td>\n",
       "      <td>4.199995e+01</td>\n",
       "      <td>42</td>\n",
       "    </tr>\n",
       "    <tr>\n",
       "      <th>365</th>\n",
       "      <td>365Coin</td>\n",
       "      <td>X11</td>\n",
       "      <td>True</td>\n",
       "      <td>PoW/PoS</td>\n",
       "      <td>NaN</td>\n",
       "      <td>2300000000</td>\n",
       "    </tr>\n",
       "    <tr>\n",
       "      <th>404</th>\n",
       "      <td>404Coin</td>\n",
       "      <td>Scrypt</td>\n",
       "      <td>True</td>\n",
       "      <td>PoW/PoS</td>\n",
       "      <td>1.055185e+09</td>\n",
       "      <td>532000000</td>\n",
       "    </tr>\n",
       "    <tr>\n",
       "      <th>611</th>\n",
       "      <td>SixEleven</td>\n",
       "      <td>SHA-256</td>\n",
       "      <td>True</td>\n",
       "      <td>PoW</td>\n",
       "      <td>NaN</td>\n",
       "      <td>611000</td>\n",
       "    </tr>\n",
       "    <tr>\n",
       "      <th>808</th>\n",
       "      <td>808</td>\n",
       "      <td>SHA-256</td>\n",
       "      <td>True</td>\n",
       "      <td>PoW/PoS</td>\n",
       "      <td>0.000000e+00</td>\n",
       "      <td>0</td>\n",
       "    </tr>\n",
       "    <tr>\n",
       "      <th>1337</th>\n",
       "      <td>EliteCoin</td>\n",
       "      <td>X13</td>\n",
       "      <td>True</td>\n",
       "      <td>PoW/PoS</td>\n",
       "      <td>2.927942e+10</td>\n",
       "      <td>3.14159E+11</td>\n",
       "    </tr>\n",
       "    <tr>\n",
       "      <th>2015</th>\n",
       "      <td>2015 coin</td>\n",
       "      <td>X11</td>\n",
       "      <td>True</td>\n",
       "      <td>PoW/PoS</td>\n",
       "      <td>NaN</td>\n",
       "      <td>0</td>\n",
       "    </tr>\n",
       "    <tr>\n",
       "      <th>BTC</th>\n",
       "      <td>Bitcoin</td>\n",
       "      <td>SHA-256</td>\n",
       "      <td>True</td>\n",
       "      <td>PoW</td>\n",
       "      <td>1.792718e+07</td>\n",
       "      <td>21000000</td>\n",
       "    </tr>\n",
       "    <tr>\n",
       "      <th>ETH</th>\n",
       "      <td>Ethereum</td>\n",
       "      <td>Ethash</td>\n",
       "      <td>True</td>\n",
       "      <td>PoW</td>\n",
       "      <td>1.076842e+08</td>\n",
       "      <td>0</td>\n",
       "    </tr>\n",
       "    <tr>\n",
       "      <th>LTC</th>\n",
       "      <td>Litecoin</td>\n",
       "      <td>Scrypt</td>\n",
       "      <td>True</td>\n",
       "      <td>PoW</td>\n",
       "      <td>6.303924e+07</td>\n",
       "      <td>84000000</td>\n",
       "    </tr>\n",
       "  </tbody>\n",
       "</table>\n",
       "</div>"
      ],
      "text/plain": [
       "       CoinName Algorithm  IsTrading ProofType  TotalCoinsMined  \\\n",
       "42      42 Coin    Scrypt       True   PoW/PoS     4.199995e+01   \n",
       "365     365Coin       X11       True   PoW/PoS              NaN   \n",
       "404     404Coin    Scrypt       True   PoW/PoS     1.055185e+09   \n",
       "611   SixEleven   SHA-256       True       PoW              NaN   \n",
       "808         808   SHA-256       True   PoW/PoS     0.000000e+00   \n",
       "1337  EliteCoin       X13       True   PoW/PoS     2.927942e+10   \n",
       "2015  2015 coin       X11       True   PoW/PoS              NaN   \n",
       "BTC     Bitcoin   SHA-256       True       PoW     1.792718e+07   \n",
       "ETH    Ethereum    Ethash       True       PoW     1.076842e+08   \n",
       "LTC    Litecoin    Scrypt       True       PoW     6.303924e+07   \n",
       "\n",
       "     TotalCoinSupply  \n",
       "42                42  \n",
       "365       2300000000  \n",
       "404        532000000  \n",
       "611           611000  \n",
       "808                0  \n",
       "1337     3.14159E+11  \n",
       "2015               0  \n",
       "BTC         21000000  \n",
       "ETH                0  \n",
       "LTC         84000000  "
      ]
     },
     "execution_count": 56,
     "metadata": {},
     "output_type": "execute_result"
    }
   ],
   "source": [
    "# Loade the cryptocurrencies data\n",
    "file_path = Path(\"../Desktop/crypto_data.csv\")\n",
    "df = pd.read_csv(file_path, index_col=0)\n",
    "df.head(10)"
   ]
  },
  {
   "cell_type": "markdown",
   "metadata": {},
   "source": [
    "## Data Preprocessing"
   ]
  },
  {
   "cell_type": "code",
   "execution_count": 57,
   "metadata": {},
   "outputs": [
    {
     "name": "stdout",
     "output_type": "stream",
     "text": [
      "<class 'pandas.core.frame.DataFrame'>\n",
      "Index: 1144 entries, 42 to XBC\n",
      "Data columns (total 6 columns):\n",
      " #   Column           Non-Null Count  Dtype  \n",
      "---  ------           --------------  -----  \n",
      " 0   CoinName         1144 non-null   object \n",
      " 1   Algorithm        1144 non-null   object \n",
      " 2   IsTrading        1144 non-null   object \n",
      " 3   ProofType        1144 non-null   object \n",
      " 4   TotalCoinsMined  685 non-null    float64\n",
      " 5   TotalCoinSupply  1144 non-null   object \n",
      "dtypes: float64(1), object(5)\n",
      "memory usage: 62.6+ KB\n"
     ]
    }
   ],
   "source": [
    "\n",
    "df['IsTrading'] = df['IsTrading'].astype(str)\n",
    "\n",
    "bool_list = ['True']\n",
    "\n",
    "df = df[df.IsTrading.isin(bool_list)]\n",
    "\n",
    "df.info()"
   ]
  },
  {
   "cell_type": "code",
   "execution_count": 58,
   "metadata": {},
   "outputs": [
    {
     "data": {
      "text/html": [
       "<div>\n",
       "<style scoped>\n",
       "    .dataframe tbody tr th:only-of-type {\n",
       "        vertical-align: middle;\n",
       "    }\n",
       "\n",
       "    .dataframe tbody tr th {\n",
       "        vertical-align: top;\n",
       "    }\n",
       "\n",
       "    .dataframe thead th {\n",
       "        text-align: right;\n",
       "    }\n",
       "</style>\n",
       "<table border=\"1\" class=\"dataframe\">\n",
       "  <thead>\n",
       "    <tr style=\"text-align: right;\">\n",
       "      <th></th>\n",
       "      <th>CoinName</th>\n",
       "      <th>Algorithm</th>\n",
       "      <th>IsTrading</th>\n",
       "      <th>ProofType</th>\n",
       "      <th>TotalCoinsMined</th>\n",
       "      <th>TotalCoinSupply</th>\n",
       "    </tr>\n",
       "  </thead>\n",
       "  <tbody>\n",
       "    <tr>\n",
       "      <th>42</th>\n",
       "      <td>42 Coin</td>\n",
       "      <td>Scrypt</td>\n",
       "      <td>True</td>\n",
       "      <td>PoW/PoS</td>\n",
       "      <td>4.199995e+01</td>\n",
       "      <td>42</td>\n",
       "    </tr>\n",
       "    <tr>\n",
       "      <th>365</th>\n",
       "      <td>365Coin</td>\n",
       "      <td>X11</td>\n",
       "      <td>True</td>\n",
       "      <td>PoW/PoS</td>\n",
       "      <td>NaN</td>\n",
       "      <td>2300000000</td>\n",
       "    </tr>\n",
       "    <tr>\n",
       "      <th>404</th>\n",
       "      <td>404Coin</td>\n",
       "      <td>Scrypt</td>\n",
       "      <td>True</td>\n",
       "      <td>PoW/PoS</td>\n",
       "      <td>1.055185e+09</td>\n",
       "      <td>532000000</td>\n",
       "    </tr>\n",
       "    <tr>\n",
       "      <th>611</th>\n",
       "      <td>SixEleven</td>\n",
       "      <td>SHA-256</td>\n",
       "      <td>True</td>\n",
       "      <td>PoW</td>\n",
       "      <td>NaN</td>\n",
       "      <td>611000</td>\n",
       "    </tr>\n",
       "    <tr>\n",
       "      <th>808</th>\n",
       "      <td>808</td>\n",
       "      <td>SHA-256</td>\n",
       "      <td>True</td>\n",
       "      <td>PoW/PoS</td>\n",
       "      <td>0.000000e+00</td>\n",
       "      <td>0</td>\n",
       "    </tr>\n",
       "  </tbody>\n",
       "</table>\n",
       "</div>"
      ],
      "text/plain": [
       "      CoinName Algorithm IsTrading ProofType  TotalCoinsMined TotalCoinSupply\n",
       "42     42 Coin    Scrypt      True   PoW/PoS     4.199995e+01              42\n",
       "365    365Coin       X11      True   PoW/PoS              NaN      2300000000\n",
       "404    404Coin    Scrypt      True   PoW/PoS     1.055185e+09       532000000\n",
       "611  SixEleven   SHA-256      True       PoW              NaN          611000\n",
       "808        808   SHA-256      True   PoW/PoS     0.000000e+00               0"
      ]
     },
     "execution_count": 58,
     "metadata": {},
     "output_type": "execute_result"
    }
   ],
   "source": [
    "df.head(5)"
   ]
  },
  {
   "cell_type": "code",
   "execution_count": 59,
   "metadata": {},
   "outputs": [],
   "source": [
    "df.drop(columns=['IsTrading'],inplace=True)"
   ]
  },
  {
   "cell_type": "code",
   "execution_count": 60,
   "metadata": {},
   "outputs": [],
   "source": [
    "df['TotalCoinSupply'] =  pd.to_numeric(df['TotalCoinSupply'],errors='coerce')"
   ]
  },
  {
   "cell_type": "code",
   "execution_count": 61,
   "metadata": {},
   "outputs": [],
   "source": [
    "df['TotalCoinsMined'] =  pd.to_numeric(df['TotalCoinsMined'],errors='coerce')"
   ]
  },
  {
   "cell_type": "code",
   "execution_count": 62,
   "metadata": {},
   "outputs": [
    {
     "name": "stdout",
     "output_type": "stream",
     "text": [
      "<class 'pandas.core.frame.DataFrame'>\n",
      "Index: 1144 entries, 42 to XBC\n",
      "Data columns (total 5 columns):\n",
      " #   Column           Non-Null Count  Dtype  \n",
      "---  ------           --------------  -----  \n",
      " 0   CoinName         1144 non-null   object \n",
      " 1   Algorithm        1144 non-null   object \n",
      " 2   ProofType        1144 non-null   object \n",
      " 3   TotalCoinsMined  685 non-null    float64\n",
      " 4   TotalCoinSupply  1141 non-null   float64\n",
      "dtypes: float64(2), object(3)\n",
      "memory usage: 53.6+ KB\n"
     ]
    }
   ],
   "source": [
    "df.info()"
   ]
  },
  {
   "cell_type": "code",
   "execution_count": 63,
   "metadata": {},
   "outputs": [],
   "source": [
    "df.dropna(axis=0,how='any',inplace=True)"
   ]
  },
  {
   "cell_type": "code",
   "execution_count": 64,
   "metadata": {},
   "outputs": [],
   "source": [
    "df.replace(0,'one',inplace=True)"
   ]
  },
  {
   "cell_type": "code",
   "execution_count": 65,
   "metadata": {},
   "outputs": [
    {
     "data": {
      "text/html": [
       "<div>\n",
       "<style scoped>\n",
       "    .dataframe tbody tr th:only-of-type {\n",
       "        vertical-align: middle;\n",
       "    }\n",
       "\n",
       "    .dataframe tbody tr th {\n",
       "        vertical-align: top;\n",
       "    }\n",
       "\n",
       "    .dataframe thead th {\n",
       "        text-align: right;\n",
       "    }\n",
       "</style>\n",
       "<table border=\"1\" class=\"dataframe\">\n",
       "  <thead>\n",
       "    <tr style=\"text-align: right;\">\n",
       "      <th></th>\n",
       "      <th>CoinName</th>\n",
       "      <th>Algorithm</th>\n",
       "      <th>ProofType</th>\n",
       "      <th>TotalCoinsMined</th>\n",
       "      <th>TotalCoinSupply</th>\n",
       "    </tr>\n",
       "  </thead>\n",
       "  <tbody>\n",
       "    <tr>\n",
       "      <th>42</th>\n",
       "      <td>42 Coin</td>\n",
       "      <td>Scrypt</td>\n",
       "      <td>PoW/PoS</td>\n",
       "      <td>42</td>\n",
       "      <td>42</td>\n",
       "    </tr>\n",
       "    <tr>\n",
       "      <th>404</th>\n",
       "      <td>404Coin</td>\n",
       "      <td>Scrypt</td>\n",
       "      <td>PoW/PoS</td>\n",
       "      <td>1.05518e+09</td>\n",
       "      <td>5.32e+08</td>\n",
       "    </tr>\n",
       "    <tr>\n",
       "      <th>808</th>\n",
       "      <td>808</td>\n",
       "      <td>SHA-256</td>\n",
       "      <td>PoW/PoS</td>\n",
       "      <td>one</td>\n",
       "      <td>one</td>\n",
       "    </tr>\n",
       "    <tr>\n",
       "      <th>1337</th>\n",
       "      <td>EliteCoin</td>\n",
       "      <td>X13</td>\n",
       "      <td>PoW/PoS</td>\n",
       "      <td>2.92794e+10</td>\n",
       "      <td>3.14159e+11</td>\n",
       "    </tr>\n",
       "    <tr>\n",
       "      <th>BTC</th>\n",
       "      <td>Bitcoin</td>\n",
       "      <td>SHA-256</td>\n",
       "      <td>PoW</td>\n",
       "      <td>1.79272e+07</td>\n",
       "      <td>2.1e+07</td>\n",
       "    </tr>\n",
       "  </tbody>\n",
       "</table>\n",
       "</div>"
      ],
      "text/plain": [
       "       CoinName Algorithm ProofType TotalCoinsMined TotalCoinSupply\n",
       "42      42 Coin    Scrypt   PoW/PoS              42              42\n",
       "404     404Coin    Scrypt   PoW/PoS     1.05518e+09        5.32e+08\n",
       "808         808   SHA-256   PoW/PoS             one             one\n",
       "1337  EliteCoin       X13   PoW/PoS     2.92794e+10     3.14159e+11\n",
       "BTC     Bitcoin   SHA-256       PoW     1.79272e+07         2.1e+07"
      ]
     },
     "execution_count": 65,
     "metadata": {},
     "output_type": "execute_result"
    }
   ],
   "source": [
    "df.head()"
   ]
  },
  {
   "cell_type": "code",
   "execution_count": 66,
   "metadata": {},
   "outputs": [
    {
     "data": {
      "text/html": [
       "<div>\n",
       "<style scoped>\n",
       "    .dataframe tbody tr th:only-of-type {\n",
       "        vertical-align: middle;\n",
       "    }\n",
       "\n",
       "    .dataframe tbody tr th {\n",
       "        vertical-align: top;\n",
       "    }\n",
       "\n",
       "    .dataframe thead th {\n",
       "        text-align: right;\n",
       "    }\n",
       "</style>\n",
       "<table border=\"1\" class=\"dataframe\">\n",
       "  <thead>\n",
       "    <tr style=\"text-align: right;\">\n",
       "      <th></th>\n",
       "      <th>CoinName</th>\n",
       "      <th>Algorithm</th>\n",
       "      <th>ProofType</th>\n",
       "      <th>TotalCoinsMined</th>\n",
       "      <th>TotalCoinSupply</th>\n",
       "    </tr>\n",
       "  </thead>\n",
       "  <tbody>\n",
       "    <tr>\n",
       "      <th>42</th>\n",
       "      <td>42 Coin</td>\n",
       "      <td>Scrypt</td>\n",
       "      <td>PoW/PoS</td>\n",
       "      <td>42</td>\n",
       "      <td>42</td>\n",
       "    </tr>\n",
       "    <tr>\n",
       "      <th>404</th>\n",
       "      <td>404Coin</td>\n",
       "      <td>Scrypt</td>\n",
       "      <td>PoW/PoS</td>\n",
       "      <td>1.05518e+09</td>\n",
       "      <td>5.32e+08</td>\n",
       "    </tr>\n",
       "    <tr>\n",
       "      <th>808</th>\n",
       "      <td>808</td>\n",
       "      <td>SHA-256</td>\n",
       "      <td>PoW/PoS</td>\n",
       "      <td>NaN</td>\n",
       "      <td>NaN</td>\n",
       "    </tr>\n",
       "    <tr>\n",
       "      <th>1337</th>\n",
       "      <td>EliteCoin</td>\n",
       "      <td>X13</td>\n",
       "      <td>PoW/PoS</td>\n",
       "      <td>2.92794e+10</td>\n",
       "      <td>3.14159e+11</td>\n",
       "    </tr>\n",
       "    <tr>\n",
       "      <th>BTC</th>\n",
       "      <td>Bitcoin</td>\n",
       "      <td>SHA-256</td>\n",
       "      <td>PoW</td>\n",
       "      <td>1.79272e+07</td>\n",
       "      <td>2.1e+07</td>\n",
       "    </tr>\n",
       "  </tbody>\n",
       "</table>\n",
       "</div>"
      ],
      "text/plain": [
       "       CoinName Algorithm ProofType TotalCoinsMined TotalCoinSupply\n",
       "42      42 Coin    Scrypt   PoW/PoS              42              42\n",
       "404     404Coin    Scrypt   PoW/PoS     1.05518e+09        5.32e+08\n",
       "808         808   SHA-256   PoW/PoS             NaN             NaN\n",
       "1337  EliteCoin       X13   PoW/PoS     2.92794e+10     3.14159e+11\n",
       "BTC     Bitcoin   SHA-256       PoW     1.79272e+07         2.1e+07"
      ]
     },
     "execution_count": 66,
     "metadata": {},
     "output_type": "execute_result"
    }
   ],
   "source": [
    "df2 = df[df != 'one']\n",
    "\n",
    "df2.head()"
   ]
  },
  {
   "cell_type": "code",
   "execution_count": 67,
   "metadata": {},
   "outputs": [
    {
     "name": "stdout",
     "output_type": "stream",
     "text": [
      "<class 'pandas.core.frame.DataFrame'>\n",
      "Index: 498 entries, 42 to XBC\n",
      "Data columns (total 5 columns):\n",
      " #   Column           Non-Null Count  Dtype \n",
      "---  ------           --------------  ----- \n",
      " 0   CoinName         498 non-null    object\n",
      " 1   Algorithm        498 non-null    object\n",
      " 2   ProofType        498 non-null    object\n",
      " 3   TotalCoinsMined  498 non-null    object\n",
      " 4   TotalCoinSupply  498 non-null    object\n",
      "dtypes: object(5)\n",
      "memory usage: 23.3+ KB\n"
     ]
    }
   ],
   "source": [
    "df2 = df2.dropna(axis=0, how='any')\n",
    "\n",
    "df2.info()"
   ]
  },
  {
   "cell_type": "code",
   "execution_count": 68,
   "metadata": {},
   "outputs": [
    {
     "data": {
      "text/html": [
       "<div>\n",
       "<style scoped>\n",
       "    .dataframe tbody tr th:only-of-type {\n",
       "        vertical-align: middle;\n",
       "    }\n",
       "\n",
       "    .dataframe tbody tr th {\n",
       "        vertical-align: top;\n",
       "    }\n",
       "\n",
       "    .dataframe thead th {\n",
       "        text-align: right;\n",
       "    }\n",
       "</style>\n",
       "<table border=\"1\" class=\"dataframe\">\n",
       "  <thead>\n",
       "    <tr style=\"text-align: right;\">\n",
       "      <th></th>\n",
       "      <th>CoinName</th>\n",
       "      <th>Algorithm</th>\n",
       "      <th>ProofType</th>\n",
       "      <th>TotalCoinsMined</th>\n",
       "      <th>TotalCoinSupply</th>\n",
       "    </tr>\n",
       "  </thead>\n",
       "  <tbody>\n",
       "    <tr>\n",
       "      <th>42</th>\n",
       "      <td>42 Coin</td>\n",
       "      <td>Scrypt</td>\n",
       "      <td>PoW/PoS</td>\n",
       "      <td>42</td>\n",
       "      <td>42</td>\n",
       "    </tr>\n",
       "    <tr>\n",
       "      <th>404</th>\n",
       "      <td>404Coin</td>\n",
       "      <td>Scrypt</td>\n",
       "      <td>PoW/PoS</td>\n",
       "      <td>1.05518e+09</td>\n",
       "      <td>5.32e+08</td>\n",
       "    </tr>\n",
       "    <tr>\n",
       "      <th>1337</th>\n",
       "      <td>EliteCoin</td>\n",
       "      <td>X13</td>\n",
       "      <td>PoW/PoS</td>\n",
       "      <td>2.92794e+10</td>\n",
       "      <td>3.14159e+11</td>\n",
       "    </tr>\n",
       "    <tr>\n",
       "      <th>BTC</th>\n",
       "      <td>Bitcoin</td>\n",
       "      <td>SHA-256</td>\n",
       "      <td>PoW</td>\n",
       "      <td>1.79272e+07</td>\n",
       "      <td>2.1e+07</td>\n",
       "    </tr>\n",
       "    <tr>\n",
       "      <th>LTC</th>\n",
       "      <td>Litecoin</td>\n",
       "      <td>Scrypt</td>\n",
       "      <td>PoW</td>\n",
       "      <td>6.30392e+07</td>\n",
       "      <td>8.4e+07</td>\n",
       "    </tr>\n",
       "  </tbody>\n",
       "</table>\n",
       "</div>"
      ],
      "text/plain": [
       "       CoinName Algorithm ProofType TotalCoinsMined TotalCoinSupply\n",
       "42      42 Coin    Scrypt   PoW/PoS              42              42\n",
       "404     404Coin    Scrypt   PoW/PoS     1.05518e+09        5.32e+08\n",
       "1337  EliteCoin       X13   PoW/PoS     2.92794e+10     3.14159e+11\n",
       "BTC     Bitcoin   SHA-256       PoW     1.79272e+07         2.1e+07\n",
       "LTC    Litecoin    Scrypt       PoW     6.30392e+07         8.4e+07"
      ]
     },
     "execution_count": 68,
     "metadata": {},
     "output_type": "execute_result"
    }
   ],
   "source": [
    "df2.head()"
   ]
  },
  {
   "cell_type": "code",
   "execution_count": 69,
   "metadata": {},
   "outputs": [],
   "source": [
    "\n",
    "crypto_df = df2\n",
    "\n",
    "copy_df = crypto_df.copy()"
   ]
  },
  {
   "cell_type": "code",
   "execution_count": 70,
   "metadata": {},
   "outputs": [
    {
     "data": {
      "text/html": [
       "<div>\n",
       "<style scoped>\n",
       "    .dataframe tbody tr th:only-of-type {\n",
       "        vertical-align: middle;\n",
       "    }\n",
       "\n",
       "    .dataframe tbody tr th {\n",
       "        vertical-align: top;\n",
       "    }\n",
       "\n",
       "    .dataframe thead th {\n",
       "        text-align: right;\n",
       "    }\n",
       "</style>\n",
       "<table border=\"1\" class=\"dataframe\">\n",
       "  <thead>\n",
       "    <tr style=\"text-align: right;\">\n",
       "      <th></th>\n",
       "    </tr>\n",
       "    <tr>\n",
       "      <th>CoinName</th>\n",
       "    </tr>\n",
       "  </thead>\n",
       "  <tbody>\n",
       "    <tr>\n",
       "      <th>42 Coin</th>\n",
       "    </tr>\n",
       "    <tr>\n",
       "      <th>404Coin</th>\n",
       "    </tr>\n",
       "    <tr>\n",
       "      <th>EliteCoin</th>\n",
       "    </tr>\n",
       "    <tr>\n",
       "      <th>Bitcoin</th>\n",
       "    </tr>\n",
       "    <tr>\n",
       "      <th>Litecoin</th>\n",
       "    </tr>\n",
       "  </tbody>\n",
       "</table>\n",
       "</div>"
      ],
      "text/plain": [
       "Empty DataFrame\n",
       "Columns: []\n",
       "Index: [42 Coin, 404Coin, EliteCoin, Bitcoin, Litecoin]"
      ]
     },
     "execution_count": 70,
     "metadata": {},
     "output_type": "execute_result"
    }
   ],
   "source": [
    " # Fetch the cryptocurrencies names prior to drop them from crypto_df\n",
    "coins_name = pd.DataFrame(index = copy_df['CoinName'])\n",
    "\n",
    "\n",
    "\n",
    "y = coins_name\n",
    "\n",
    "y.head()"
   ]
  },
  {
   "cell_type": "code",
   "execution_count": 71,
   "metadata": {},
   "outputs": [
    {
     "data": {
      "text/html": [
       "<div>\n",
       "<style scoped>\n",
       "    .dataframe tbody tr th:only-of-type {\n",
       "        vertical-align: middle;\n",
       "    }\n",
       "\n",
       "    .dataframe tbody tr th {\n",
       "        vertical-align: top;\n",
       "    }\n",
       "\n",
       "    .dataframe thead th {\n",
       "        text-align: right;\n",
       "    }\n",
       "</style>\n",
       "<table border=\"1\" class=\"dataframe\">\n",
       "  <thead>\n",
       "    <tr style=\"text-align: right;\">\n",
       "      <th></th>\n",
       "      <th>Algorithm</th>\n",
       "      <th>ProofType</th>\n",
       "      <th>TotalCoinsMined</th>\n",
       "      <th>TotalCoinSupply</th>\n",
       "    </tr>\n",
       "  </thead>\n",
       "  <tbody>\n",
       "    <tr>\n",
       "      <th>42</th>\n",
       "      <td>Scrypt</td>\n",
       "      <td>PoW/PoS</td>\n",
       "      <td>42</td>\n",
       "      <td>42</td>\n",
       "    </tr>\n",
       "    <tr>\n",
       "      <th>404</th>\n",
       "      <td>Scrypt</td>\n",
       "      <td>PoW/PoS</td>\n",
       "      <td>1.05518e+09</td>\n",
       "      <td>5.32e+08</td>\n",
       "    </tr>\n",
       "    <tr>\n",
       "      <th>1337</th>\n",
       "      <td>X13</td>\n",
       "      <td>PoW/PoS</td>\n",
       "      <td>2.92794e+10</td>\n",
       "      <td>3.14159e+11</td>\n",
       "    </tr>\n",
       "    <tr>\n",
       "      <th>BTC</th>\n",
       "      <td>SHA-256</td>\n",
       "      <td>PoW</td>\n",
       "      <td>1.79272e+07</td>\n",
       "      <td>2.1e+07</td>\n",
       "    </tr>\n",
       "    <tr>\n",
       "      <th>LTC</th>\n",
       "      <td>Scrypt</td>\n",
       "      <td>PoW</td>\n",
       "      <td>6.30392e+07</td>\n",
       "      <td>8.4e+07</td>\n",
       "    </tr>\n",
       "  </tbody>\n",
       "</table>\n",
       "</div>"
      ],
      "text/plain": [
       "     Algorithm ProofType TotalCoinsMined TotalCoinSupply\n",
       "42      Scrypt   PoW/PoS              42              42\n",
       "404     Scrypt   PoW/PoS     1.05518e+09        5.32e+08\n",
       "1337       X13   PoW/PoS     2.92794e+10     3.14159e+11\n",
       "BTC    SHA-256       PoW     1.79272e+07         2.1e+07\n",
       "LTC     Scrypt       PoW     6.30392e+07         8.4e+07"
      ]
     },
     "execution_count": 71,
     "metadata": {},
     "output_type": "execute_result"
    }
   ],
   "source": [
    "new_df = copy_df.drop(columns=['CoinName'])\n",
    "new_df.head()"
   ]
  },
  {
   "cell_type": "code",
   "execution_count": 72,
   "metadata": {},
   "outputs": [],
   "source": [
    "#Removig the cryptocurrency name since it's not going to be used on the clustering algorithm\n",
    "\n",
    "\n",
    "from sklearn.preprocessing import OneHotEncoder, StandardScaler"
   ]
  },
  {
   "cell_type": "code",
   "execution_count": 73,
   "metadata": {},
   "outputs": [
    {
     "data": {
      "text/html": [
       "<div>\n",
       "<style scoped>\n",
       "    .dataframe tbody tr th:only-of-type {\n",
       "        vertical-align: middle;\n",
       "    }\n",
       "\n",
       "    .dataframe tbody tr th {\n",
       "        vertical-align: top;\n",
       "    }\n",
       "\n",
       "    .dataframe thead th {\n",
       "        text-align: right;\n",
       "    }\n",
       "</style>\n",
       "<table border=\"1\" class=\"dataframe\">\n",
       "  <thead>\n",
       "    <tr style=\"text-align: right;\">\n",
       "      <th></th>\n",
       "      <th>Algorithm</th>\n",
       "      <th>ProofType</th>\n",
       "      <th>TotalCoinsMined</th>\n",
       "      <th>TotalCoinSupply</th>\n",
       "    </tr>\n",
       "  </thead>\n",
       "  <tbody>\n",
       "    <tr>\n",
       "      <th>42</th>\n",
       "      <td>Scrypt</td>\n",
       "      <td>PoW/PoS</td>\n",
       "      <td>42</td>\n",
       "      <td>42</td>\n",
       "    </tr>\n",
       "    <tr>\n",
       "      <th>404</th>\n",
       "      <td>Scrypt</td>\n",
       "      <td>PoW/PoS</td>\n",
       "      <td>1.05518e+09</td>\n",
       "      <td>5.32e+08</td>\n",
       "    </tr>\n",
       "    <tr>\n",
       "      <th>1337</th>\n",
       "      <td>X13</td>\n",
       "      <td>PoW/PoS</td>\n",
       "      <td>2.92794e+10</td>\n",
       "      <td>3.14159e+11</td>\n",
       "    </tr>\n",
       "    <tr>\n",
       "      <th>BTC</th>\n",
       "      <td>SHA-256</td>\n",
       "      <td>PoW</td>\n",
       "      <td>1.79272e+07</td>\n",
       "      <td>2.1e+07</td>\n",
       "    </tr>\n",
       "    <tr>\n",
       "      <th>LTC</th>\n",
       "      <td>Scrypt</td>\n",
       "      <td>PoW</td>\n",
       "      <td>6.30392e+07</td>\n",
       "      <td>8.4e+07</td>\n",
       "    </tr>\n",
       "  </tbody>\n",
       "</table>\n",
       "</div>"
      ],
      "text/plain": [
       "     Algorithm ProofType TotalCoinsMined TotalCoinSupply\n",
       "42      Scrypt   PoW/PoS              42              42\n",
       "404     Scrypt   PoW/PoS     1.05518e+09        5.32e+08\n",
       "1337       X13   PoW/PoS     2.92794e+10     3.14159e+11\n",
       "BTC    SHA-256       PoW     1.79272e+07         2.1e+07\n",
       "LTC     Scrypt       PoW     6.30392e+07         8.4e+07"
      ]
     },
     "execution_count": 73,
     "metadata": {},
     "output_type": "execute_result"
    }
   ],
   "source": [
    "new_df.head()"
   ]
  },
  {
   "cell_type": "code",
   "execution_count": 74,
   "metadata": {},
   "outputs": [],
   "source": [
    "# Creating dummies variables for text features\n",
    "X = pd.get_dummies(new_df,columns=['Algorithm', 'ProofType'])"
   ]
  },
  {
   "cell_type": "code",
   "execution_count": 75,
   "metadata": {},
   "outputs": [
    {
     "data": {
      "text/html": [
       "<div>\n",
       "<style scoped>\n",
       "    .dataframe tbody tr th:only-of-type {\n",
       "        vertical-align: middle;\n",
       "    }\n",
       "\n",
       "    .dataframe tbody tr th {\n",
       "        vertical-align: top;\n",
       "    }\n",
       "\n",
       "    .dataframe thead th {\n",
       "        text-align: right;\n",
       "    }\n",
       "</style>\n",
       "<table border=\"1\" class=\"dataframe\">\n",
       "  <thead>\n",
       "    <tr style=\"text-align: right;\">\n",
       "      <th></th>\n",
       "      <th>TotalCoinsMined</th>\n",
       "      <th>TotalCoinSupply</th>\n",
       "      <th>Algorithm_1GB AES Pattern Search</th>\n",
       "      <th>Algorithm_536</th>\n",
       "      <th>Algorithm_BLAKE256</th>\n",
       "      <th>Algorithm_Blake</th>\n",
       "      <th>Algorithm_Blake2S</th>\n",
       "      <th>Algorithm_Blake2b</th>\n",
       "      <th>Algorithm_C11</th>\n",
       "      <th>Algorithm_Cloverhash</th>\n",
       "      <th>...</th>\n",
       "      <th>ProofType_PoW/PoS</th>\n",
       "      <th>ProofType_PoW/PoS</th>\n",
       "      <th>ProofType_PoW/PoW</th>\n",
       "      <th>ProofType_PoW/nPoS</th>\n",
       "      <th>ProofType_Pos</th>\n",
       "      <th>ProofType_Proof of Authority</th>\n",
       "      <th>ProofType_Proof of Trust</th>\n",
       "      <th>ProofType_TPoS</th>\n",
       "      <th>ProofType_Zero-Knowledge Proof</th>\n",
       "      <th>ProofType_dPoW/PoW</th>\n",
       "    </tr>\n",
       "  </thead>\n",
       "  <tbody>\n",
       "    <tr>\n",
       "      <th>42</th>\n",
       "      <td>42</td>\n",
       "      <td>42</td>\n",
       "      <td>0</td>\n",
       "      <td>0</td>\n",
       "      <td>0</td>\n",
       "      <td>0</td>\n",
       "      <td>0</td>\n",
       "      <td>0</td>\n",
       "      <td>0</td>\n",
       "      <td>0</td>\n",
       "      <td>...</td>\n",
       "      <td>1</td>\n",
       "      <td>0</td>\n",
       "      <td>0</td>\n",
       "      <td>0</td>\n",
       "      <td>0</td>\n",
       "      <td>0</td>\n",
       "      <td>0</td>\n",
       "      <td>0</td>\n",
       "      <td>0</td>\n",
       "      <td>0</td>\n",
       "    </tr>\n",
       "    <tr>\n",
       "      <th>404</th>\n",
       "      <td>1.05518e+09</td>\n",
       "      <td>5.32e+08</td>\n",
       "      <td>0</td>\n",
       "      <td>0</td>\n",
       "      <td>0</td>\n",
       "      <td>0</td>\n",
       "      <td>0</td>\n",
       "      <td>0</td>\n",
       "      <td>0</td>\n",
       "      <td>0</td>\n",
       "      <td>...</td>\n",
       "      <td>1</td>\n",
       "      <td>0</td>\n",
       "      <td>0</td>\n",
       "      <td>0</td>\n",
       "      <td>0</td>\n",
       "      <td>0</td>\n",
       "      <td>0</td>\n",
       "      <td>0</td>\n",
       "      <td>0</td>\n",
       "      <td>0</td>\n",
       "    </tr>\n",
       "    <tr>\n",
       "      <th>1337</th>\n",
       "      <td>2.92794e+10</td>\n",
       "      <td>3.14159e+11</td>\n",
       "      <td>0</td>\n",
       "      <td>0</td>\n",
       "      <td>0</td>\n",
       "      <td>0</td>\n",
       "      <td>0</td>\n",
       "      <td>0</td>\n",
       "      <td>0</td>\n",
       "      <td>0</td>\n",
       "      <td>...</td>\n",
       "      <td>1</td>\n",
       "      <td>0</td>\n",
       "      <td>0</td>\n",
       "      <td>0</td>\n",
       "      <td>0</td>\n",
       "      <td>0</td>\n",
       "      <td>0</td>\n",
       "      <td>0</td>\n",
       "      <td>0</td>\n",
       "      <td>0</td>\n",
       "    </tr>\n",
       "    <tr>\n",
       "      <th>BTC</th>\n",
       "      <td>1.79272e+07</td>\n",
       "      <td>2.1e+07</td>\n",
       "      <td>0</td>\n",
       "      <td>0</td>\n",
       "      <td>0</td>\n",
       "      <td>0</td>\n",
       "      <td>0</td>\n",
       "      <td>0</td>\n",
       "      <td>0</td>\n",
       "      <td>0</td>\n",
       "      <td>...</td>\n",
       "      <td>0</td>\n",
       "      <td>0</td>\n",
       "      <td>0</td>\n",
       "      <td>0</td>\n",
       "      <td>0</td>\n",
       "      <td>0</td>\n",
       "      <td>0</td>\n",
       "      <td>0</td>\n",
       "      <td>0</td>\n",
       "      <td>0</td>\n",
       "    </tr>\n",
       "    <tr>\n",
       "      <th>LTC</th>\n",
       "      <td>6.30392e+07</td>\n",
       "      <td>8.4e+07</td>\n",
       "      <td>0</td>\n",
       "      <td>0</td>\n",
       "      <td>0</td>\n",
       "      <td>0</td>\n",
       "      <td>0</td>\n",
       "      <td>0</td>\n",
       "      <td>0</td>\n",
       "      <td>0</td>\n",
       "      <td>...</td>\n",
       "      <td>0</td>\n",
       "      <td>0</td>\n",
       "      <td>0</td>\n",
       "      <td>0</td>\n",
       "      <td>0</td>\n",
       "      <td>0</td>\n",
       "      <td>0</td>\n",
       "      <td>0</td>\n",
       "      <td>0</td>\n",
       "      <td>0</td>\n",
       "    </tr>\n",
       "    <tr>\n",
       "      <th>...</th>\n",
       "      <td>...</td>\n",
       "      <td>...</td>\n",
       "      <td>...</td>\n",
       "      <td>...</td>\n",
       "      <td>...</td>\n",
       "      <td>...</td>\n",
       "      <td>...</td>\n",
       "      <td>...</td>\n",
       "      <td>...</td>\n",
       "      <td>...</td>\n",
       "      <td>...</td>\n",
       "      <td>...</td>\n",
       "      <td>...</td>\n",
       "      <td>...</td>\n",
       "      <td>...</td>\n",
       "      <td>...</td>\n",
       "      <td>...</td>\n",
       "      <td>...</td>\n",
       "      <td>...</td>\n",
       "      <td>...</td>\n",
       "      <td>...</td>\n",
       "    </tr>\n",
       "    <tr>\n",
       "      <th>ZEPH</th>\n",
       "      <td>2e+09</td>\n",
       "      <td>2e+09</td>\n",
       "      <td>0</td>\n",
       "      <td>0</td>\n",
       "      <td>0</td>\n",
       "      <td>0</td>\n",
       "      <td>0</td>\n",
       "      <td>0</td>\n",
       "      <td>0</td>\n",
       "      <td>0</td>\n",
       "      <td>...</td>\n",
       "      <td>0</td>\n",
       "      <td>0</td>\n",
       "      <td>0</td>\n",
       "      <td>0</td>\n",
       "      <td>0</td>\n",
       "      <td>0</td>\n",
       "      <td>0</td>\n",
       "      <td>0</td>\n",
       "      <td>0</td>\n",
       "      <td>0</td>\n",
       "    </tr>\n",
       "    <tr>\n",
       "      <th>GAP</th>\n",
       "      <td>1.4931e+07</td>\n",
       "      <td>2.5e+08</td>\n",
       "      <td>0</td>\n",
       "      <td>0</td>\n",
       "      <td>0</td>\n",
       "      <td>0</td>\n",
       "      <td>0</td>\n",
       "      <td>0</td>\n",
       "      <td>0</td>\n",
       "      <td>0</td>\n",
       "      <td>...</td>\n",
       "      <td>1</td>\n",
       "      <td>0</td>\n",
       "      <td>0</td>\n",
       "      <td>0</td>\n",
       "      <td>0</td>\n",
       "      <td>0</td>\n",
       "      <td>0</td>\n",
       "      <td>0</td>\n",
       "      <td>0</td>\n",
       "      <td>0</td>\n",
       "    </tr>\n",
       "    <tr>\n",
       "      <th>BDX</th>\n",
       "      <td>9.80223e+08</td>\n",
       "      <td>1.40022e+09</td>\n",
       "      <td>0</td>\n",
       "      <td>0</td>\n",
       "      <td>0</td>\n",
       "      <td>0</td>\n",
       "      <td>0</td>\n",
       "      <td>0</td>\n",
       "      <td>0</td>\n",
       "      <td>0</td>\n",
       "      <td>...</td>\n",
       "      <td>0</td>\n",
       "      <td>0</td>\n",
       "      <td>0</td>\n",
       "      <td>0</td>\n",
       "      <td>0</td>\n",
       "      <td>0</td>\n",
       "      <td>0</td>\n",
       "      <td>0</td>\n",
       "      <td>0</td>\n",
       "      <td>0</td>\n",
       "    </tr>\n",
       "    <tr>\n",
       "      <th>ZEN</th>\n",
       "      <td>7.29654e+06</td>\n",
       "      <td>2.1e+07</td>\n",
       "      <td>0</td>\n",
       "      <td>0</td>\n",
       "      <td>0</td>\n",
       "      <td>0</td>\n",
       "      <td>0</td>\n",
       "      <td>0</td>\n",
       "      <td>0</td>\n",
       "      <td>0</td>\n",
       "      <td>...</td>\n",
       "      <td>0</td>\n",
       "      <td>0</td>\n",
       "      <td>0</td>\n",
       "      <td>0</td>\n",
       "      <td>0</td>\n",
       "      <td>0</td>\n",
       "      <td>0</td>\n",
       "      <td>0</td>\n",
       "      <td>0</td>\n",
       "      <td>0</td>\n",
       "    </tr>\n",
       "    <tr>\n",
       "      <th>XBC</th>\n",
       "      <td>128327</td>\n",
       "      <td>1e+06</td>\n",
       "      <td>0</td>\n",
       "      <td>0</td>\n",
       "      <td>0</td>\n",
       "      <td>0</td>\n",
       "      <td>0</td>\n",
       "      <td>0</td>\n",
       "      <td>0</td>\n",
       "      <td>0</td>\n",
       "      <td>...</td>\n",
       "      <td>0</td>\n",
       "      <td>0</td>\n",
       "      <td>0</td>\n",
       "      <td>0</td>\n",
       "      <td>0</td>\n",
       "      <td>0</td>\n",
       "      <td>0</td>\n",
       "      <td>0</td>\n",
       "      <td>0</td>\n",
       "      <td>0</td>\n",
       "    </tr>\n",
       "  </tbody>\n",
       "</table>\n",
       "<p>498 rows × 97 columns</p>\n",
       "</div>"
      ],
      "text/plain": [
       "     TotalCoinsMined TotalCoinSupply  Algorithm_1GB AES Pattern Search  \\\n",
       "42                42              42                                 0   \n",
       "404      1.05518e+09        5.32e+08                                 0   \n",
       "1337     2.92794e+10     3.14159e+11                                 0   \n",
       "BTC      1.79272e+07         2.1e+07                                 0   \n",
       "LTC      6.30392e+07         8.4e+07                                 0   \n",
       "...              ...             ...                               ...   \n",
       "ZEPH           2e+09           2e+09                                 0   \n",
       "GAP       1.4931e+07         2.5e+08                                 0   \n",
       "BDX      9.80223e+08     1.40022e+09                                 0   \n",
       "ZEN      7.29654e+06         2.1e+07                                 0   \n",
       "XBC           128327           1e+06                                 0   \n",
       "\n",
       "      Algorithm_536  Algorithm_BLAKE256  Algorithm_Blake  Algorithm_Blake2S  \\\n",
       "42                0                   0                0                  0   \n",
       "404               0                   0                0                  0   \n",
       "1337              0                   0                0                  0   \n",
       "BTC               0                   0                0                  0   \n",
       "LTC               0                   0                0                  0   \n",
       "...             ...                 ...              ...                ...   \n",
       "ZEPH              0                   0                0                  0   \n",
       "GAP               0                   0                0                  0   \n",
       "BDX               0                   0                0                  0   \n",
       "ZEN               0                   0                0                  0   \n",
       "XBC               0                   0                0                  0   \n",
       "\n",
       "      Algorithm_Blake2b  Algorithm_C11  Algorithm_Cloverhash  ...  \\\n",
       "42                    0              0                     0  ...   \n",
       "404                   0              0                     0  ...   \n",
       "1337                  0              0                     0  ...   \n",
       "BTC                   0              0                     0  ...   \n",
       "LTC                   0              0                     0  ...   \n",
       "...                 ...            ...                   ...  ...   \n",
       "ZEPH                  0              0                     0  ...   \n",
       "GAP                   0              0                     0  ...   \n",
       "BDX                   0              0                     0  ...   \n",
       "ZEN                   0              0                     0  ...   \n",
       "XBC                   0              0                     0  ...   \n",
       "\n",
       "      ProofType_PoW/PoS  ProofType_PoW/PoS   ProofType_PoW/PoW  \\\n",
       "42                    1                   0                  0   \n",
       "404                   1                   0                  0   \n",
       "1337                  1                   0                  0   \n",
       "BTC                   0                   0                  0   \n",
       "LTC                   0                   0                  0   \n",
       "...                 ...                 ...                ...   \n",
       "ZEPH                  0                   0                  0   \n",
       "GAP                   1                   0                  0   \n",
       "BDX                   0                   0                  0   \n",
       "ZEN                   0                   0                  0   \n",
       "XBC                   0                   0                  0   \n",
       "\n",
       "      ProofType_PoW/nPoS  ProofType_Pos  ProofType_Proof of Authority  \\\n",
       "42                     0              0                             0   \n",
       "404                    0              0                             0   \n",
       "1337                   0              0                             0   \n",
       "BTC                    0              0                             0   \n",
       "LTC                    0              0                             0   \n",
       "...                  ...            ...                           ...   \n",
       "ZEPH                   0              0                             0   \n",
       "GAP                    0              0                             0   \n",
       "BDX                    0              0                             0   \n",
       "ZEN                    0              0                             0   \n",
       "XBC                    0              0                             0   \n",
       "\n",
       "      ProofType_Proof of Trust  ProofType_TPoS  \\\n",
       "42                           0               0   \n",
       "404                          0               0   \n",
       "1337                         0               0   \n",
       "BTC                          0               0   \n",
       "LTC                          0               0   \n",
       "...                        ...             ...   \n",
       "ZEPH                         0               0   \n",
       "GAP                          0               0   \n",
       "BDX                          0               0   \n",
       "ZEN                          0               0   \n",
       "XBC                          0               0   \n",
       "\n",
       "      ProofType_Zero-Knowledge Proof  ProofType_dPoW/PoW  \n",
       "42                                 0                   0  \n",
       "404                                0                   0  \n",
       "1337                               0                   0  \n",
       "BTC                                0                   0  \n",
       "LTC                                0                   0  \n",
       "...                              ...                 ...  \n",
       "ZEPH                               0                   0  \n",
       "GAP                                0                   0  \n",
       "BDX                                0                   0  \n",
       "ZEN                                0                   0  \n",
       "XBC                                0                   0  \n",
       "\n",
       "[498 rows x 97 columns]"
      ]
     },
     "execution_count": 75,
     "metadata": {},
     "output_type": "execute_result"
    }
   ],
   "source": [
    "\n",
    "X"
   ]
  },
  {
   "cell_type": "code",
   "execution_count": 76,
   "metadata": {},
   "outputs": [
    {
     "data": {
      "text/html": [
       "<div>\n",
       "<style scoped>\n",
       "    .dataframe tbody tr th:only-of-type {\n",
       "        vertical-align: middle;\n",
       "    }\n",
       "\n",
       "    .dataframe tbody tr th {\n",
       "        vertical-align: top;\n",
       "    }\n",
       "\n",
       "    .dataframe thead th {\n",
       "        text-align: right;\n",
       "    }\n",
       "</style>\n",
       "<table border=\"1\" class=\"dataframe\">\n",
       "  <thead>\n",
       "    <tr style=\"text-align: right;\">\n",
       "      <th></th>\n",
       "      <th>Algorithm_1GB AES Pattern Search</th>\n",
       "      <th>Algorithm_536</th>\n",
       "      <th>Algorithm_BLAKE256</th>\n",
       "      <th>Algorithm_Blake</th>\n",
       "      <th>Algorithm_Blake2S</th>\n",
       "      <th>Algorithm_Blake2b</th>\n",
       "      <th>Algorithm_C11</th>\n",
       "      <th>Algorithm_Cloverhash</th>\n",
       "      <th>Algorithm_Counterparty</th>\n",
       "      <th>Algorithm_CryptoNight</th>\n",
       "      <th>...</th>\n",
       "      <th>ProofType_PoW/PoS</th>\n",
       "      <th>ProofType_PoW/PoS</th>\n",
       "      <th>ProofType_PoW/PoW</th>\n",
       "      <th>ProofType_PoW/nPoS</th>\n",
       "      <th>ProofType_Pos</th>\n",
       "      <th>ProofType_Proof of Authority</th>\n",
       "      <th>ProofType_Proof of Trust</th>\n",
       "      <th>ProofType_TPoS</th>\n",
       "      <th>ProofType_Zero-Knowledge Proof</th>\n",
       "      <th>ProofType_dPoW/PoW</th>\n",
       "    </tr>\n",
       "  </thead>\n",
       "  <tbody>\n",
       "    <tr>\n",
       "      <th>42</th>\n",
       "      <td>0</td>\n",
       "      <td>0</td>\n",
       "      <td>0</td>\n",
       "      <td>0</td>\n",
       "      <td>0</td>\n",
       "      <td>0</td>\n",
       "      <td>0</td>\n",
       "      <td>0</td>\n",
       "      <td>0</td>\n",
       "      <td>0</td>\n",
       "      <td>...</td>\n",
       "      <td>1</td>\n",
       "      <td>0</td>\n",
       "      <td>0</td>\n",
       "      <td>0</td>\n",
       "      <td>0</td>\n",
       "      <td>0</td>\n",
       "      <td>0</td>\n",
       "      <td>0</td>\n",
       "      <td>0</td>\n",
       "      <td>0</td>\n",
       "    </tr>\n",
       "    <tr>\n",
       "      <th>404</th>\n",
       "      <td>0</td>\n",
       "      <td>0</td>\n",
       "      <td>0</td>\n",
       "      <td>0</td>\n",
       "      <td>0</td>\n",
       "      <td>0</td>\n",
       "      <td>0</td>\n",
       "      <td>0</td>\n",
       "      <td>0</td>\n",
       "      <td>0</td>\n",
       "      <td>...</td>\n",
       "      <td>1</td>\n",
       "      <td>0</td>\n",
       "      <td>0</td>\n",
       "      <td>0</td>\n",
       "      <td>0</td>\n",
       "      <td>0</td>\n",
       "      <td>0</td>\n",
       "      <td>0</td>\n",
       "      <td>0</td>\n",
       "      <td>0</td>\n",
       "    </tr>\n",
       "    <tr>\n",
       "      <th>1337</th>\n",
       "      <td>0</td>\n",
       "      <td>0</td>\n",
       "      <td>0</td>\n",
       "      <td>0</td>\n",
       "      <td>0</td>\n",
       "      <td>0</td>\n",
       "      <td>0</td>\n",
       "      <td>0</td>\n",
       "      <td>0</td>\n",
       "      <td>0</td>\n",
       "      <td>...</td>\n",
       "      <td>1</td>\n",
       "      <td>0</td>\n",
       "      <td>0</td>\n",
       "      <td>0</td>\n",
       "      <td>0</td>\n",
       "      <td>0</td>\n",
       "      <td>0</td>\n",
       "      <td>0</td>\n",
       "      <td>0</td>\n",
       "      <td>0</td>\n",
       "    </tr>\n",
       "    <tr>\n",
       "      <th>BTC</th>\n",
       "      <td>0</td>\n",
       "      <td>0</td>\n",
       "      <td>0</td>\n",
       "      <td>0</td>\n",
       "      <td>0</td>\n",
       "      <td>0</td>\n",
       "      <td>0</td>\n",
       "      <td>0</td>\n",
       "      <td>0</td>\n",
       "      <td>0</td>\n",
       "      <td>...</td>\n",
       "      <td>0</td>\n",
       "      <td>0</td>\n",
       "      <td>0</td>\n",
       "      <td>0</td>\n",
       "      <td>0</td>\n",
       "      <td>0</td>\n",
       "      <td>0</td>\n",
       "      <td>0</td>\n",
       "      <td>0</td>\n",
       "      <td>0</td>\n",
       "    </tr>\n",
       "    <tr>\n",
       "      <th>LTC</th>\n",
       "      <td>0</td>\n",
       "      <td>0</td>\n",
       "      <td>0</td>\n",
       "      <td>0</td>\n",
       "      <td>0</td>\n",
       "      <td>0</td>\n",
       "      <td>0</td>\n",
       "      <td>0</td>\n",
       "      <td>0</td>\n",
       "      <td>0</td>\n",
       "      <td>...</td>\n",
       "      <td>0</td>\n",
       "      <td>0</td>\n",
       "      <td>0</td>\n",
       "      <td>0</td>\n",
       "      <td>0</td>\n",
       "      <td>0</td>\n",
       "      <td>0</td>\n",
       "      <td>0</td>\n",
       "      <td>0</td>\n",
       "      <td>0</td>\n",
       "    </tr>\n",
       "  </tbody>\n",
       "</table>\n",
       "<p>5 rows × 95 columns</p>\n",
       "</div>"
      ],
      "text/plain": [
       "      Algorithm_1GB AES Pattern Search  Algorithm_536  Algorithm_BLAKE256  \\\n",
       "42                                   0              0                   0   \n",
       "404                                  0              0                   0   \n",
       "1337                                 0              0                   0   \n",
       "BTC                                  0              0                   0   \n",
       "LTC                                  0              0                   0   \n",
       "\n",
       "      Algorithm_Blake  Algorithm_Blake2S  Algorithm_Blake2b  Algorithm_C11  \\\n",
       "42                  0                  0                  0              0   \n",
       "404                 0                  0                  0              0   \n",
       "1337                0                  0                  0              0   \n",
       "BTC                 0                  0                  0              0   \n",
       "LTC                 0                  0                  0              0   \n",
       "\n",
       "      Algorithm_Cloverhash  Algorithm_Counterparty  Algorithm_CryptoNight  \\\n",
       "42                       0                       0                      0   \n",
       "404                      0                       0                      0   \n",
       "1337                     0                       0                      0   \n",
       "BTC                      0                       0                      0   \n",
       "LTC                      0                       0                      0   \n",
       "\n",
       "      ...  ProofType_PoW/PoS  ProofType_PoW/PoS   ProofType_PoW/PoW  \\\n",
       "42    ...                  1                   0                  0   \n",
       "404   ...                  1                   0                  0   \n",
       "1337  ...                  1                   0                  0   \n",
       "BTC   ...                  0                   0                  0   \n",
       "LTC   ...                  0                   0                  0   \n",
       "\n",
       "      ProofType_PoW/nPoS  ProofType_Pos  ProofType_Proof of Authority  \\\n",
       "42                     0              0                             0   \n",
       "404                    0              0                             0   \n",
       "1337                   0              0                             0   \n",
       "BTC                    0              0                             0   \n",
       "LTC                    0              0                             0   \n",
       "\n",
       "      ProofType_Proof of Trust  ProofType_TPoS  \\\n",
       "42                           0               0   \n",
       "404                          0               0   \n",
       "1337                         0               0   \n",
       "BTC                          0               0   \n",
       "LTC                          0               0   \n",
       "\n",
       "      ProofType_Zero-Knowledge Proof  ProofType_dPoW/PoW  \n",
       "42                                 0                   0  \n",
       "404                                0                   0  \n",
       "1337                               0                   0  \n",
       "BTC                                0                   0  \n",
       "LTC                                0                   0  \n",
       "\n",
       "[5 rows x 95 columns]"
      ]
     },
     "execution_count": 76,
     "metadata": {},
     "output_type": "execute_result"
    }
   ],
   "source": [
    "adjusted = X.iloc[:,2:]\n",
    "adjusted.head()"
   ]
  },
  {
   "cell_type": "code",
   "execution_count": 77,
   "metadata": {},
   "outputs": [
    {
     "data": {
      "text/html": [
       "<div>\n",
       "<style scoped>\n",
       "    .dataframe tbody tr th:only-of-type {\n",
       "        vertical-align: middle;\n",
       "    }\n",
       "\n",
       "    .dataframe tbody tr th {\n",
       "        vertical-align: top;\n",
       "    }\n",
       "\n",
       "    .dataframe thead th {\n",
       "        text-align: right;\n",
       "    }\n",
       "</style>\n",
       "<table border=\"1\" class=\"dataframe\">\n",
       "  <thead>\n",
       "    <tr style=\"text-align: right;\">\n",
       "      <th></th>\n",
       "      <th>TotalCoinsMined</th>\n",
       "      <th>TotalCoinSupply</th>\n",
       "    </tr>\n",
       "  </thead>\n",
       "  <tbody>\n",
       "    <tr>\n",
       "      <th>42</th>\n",
       "      <td>42</td>\n",
       "      <td>42</td>\n",
       "    </tr>\n",
       "    <tr>\n",
       "      <th>404</th>\n",
       "      <td>1.05518e+09</td>\n",
       "      <td>5.32e+08</td>\n",
       "    </tr>\n",
       "    <tr>\n",
       "      <th>1337</th>\n",
       "      <td>2.92794e+10</td>\n",
       "      <td>3.14159e+11</td>\n",
       "    </tr>\n",
       "    <tr>\n",
       "      <th>BTC</th>\n",
       "      <td>1.79272e+07</td>\n",
       "      <td>2.1e+07</td>\n",
       "    </tr>\n",
       "    <tr>\n",
       "      <th>LTC</th>\n",
       "      <td>6.30392e+07</td>\n",
       "      <td>8.4e+07</td>\n",
       "    </tr>\n",
       "  </tbody>\n",
       "</table>\n",
       "</div>"
      ],
      "text/plain": [
       "     TotalCoinsMined TotalCoinSupply\n",
       "42                42              42\n",
       "404      1.05518e+09        5.32e+08\n",
       "1337     2.92794e+10     3.14159e+11\n",
       "BTC      1.79272e+07         2.1e+07\n",
       "LTC      6.30392e+07         8.4e+07"
      ]
     },
     "execution_count": 77,
     "metadata": {},
     "output_type": "execute_result"
    }
   ],
   "source": [
    "# Standardizing data\n",
    "\n",
    "#select data to scale \n",
    "\n",
    "data_to_scale = X.iloc[:,:2]\n",
    "\n",
    "data_to_scale.head()"
   ]
  },
  {
   "cell_type": "code",
   "execution_count": 78,
   "metadata": {},
   "outputs": [
    {
     "data": {
      "text/plain": [
       "StandardScaler()"
      ]
     },
     "execution_count": 78,
     "metadata": {},
     "output_type": "execute_result"
    }
   ],
   "source": [
    "scaler = StandardScaler()\n",
    "\n",
    "scaler.fit(data_to_scale)"
   ]
  },
  {
   "cell_type": "code",
   "execution_count": 79,
   "metadata": {},
   "outputs": [],
   "source": [
    "scaled_data = scaler.transform(data_to_scale)"
   ]
  },
  {
   "cell_type": "code",
   "execution_count": 80,
   "metadata": {},
   "outputs": [
    {
     "data": {
      "text/html": [
       "<div>\n",
       "<style scoped>\n",
       "    .dataframe tbody tr th:only-of-type {\n",
       "        vertical-align: middle;\n",
       "    }\n",
       "\n",
       "    .dataframe tbody tr th {\n",
       "        vertical-align: top;\n",
       "    }\n",
       "\n",
       "    .dataframe thead th {\n",
       "        text-align: right;\n",
       "    }\n",
       "</style>\n",
       "<table border=\"1\" class=\"dataframe\">\n",
       "  <thead>\n",
       "    <tr style=\"text-align: right;\">\n",
       "      <th></th>\n",
       "      <th>TotalCoinsMined</th>\n",
       "      <th>TotalCoinSupply</th>\n",
       "      <th>Algorithm_1GB AES Pattern Search</th>\n",
       "      <th>Algorithm_536</th>\n",
       "      <th>Algorithm_BLAKE256</th>\n",
       "      <th>Algorithm_Blake</th>\n",
       "      <th>Algorithm_Blake2S</th>\n",
       "      <th>Algorithm_Blake2b</th>\n",
       "      <th>Algorithm_C11</th>\n",
       "      <th>Algorithm_Cloverhash</th>\n",
       "      <th>...</th>\n",
       "      <th>ProofType_PoW/PoS</th>\n",
       "      <th>ProofType_PoW/PoS</th>\n",
       "      <th>ProofType_PoW/PoW</th>\n",
       "      <th>ProofType_PoW/nPoS</th>\n",
       "      <th>ProofType_Pos</th>\n",
       "      <th>ProofType_Proof of Authority</th>\n",
       "      <th>ProofType_Proof of Trust</th>\n",
       "      <th>ProofType_TPoS</th>\n",
       "      <th>ProofType_Zero-Knowledge Proof</th>\n",
       "      <th>ProofType_dPoW/PoW</th>\n",
       "    </tr>\n",
       "  </thead>\n",
       "  <tbody>\n",
       "    <tr>\n",
       "      <th>42</th>\n",
       "      <td>-0.110782</td>\n",
       "      <td>-0.158275</td>\n",
       "      <td>0</td>\n",
       "      <td>0</td>\n",
       "      <td>0</td>\n",
       "      <td>0</td>\n",
       "      <td>0</td>\n",
       "      <td>0</td>\n",
       "      <td>0</td>\n",
       "      <td>0</td>\n",
       "      <td>...</td>\n",
       "      <td>1</td>\n",
       "      <td>0</td>\n",
       "      <td>0</td>\n",
       "      <td>0</td>\n",
       "      <td>0</td>\n",
       "      <td>0</td>\n",
       "      <td>0</td>\n",
       "      <td>0</td>\n",
       "      <td>0</td>\n",
       "      <td>0</td>\n",
       "    </tr>\n",
       "    <tr>\n",
       "      <th>404</th>\n",
       "      <td>-0.088176</td>\n",
       "      <td>-0.150663</td>\n",
       "      <td>0</td>\n",
       "      <td>0</td>\n",
       "      <td>0</td>\n",
       "      <td>0</td>\n",
       "      <td>0</td>\n",
       "      <td>0</td>\n",
       "      <td>0</td>\n",
       "      <td>0</td>\n",
       "      <td>...</td>\n",
       "      <td>1</td>\n",
       "      <td>0</td>\n",
       "      <td>0</td>\n",
       "      <td>0</td>\n",
       "      <td>0</td>\n",
       "      <td>0</td>\n",
       "      <td>0</td>\n",
       "      <td>0</td>\n",
       "      <td>0</td>\n",
       "      <td>0</td>\n",
       "    </tr>\n",
       "    <tr>\n",
       "      <th>1337</th>\n",
       "      <td>0.516504</td>\n",
       "      <td>4.336889</td>\n",
       "      <td>0</td>\n",
       "      <td>0</td>\n",
       "      <td>0</td>\n",
       "      <td>0</td>\n",
       "      <td>0</td>\n",
       "      <td>0</td>\n",
       "      <td>0</td>\n",
       "      <td>0</td>\n",
       "      <td>...</td>\n",
       "      <td>1</td>\n",
       "      <td>0</td>\n",
       "      <td>0</td>\n",
       "      <td>0</td>\n",
       "      <td>0</td>\n",
       "      <td>0</td>\n",
       "      <td>0</td>\n",
       "      <td>0</td>\n",
       "      <td>0</td>\n",
       "      <td>0</td>\n",
       "    </tr>\n",
       "    <tr>\n",
       "      <th>BTC</th>\n",
       "      <td>-0.110398</td>\n",
       "      <td>-0.157975</td>\n",
       "      <td>0</td>\n",
       "      <td>0</td>\n",
       "      <td>0</td>\n",
       "      <td>0</td>\n",
       "      <td>0</td>\n",
       "      <td>0</td>\n",
       "      <td>0</td>\n",
       "      <td>0</td>\n",
       "      <td>...</td>\n",
       "      <td>0</td>\n",
       "      <td>0</td>\n",
       "      <td>0</td>\n",
       "      <td>0</td>\n",
       "      <td>0</td>\n",
       "      <td>0</td>\n",
       "      <td>0</td>\n",
       "      <td>0</td>\n",
       "      <td>0</td>\n",
       "      <td>0</td>\n",
       "    </tr>\n",
       "    <tr>\n",
       "      <th>LTC</th>\n",
       "      <td>-0.109431</td>\n",
       "      <td>-0.157073</td>\n",
       "      <td>0</td>\n",
       "      <td>0</td>\n",
       "      <td>0</td>\n",
       "      <td>0</td>\n",
       "      <td>0</td>\n",
       "      <td>0</td>\n",
       "      <td>0</td>\n",
       "      <td>0</td>\n",
       "      <td>...</td>\n",
       "      <td>0</td>\n",
       "      <td>0</td>\n",
       "      <td>0</td>\n",
       "      <td>0</td>\n",
       "      <td>0</td>\n",
       "      <td>0</td>\n",
       "      <td>0</td>\n",
       "      <td>0</td>\n",
       "      <td>0</td>\n",
       "      <td>0</td>\n",
       "    </tr>\n",
       "  </tbody>\n",
       "</table>\n",
       "<p>5 rows × 97 columns</p>\n",
       "</div>"
      ],
      "text/plain": [
       "      TotalCoinsMined  TotalCoinSupply  Algorithm_1GB AES Pattern Search  \\\n",
       "42          -0.110782        -0.158275                                 0   \n",
       "404         -0.088176        -0.150663                                 0   \n",
       "1337         0.516504         4.336889                                 0   \n",
       "BTC         -0.110398        -0.157975                                 0   \n",
       "LTC         -0.109431        -0.157073                                 0   \n",
       "\n",
       "      Algorithm_536  Algorithm_BLAKE256  Algorithm_Blake  Algorithm_Blake2S  \\\n",
       "42                0                   0                0                  0   \n",
       "404               0                   0                0                  0   \n",
       "1337              0                   0                0                  0   \n",
       "BTC               0                   0                0                  0   \n",
       "LTC               0                   0                0                  0   \n",
       "\n",
       "      Algorithm_Blake2b  Algorithm_C11  Algorithm_Cloverhash  ...  \\\n",
       "42                    0              0                     0  ...   \n",
       "404                   0              0                     0  ...   \n",
       "1337                  0              0                     0  ...   \n",
       "BTC                   0              0                     0  ...   \n",
       "LTC                   0              0                     0  ...   \n",
       "\n",
       "      ProofType_PoW/PoS  ProofType_PoW/PoS   ProofType_PoW/PoW  \\\n",
       "42                    1                   0                  0   \n",
       "404                   1                   0                  0   \n",
       "1337                  1                   0                  0   \n",
       "BTC                   0                   0                  0   \n",
       "LTC                   0                   0                  0   \n",
       "\n",
       "      ProofType_PoW/nPoS  ProofType_Pos  ProofType_Proof of Authority  \\\n",
       "42                     0              0                             0   \n",
       "404                    0              0                             0   \n",
       "1337                   0              0                             0   \n",
       "BTC                    0              0                             0   \n",
       "LTC                    0              0                             0   \n",
       "\n",
       "      ProofType_Proof of Trust  ProofType_TPoS  \\\n",
       "42                           0               0   \n",
       "404                          0               0   \n",
       "1337                         0               0   \n",
       "BTC                          0               0   \n",
       "LTC                          0               0   \n",
       "\n",
       "      ProofType_Zero-Knowledge Proof  ProofType_dPoW/PoW  \n",
       "42                                 0                   0  \n",
       "404                                0                   0  \n",
       "1337                               0                   0  \n",
       "BTC                                0                   0  \n",
       "LTC                                0                   0  \n",
       "\n",
       "[5 rows x 97 columns]"
      ]
     },
     "execution_count": 80,
     "metadata": {},
     "output_type": "execute_result"
    }
   ],
   "source": [
    "features_scaled = pd.DataFrame(scaled_data, columns = X.iloc[:,:2].columns)\n",
    "features_scaled.index = X.index\n",
    "fs_df = pd.concat([features_scaled,adjusted],axis=1)\n",
    "fs_df.head()"
   ]
  },
  {
   "cell_type": "markdown",
   "metadata": {},
   "source": [
    "## Reducing Dimensions Using PCA"
   ]
  },
  {
   "cell_type": "code",
   "execution_count": 81,
   "metadata": {},
   "outputs": [],
   "source": [
    "from sklearn.decomposition import PCA\n",
    "from sklearn.cluster import KMeans\n",
    "import plotly.express as px\n",
    "\n",
    "\n",
    "# Using PCA to reduce dimension to 3 principal components\n",
    "pca = PCA(n_components=3)\n",
    "\n",
    "crypto_pca = pca.fit_transform(fs_df)"
   ]
  },
  {
   "cell_type": "code",
   "execution_count": 82,
   "metadata": {},
   "outputs": [
    {
     "data": {
      "text/html": [
       "<div>\n",
       "<style scoped>\n",
       "    .dataframe tbody tr th:only-of-type {\n",
       "        vertical-align: middle;\n",
       "    }\n",
       "\n",
       "    .dataframe tbody tr th {\n",
       "        vertical-align: top;\n",
       "    }\n",
       "\n",
       "    .dataframe thead th {\n",
       "        text-align: right;\n",
       "    }\n",
       "</style>\n",
       "<table border=\"1\" class=\"dataframe\">\n",
       "  <thead>\n",
       "    <tr style=\"text-align: right;\">\n",
       "      <th></th>\n",
       "      <th>principal component 1</th>\n",
       "      <th>principal component 2</th>\n",
       "      <th>principal component 3</th>\n",
       "    </tr>\n",
       "  </thead>\n",
       "  <tbody>\n",
       "    <tr>\n",
       "      <th>0</th>\n",
       "      <td>-0.208086</td>\n",
       "      <td>-0.793526</td>\n",
       "      <td>0.223477</td>\n",
       "    </tr>\n",
       "    <tr>\n",
       "      <th>1</th>\n",
       "      <td>-0.186751</td>\n",
       "      <td>-0.795939</td>\n",
       "      <td>0.213344</td>\n",
       "    </tr>\n",
       "    <tr>\n",
       "      <th>2</th>\n",
       "      <td>3.418905</td>\n",
       "      <td>-0.320347</td>\n",
       "      <td>2.775380</td>\n",
       "    </tr>\n",
       "    <tr>\n",
       "      <th>3</th>\n",
       "      <td>-0.181891</td>\n",
       "      <td>0.663655</td>\n",
       "      <td>-0.204139</td>\n",
       "    </tr>\n",
       "    <tr>\n",
       "      <th>4</th>\n",
       "      <td>-0.180293</td>\n",
       "      <td>0.571174</td>\n",
       "      <td>-0.048350</td>\n",
       "    </tr>\n",
       "  </tbody>\n",
       "</table>\n",
       "</div>"
      ],
      "text/plain": [
       "   principal component 1  principal component 2  principal component 3\n",
       "0              -0.208086              -0.793526               0.223477\n",
       "1              -0.186751              -0.795939               0.213344\n",
       "2               3.418905              -0.320347               2.775380\n",
       "3              -0.181891               0.663655              -0.204139\n",
       "4              -0.180293               0.571174              -0.048350"
      ]
     },
     "execution_count": 82,
     "metadata": {},
     "output_type": "execute_result"
    }
   ],
   "source": [
    "# Creating a DataFrame with the principal components data\n",
    "\n",
    "df_pca = pd.DataFrame(\n",
    "    data=crypto_pca, columns=[\"principal component 1\", \"principal component 2\",\"principal component 3\"]\n",
    ")\n",
    "df_pca.head()"
   ]
  },
  {
   "cell_type": "code",
   "execution_count": 83,
   "metadata": {},
   "outputs": [
    {
     "data": {
      "text/plain": [
       "array([0.48883485, 0.11285156, 0.0824152 ])"
      ]
     },
     "execution_count": 83,
     "metadata": {},
     "output_type": "execute_result"
    }
   ],
   "source": [
    "pca.explained_variance_ratio_"
   ]
  },
  {
   "cell_type": "code",
   "execution_count": 84,
   "metadata": {},
   "outputs": [
    {
     "data": {
      "text/html": [
       "<div>\n",
       "<style scoped>\n",
       "    .dataframe tbody tr th:only-of-type {\n",
       "        vertical-align: middle;\n",
       "    }\n",
       "\n",
       "    .dataframe tbody tr th {\n",
       "        vertical-align: top;\n",
       "    }\n",
       "\n",
       "    .dataframe thead th {\n",
       "        text-align: right;\n",
       "    }\n",
       "</style>\n",
       "<table border=\"1\" class=\"dataframe\">\n",
       "  <thead>\n",
       "    <tr style=\"text-align: right;\">\n",
       "      <th></th>\n",
       "      <th>PC1</th>\n",
       "      <th>PC2</th>\n",
       "      <th>PC3</th>\n",
       "    </tr>\n",
       "  </thead>\n",
       "  <tbody>\n",
       "    <tr>\n",
       "      <th>42</th>\n",
       "      <td>-0.208086</td>\n",
       "      <td>-0.793526</td>\n",
       "      <td>0.223477</td>\n",
       "    </tr>\n",
       "    <tr>\n",
       "      <th>404</th>\n",
       "      <td>-0.186751</td>\n",
       "      <td>-0.795939</td>\n",
       "      <td>0.213344</td>\n",
       "    </tr>\n",
       "    <tr>\n",
       "      <th>1337</th>\n",
       "      <td>3.418905</td>\n",
       "      <td>-0.320347</td>\n",
       "      <td>2.775380</td>\n",
       "    </tr>\n",
       "    <tr>\n",
       "      <th>BTC</th>\n",
       "      <td>-0.181891</td>\n",
       "      <td>0.663655</td>\n",
       "      <td>-0.204139</td>\n",
       "    </tr>\n",
       "    <tr>\n",
       "      <th>LTC</th>\n",
       "      <td>-0.180293</td>\n",
       "      <td>0.571174</td>\n",
       "      <td>-0.048350</td>\n",
       "    </tr>\n",
       "  </tbody>\n",
       "</table>\n",
       "</div>"
      ],
      "text/plain": [
       "           PC1       PC2       PC3\n",
       "42   -0.208086 -0.793526  0.223477\n",
       "404  -0.186751 -0.795939  0.213344\n",
       "1337  3.418905 -0.320347  2.775380\n",
       "BTC  -0.181891  0.663655 -0.204139\n",
       "LTC  -0.180293  0.571174 -0.048350"
      ]
     },
     "execution_count": 84,
     "metadata": {},
     "output_type": "execute_result"
    }
   ],
   "source": [
    "df_pca.index = fs_df.index\n",
    "df_pca.columns = ['PC1','PC2', 'PC3']\n",
    "df_pca.head()"
   ]
  },
  {
   "cell_type": "markdown",
   "metadata": {},
   "source": [
    "## Clustering Crytocurrencies Using K-Means"
   ]
  },
  {
   "cell_type": "markdown",
   "metadata": {},
   "source": [
    "#### Find the Best Value for k Using the Elbow Curve"
   ]
  },
  {
   "cell_type": "code",
   "execution_count": 85,
   "metadata": {},
   "outputs": [
    {
     "data": {},
     "metadata": {},
     "output_type": "display_data"
    },
    {
     "data": {
      "application/vnd.holoviews_exec.v0+json": "",
      "text/html": [
       "<div id='1259'>\n",
       "\n",
       "\n",
       "\n",
       "\n",
       "\n",
       "  <div class=\"bk-root\" id=\"4b3962f7-44c7-4651-9329-a3fb60e8871e\" data-root-id=\"1259\"></div>\n",
       "</div>\n",
       "<script type=\"application/javascript\">(function(root) {\n",
       "  function embed_document(root) {\n",
       "  var docs_json = {\"e0729102-22de-4938-bbbf-84edfca8a760\":{\"roots\":{\"references\":[{\"attributes\":{\"data\":{\"inertia\":{\"__ndarray__\":\"/8EbgcytkkAvR+ABqTKBQJoAi79tzXVApuMNvi55ZkAm5lhBt8VWQGGw9IxCNFBAUFVLe71pRkAt5vw8MHQ9QKuok+yXAjZAUDxYn6XyMUA=\",\"dtype\":\"float64\",\"order\":\"little\",\"shape\":[10]},\"k\":[1,2,3,4,5,6,7,8,9,10]},\"selected\":{\"id\":\"1295\"},\"selection_policy\":{\"id\":\"1313\"}},\"id\":\"1294\",\"type\":\"ColumnDataSource\"},{\"attributes\":{\"end\":1313.1998984157399,\"reset_end\":1313.1998984157399,\"reset_start\":-99.80234745829152,\"start\":-99.80234745829152,\"tags\":[[[\"inertia\",\"inertia\",null]]]},\"id\":\"1262\",\"type\":\"Range1d\"},{\"attributes\":{},\"id\":\"1313\",\"type\":\"UnionRenderers\"},{\"attributes\":{\"margin\":[5,5,5,5],\"name\":\"HSpacer02000\",\"sizing_mode\":\"stretch_width\"},\"id\":\"1260\",\"type\":\"Spacer\"},{\"attributes\":{\"line_alpha\":0.1,\"line_color\":\"#1f77b3\",\"line_width\":2,\"x\":{\"field\":\"k\"},\"y\":{\"field\":\"inertia\"}},\"id\":\"1298\",\"type\":\"Line\"},{\"attributes\":{},\"id\":\"1278\",\"type\":\"BasicTicker\"},{\"attributes\":{\"line_color\":\"#1f77b3\",\"line_width\":2,\"x\":{\"field\":\"k\"},\"y\":{\"field\":\"inertia\"}},\"id\":\"1297\",\"type\":\"Line\"},{\"attributes\":{},\"id\":\"1304\",\"type\":\"BasicTickFormatter\"},{\"attributes\":{\"axis\":{\"id\":\"1273\"},\"grid_line_color\":null,\"ticker\":null},\"id\":\"1276\",\"type\":\"Grid\"},{\"attributes\":{\"axis_label\":\"inertia\",\"bounds\":\"auto\",\"formatter\":{\"id\":\"1308\"},\"major_label_orientation\":\"horizontal\",\"ticker\":{\"id\":\"1278\"}},\"id\":\"1277\",\"type\":\"LinearAxis\"},{\"attributes\":{\"axis\":{\"id\":\"1277\"},\"dimension\":1,\"grid_line_color\":null,\"ticker\":null},\"id\":\"1280\",\"type\":\"Grid\"},{\"attributes\":{},\"id\":\"1282\",\"type\":\"PanTool\"},{\"attributes\":{},\"id\":\"1281\",\"type\":\"SaveTool\"},{\"attributes\":{\"children\":[{\"id\":\"1260\"},{\"id\":\"1264\"},{\"id\":\"1323\"}],\"margin\":[0,0,0,0],\"name\":\"Row01996\",\"tags\":[\"embedded\"]},\"id\":\"1259\",\"type\":\"Row\"},{\"attributes\":{},\"id\":\"1283\",\"type\":\"WheelZoomTool\"},{\"attributes\":{\"bottom_units\":\"screen\",\"fill_alpha\":0.5,\"fill_color\":\"lightgrey\",\"left_units\":\"screen\",\"level\":\"overlay\",\"line_alpha\":1.0,\"line_color\":\"black\",\"line_dash\":[4,4],\"line_width\":2,\"right_units\":\"screen\",\"top_units\":\"screen\"},\"id\":\"1286\",\"type\":\"BoxAnnotation\"},{\"attributes\":{\"overlay\":{\"id\":\"1286\"}},\"id\":\"1284\",\"type\":\"BoxZoomTool\"},{\"attributes\":{},\"id\":\"1285\",\"type\":\"ResetTool\"},{\"attributes\":{\"margin\":[5,5,5,5],\"name\":\"HSpacer02001\",\"sizing_mode\":\"stretch_width\"},\"id\":\"1323\",\"type\":\"Spacer\"},{\"attributes\":{\"data_source\":{\"id\":\"1294\"},\"glyph\":{\"id\":\"1297\"},\"hover_glyph\":null,\"muted_glyph\":{\"id\":\"1299\"},\"nonselection_glyph\":{\"id\":\"1298\"},\"selection_glyph\":null,\"view\":{\"id\":\"1301\"}},\"id\":\"1300\",\"type\":\"GlyphRenderer\"},{\"attributes\":{\"end\":10.0,\"reset_end\":10.0,\"reset_start\":1.0,\"start\":1.0,\"tags\":[[[\"k\",\"k\",null]]]},\"id\":\"1261\",\"type\":\"Range1d\"},{\"attributes\":{\"callback\":null,\"renderers\":[{\"id\":\"1300\"}],\"tags\":[\"hv_created\"],\"tooltips\":[[\"k\",\"@{k}\"],[\"inertia\",\"@{inertia}\"]]},\"id\":\"1263\",\"type\":\"HoverTool\"},{\"attributes\":{},\"id\":\"1271\",\"type\":\"LinearScale\"},{\"attributes\":{},\"id\":\"1308\",\"type\":\"BasicTickFormatter\"},{\"attributes\":{},\"id\":\"1295\",\"type\":\"Selection\"},{\"attributes\":{\"axis_label\":\"k\",\"bounds\":\"auto\",\"formatter\":{\"id\":\"1304\"},\"major_label_orientation\":\"horizontal\",\"ticker\":{\"id\":\"1302\"}},\"id\":\"1273\",\"type\":\"LinearAxis\"},{\"attributes\":{\"ticks\":[1,2,3,4,5,6,7,8,9,10]},\"id\":\"1302\",\"type\":\"FixedTicker\"},{\"attributes\":{\"align\":null,\"below\":[{\"id\":\"1273\"}],\"center\":[{\"id\":\"1276\"},{\"id\":\"1280\"}],\"left\":[{\"id\":\"1277\"}],\"margin\":null,\"min_border_bottom\":10,\"min_border_left\":10,\"min_border_right\":10,\"min_border_top\":10,\"plot_height\":300,\"plot_width\":700,\"renderers\":[{\"id\":\"1300\"}],\"sizing_mode\":\"fixed\",\"title\":{\"id\":\"1265\"},\"toolbar\":{\"id\":\"1287\"},\"x_range\":{\"id\":\"1261\"},\"x_scale\":{\"id\":\"1269\"},\"y_range\":{\"id\":\"1262\"},\"y_scale\":{\"id\":\"1271\"}},\"id\":\"1264\",\"subtype\":\"Figure\",\"type\":\"Plot\"},{\"attributes\":{},\"id\":\"1269\",\"type\":\"LinearScale\"},{\"attributes\":{\"text\":\"Elbow Curve\",\"text_color\":{\"value\":\"black\"},\"text_font_size\":{\"value\":\"12pt\"}},\"id\":\"1265\",\"type\":\"Title\"},{\"attributes\":{\"source\":{\"id\":\"1294\"}},\"id\":\"1301\",\"type\":\"CDSView\"},{\"attributes\":{\"active_drag\":\"auto\",\"active_inspect\":\"auto\",\"active_multi\":null,\"active_scroll\":\"auto\",\"active_tap\":\"auto\",\"tools\":[{\"id\":\"1263\"},{\"id\":\"1281\"},{\"id\":\"1282\"},{\"id\":\"1283\"},{\"id\":\"1284\"},{\"id\":\"1285\"}]},\"id\":\"1287\",\"type\":\"Toolbar\"},{\"attributes\":{\"line_alpha\":0.2,\"line_color\":\"#1f77b3\",\"line_width\":2,\"x\":{\"field\":\"k\"},\"y\":{\"field\":\"inertia\"}},\"id\":\"1299\",\"type\":\"Line\"}],\"root_ids\":[\"1259\"]},\"title\":\"Bokeh Application\",\"version\":\"2.1.1\"}};\n",
       "  var render_items = [{\"docid\":\"e0729102-22de-4938-bbbf-84edfca8a760\",\"root_ids\":[\"1259\"],\"roots\":{\"1259\":\"4b3962f7-44c7-4651-9329-a3fb60e8871e\"}}];\n",
       "  root.Bokeh.embed.embed_items_notebook(docs_json, render_items);\n",
       "  }\n",
       "if (root.Bokeh !== undefined) {\n",
       "    embed_document(root);\n",
       "  } else {\n",
       "    var attempts = 0;\n",
       "    var timer = setInterval(function(root) {\n",
       "      if (root.Bokeh !== undefined) {\n",
       "        clearInterval(timer);\n",
       "        embed_document(root);\n",
       "      } else if (document.readyState == \"complete\") {\n",
       "        attempts++;\n",
       "        if (attempts > 100) {\n",
       "          clearInterval(timer);\n",
       "          console.log(\"Bokeh: ERROR: Unable to run BokehJS code because BokehJS library is missing\");\n",
       "        }\n",
       "      }\n",
       "    }, 10, root)\n",
       "  }\n",
       "})(window);</script>"
      ],
      "text/plain": [
       ":Curve   [k]   (inertia)"
      ]
     },
     "execution_count": 85,
     "metadata": {
      "application/vnd.holoviews_exec.v0+json": {
       "id": "1259"
      }
     },
     "output_type": "execute_result"
    }
   ],
   "source": [
    "inertia = []\n",
    "k = list(range(1, 11))\n",
    "\n",
    "# Calculate the inertia for the range ok k values\n",
    "for i in k:\n",
    "    km = KMeans(n_clusters=i, random_state=0)\n",
    "    km.fit(df_pca)\n",
    "    inertia.append(km.inertia_)\n",
    "\n",
    "# Create the Elbow Curve using hvPlot\n",
    "elbow_data = {\"k\": k, \"inertia\": inertia}\n",
    "df_elbow = pd.DataFrame(elbow_data)\n",
    "df_elbow.hvplot(x = \"k\", y = \"inertia\", xticks = k, title = \"Elbow Curve\")"
   ]
  },
  {
   "cell_type": "code",
   "execution_count": 86,
   "metadata": {},
   "outputs": [],
   "source": [
    "\n",
    "def get_clusters(k,data):\n",
    "# Initialize the K-Means model\n",
    "    model = KMeans(n_clusters=k,random_state=0)\n",
    "# Fit the model\n",
    "    model.fit(data)\n",
    "# Predict clusters\n",
    "    predictions = model.predict(data)\n",
    "# Creating a new DataFrame including predicted clusters and cryptocurrencies features\n",
    "    data['class'] = model.labels_\n",
    "    \n",
    "    return data\n",
    "\n",
    "clusters_df = get_clusters(4,df_pca)"
   ]
  },
  {
   "cell_type": "code",
   "execution_count": 87,
   "metadata": {},
   "outputs": [
    {
     "name": "stdout",
     "output_type": "stream",
     "text": [
      "Index(['PC1', 'PC2', 'PC3', 'class'], dtype='object')\n"
     ]
    }
   ],
   "source": [
    "print(clusters_df.columns)"
   ]
  },
  {
   "cell_type": "code",
   "execution_count": 88,
   "metadata": {},
   "outputs": [
    {
     "data": {
      "text/html": [
       "<div>\n",
       "<style scoped>\n",
       "    .dataframe tbody tr th:only-of-type {\n",
       "        vertical-align: middle;\n",
       "    }\n",
       "\n",
       "    .dataframe tbody tr th {\n",
       "        vertical-align: top;\n",
       "    }\n",
       "\n",
       "    .dataframe thead th {\n",
       "        text-align: right;\n",
       "    }\n",
       "</style>\n",
       "<table border=\"1\" class=\"dataframe\">\n",
       "  <thead>\n",
       "    <tr style=\"text-align: right;\">\n",
       "      <th></th>\n",
       "      <th>CoinName</th>\n",
       "      <th>Algorithm</th>\n",
       "      <th>ProofType</th>\n",
       "      <th>TotalCoinsMined</th>\n",
       "      <th>TotalCoinSupply</th>\n",
       "      <th>PC1</th>\n",
       "      <th>PC2</th>\n",
       "      <th>PC3</th>\n",
       "      <th>class</th>\n",
       "    </tr>\n",
       "  </thead>\n",
       "  <tbody>\n",
       "    <tr>\n",
       "      <th>42</th>\n",
       "      <td>42 Coin</td>\n",
       "      <td>Scrypt</td>\n",
       "      <td>PoW/PoS</td>\n",
       "      <td>42</td>\n",
       "      <td>42</td>\n",
       "      <td>-0.208086</td>\n",
       "      <td>-0.793526</td>\n",
       "      <td>0.223477</td>\n",
       "      <td>3</td>\n",
       "    </tr>\n",
       "    <tr>\n",
       "      <th>404</th>\n",
       "      <td>404Coin</td>\n",
       "      <td>Scrypt</td>\n",
       "      <td>PoW/PoS</td>\n",
       "      <td>1.05518e+09</td>\n",
       "      <td>5.32e+08</td>\n",
       "      <td>-0.186751</td>\n",
       "      <td>-0.795939</td>\n",
       "      <td>0.213344</td>\n",
       "      <td>3</td>\n",
       "    </tr>\n",
       "    <tr>\n",
       "      <th>1337</th>\n",
       "      <td>EliteCoin</td>\n",
       "      <td>X13</td>\n",
       "      <td>PoW/PoS</td>\n",
       "      <td>2.92794e+10</td>\n",
       "      <td>3.14159e+11</td>\n",
       "      <td>3.418905</td>\n",
       "      <td>-0.320347</td>\n",
       "      <td>2.775380</td>\n",
       "      <td>3</td>\n",
       "    </tr>\n",
       "    <tr>\n",
       "      <th>BTC</th>\n",
       "      <td>Bitcoin</td>\n",
       "      <td>SHA-256</td>\n",
       "      <td>PoW</td>\n",
       "      <td>1.79272e+07</td>\n",
       "      <td>2.1e+07</td>\n",
       "      <td>-0.181891</td>\n",
       "      <td>0.663655</td>\n",
       "      <td>-0.204139</td>\n",
       "      <td>0</td>\n",
       "    </tr>\n",
       "    <tr>\n",
       "      <th>LTC</th>\n",
       "      <td>Litecoin</td>\n",
       "      <td>Scrypt</td>\n",
       "      <td>PoW</td>\n",
       "      <td>6.30392e+07</td>\n",
       "      <td>8.4e+07</td>\n",
       "      <td>-0.180293</td>\n",
       "      <td>0.571174</td>\n",
       "      <td>-0.048350</td>\n",
       "      <td>0</td>\n",
       "    </tr>\n",
       "  </tbody>\n",
       "</table>\n",
       "</div>"
      ],
      "text/plain": [
       "       CoinName Algorithm ProofType TotalCoinsMined TotalCoinSupply       PC1  \\\n",
       "42      42 Coin    Scrypt   PoW/PoS              42              42 -0.208086   \n",
       "404     404Coin    Scrypt   PoW/PoS     1.05518e+09        5.32e+08 -0.186751   \n",
       "1337  EliteCoin       X13   PoW/PoS     2.92794e+10     3.14159e+11  3.418905   \n",
       "BTC     Bitcoin   SHA-256       PoW     1.79272e+07         2.1e+07 -0.181891   \n",
       "LTC    Litecoin    Scrypt       PoW     6.30392e+07         8.4e+07 -0.180293   \n",
       "\n",
       "           PC2       PC3  class  \n",
       "42   -0.793526  0.223477      3  \n",
       "404  -0.795939  0.213344      3  \n",
       "1337 -0.320347  2.775380      3  \n",
       "BTC   0.663655 -0.204139      0  \n",
       "LTC   0.571174 -0.048350      0  "
      ]
     },
     "execution_count": 88,
     "metadata": {},
     "output_type": "execute_result"
    }
   ],
   "source": [
    "clustered_df = pd.concat([crypto_df, clusters_df],axis=1)\n",
    "\n",
    "clustered_df.head()"
   ]
  },
  {
   "cell_type": "code",
   "execution_count": 89,
   "metadata": {},
   "outputs": [
    {
     "data": {
      "text/html": [
       "<div>\n",
       "<style scoped>\n",
       "    .dataframe tbody tr th:only-of-type {\n",
       "        vertical-align: middle;\n",
       "    }\n",
       "\n",
       "    .dataframe tbody tr th {\n",
       "        vertical-align: top;\n",
       "    }\n",
       "\n",
       "    .dataframe thead th {\n",
       "        text-align: right;\n",
       "    }\n",
       "</style>\n",
       "<table border=\"1\" class=\"dataframe\">\n",
       "  <thead>\n",
       "    <tr style=\"text-align: right;\">\n",
       "      <th></th>\n",
       "      <th>PC1</th>\n",
       "      <th>PC2</th>\n",
       "      <th>PC3</th>\n",
       "      <th>class</th>\n",
       "    </tr>\n",
       "  </thead>\n",
       "  <tbody>\n",
       "    <tr>\n",
       "      <th>42</th>\n",
       "      <td>-0.208086</td>\n",
       "      <td>-0.793526</td>\n",
       "      <td>0.223477</td>\n",
       "      <td>3</td>\n",
       "    </tr>\n",
       "    <tr>\n",
       "      <th>404</th>\n",
       "      <td>-0.186751</td>\n",
       "      <td>-0.795939</td>\n",
       "      <td>0.213344</td>\n",
       "      <td>3</td>\n",
       "    </tr>\n",
       "    <tr>\n",
       "      <th>1337</th>\n",
       "      <td>3.418905</td>\n",
       "      <td>-0.320347</td>\n",
       "      <td>2.775380</td>\n",
       "      <td>3</td>\n",
       "    </tr>\n",
       "    <tr>\n",
       "      <th>BTC</th>\n",
       "      <td>-0.181891</td>\n",
       "      <td>0.663655</td>\n",
       "      <td>-0.204139</td>\n",
       "      <td>0</td>\n",
       "    </tr>\n",
       "    <tr>\n",
       "      <th>LTC</th>\n",
       "      <td>-0.180293</td>\n",
       "      <td>0.571174</td>\n",
       "      <td>-0.048350</td>\n",
       "      <td>0</td>\n",
       "    </tr>\n",
       "  </tbody>\n",
       "</table>\n",
       "</div>"
      ],
      "text/plain": [
       "           PC1       PC2       PC3  class\n",
       "42   -0.208086 -0.793526  0.223477      3\n",
       "404  -0.186751 -0.795939  0.213344      3\n",
       "1337  3.418905 -0.320347  2.775380      3\n",
       "BTC  -0.181891  0.663655 -0.204139      0\n",
       "LTC  -0.180293  0.571174 -0.048350      0"
      ]
     },
     "execution_count": 89,
     "metadata": {},
     "output_type": "execute_result"
    }
   ],
   "source": [
    "clusters_df.head()"
   ]
  },
  {
   "cell_type": "code",
   "execution_count": 90,
   "metadata": {},
   "outputs": [],
   "source": [
    "clustered_df = clustered_df[['Algorithm','ProofType', 'TotalCoinSupply', 'TotalCoinsMined','PC1','PC2', 'PC3', 'CoinName', 'class']]"
   ]
  },
  {
   "cell_type": "code",
   "execution_count": 91,
   "metadata": {},
   "outputs": [],
   "source": [
    "clustered_df.rename(columns={'class':\"Class\"},inplace=True)"
   ]
  },
  {
   "cell_type": "code",
   "execution_count": 92,
   "metadata": {},
   "outputs": [
    {
     "data": {
      "text/html": [
       "<div>\n",
       "<style scoped>\n",
       "    .dataframe tbody tr th:only-of-type {\n",
       "        vertical-align: middle;\n",
       "    }\n",
       "\n",
       "    .dataframe tbody tr th {\n",
       "        vertical-align: top;\n",
       "    }\n",
       "\n",
       "    .dataframe thead th {\n",
       "        text-align: right;\n",
       "    }\n",
       "</style>\n",
       "<table border=\"1\" class=\"dataframe\">\n",
       "  <thead>\n",
       "    <tr style=\"text-align: right;\">\n",
       "      <th></th>\n",
       "      <th>Algorithm</th>\n",
       "      <th>ProofType</th>\n",
       "      <th>TotalCoinSupply</th>\n",
       "      <th>TotalCoinsMined</th>\n",
       "      <th>PC1</th>\n",
       "      <th>PC2</th>\n",
       "      <th>PC3</th>\n",
       "      <th>CoinName</th>\n",
       "      <th>Class</th>\n",
       "    </tr>\n",
       "  </thead>\n",
       "  <tbody>\n",
       "    <tr>\n",
       "      <th>42</th>\n",
       "      <td>Scrypt</td>\n",
       "      <td>PoW/PoS</td>\n",
       "      <td>42</td>\n",
       "      <td>42</td>\n",
       "      <td>-0.208086</td>\n",
       "      <td>-0.793526</td>\n",
       "      <td>0.223477</td>\n",
       "      <td>42 Coin</td>\n",
       "      <td>3</td>\n",
       "    </tr>\n",
       "    <tr>\n",
       "      <th>404</th>\n",
       "      <td>Scrypt</td>\n",
       "      <td>PoW/PoS</td>\n",
       "      <td>5.32e+08</td>\n",
       "      <td>1.05518e+09</td>\n",
       "      <td>-0.186751</td>\n",
       "      <td>-0.795939</td>\n",
       "      <td>0.213344</td>\n",
       "      <td>404Coin</td>\n",
       "      <td>3</td>\n",
       "    </tr>\n",
       "    <tr>\n",
       "      <th>1337</th>\n",
       "      <td>X13</td>\n",
       "      <td>PoW/PoS</td>\n",
       "      <td>3.14159e+11</td>\n",
       "      <td>2.92794e+10</td>\n",
       "      <td>3.418905</td>\n",
       "      <td>-0.320347</td>\n",
       "      <td>2.775380</td>\n",
       "      <td>EliteCoin</td>\n",
       "      <td>3</td>\n",
       "    </tr>\n",
       "    <tr>\n",
       "      <th>BTC</th>\n",
       "      <td>SHA-256</td>\n",
       "      <td>PoW</td>\n",
       "      <td>2.1e+07</td>\n",
       "      <td>1.79272e+07</td>\n",
       "      <td>-0.181891</td>\n",
       "      <td>0.663655</td>\n",
       "      <td>-0.204139</td>\n",
       "      <td>Bitcoin</td>\n",
       "      <td>0</td>\n",
       "    </tr>\n",
       "    <tr>\n",
       "      <th>LTC</th>\n",
       "      <td>Scrypt</td>\n",
       "      <td>PoW</td>\n",
       "      <td>8.4e+07</td>\n",
       "      <td>6.30392e+07</td>\n",
       "      <td>-0.180293</td>\n",
       "      <td>0.571174</td>\n",
       "      <td>-0.048350</td>\n",
       "      <td>Litecoin</td>\n",
       "      <td>0</td>\n",
       "    </tr>\n",
       "  </tbody>\n",
       "</table>\n",
       "</div>"
      ],
      "text/plain": [
       "     Algorithm ProofType TotalCoinSupply TotalCoinsMined       PC1       PC2  \\\n",
       "42      Scrypt   PoW/PoS              42              42 -0.208086 -0.793526   \n",
       "404     Scrypt   PoW/PoS        5.32e+08     1.05518e+09 -0.186751 -0.795939   \n",
       "1337       X13   PoW/PoS     3.14159e+11     2.92794e+10  3.418905 -0.320347   \n",
       "BTC    SHA-256       PoW         2.1e+07     1.79272e+07 -0.181891  0.663655   \n",
       "LTC     Scrypt       PoW         8.4e+07     6.30392e+07 -0.180293  0.571174   \n",
       "\n",
       "           PC3   CoinName  Class  \n",
       "42    0.223477    42 Coin      3  \n",
       "404   0.213344    404Coin      3  \n",
       "1337  2.775380  EliteCoin      3  \n",
       "BTC  -0.204139    Bitcoin      0  \n",
       "LTC  -0.048350   Litecoin      0  "
      ]
     },
     "execution_count": 92,
     "metadata": {},
     "output_type": "execute_result"
    }
   ],
   "source": [
    "clustered_df.head()"
   ]
  },
  {
   "cell_type": "markdown",
   "metadata": {},
   "source": [
    "##  Visualizing Results"
   ]
  },
  {
   "cell_type": "markdown",
   "metadata": {},
   "source": [
    "#### 3D-Scatter with Clusters"
   ]
  },
  {
   "cell_type": "code",
   "execution_count": 93,
   "metadata": {},
   "outputs": [
    {
     "data": {
      "application/vnd.plotly.v1+json": {
       "config": {
        "plotlyServerURL": "https://plot.ly"
       },
       "data": [
        {
         "customdata": [
          [
           "Scrypt"
          ],
          [
           "Scrypt"
          ],
          [
           "X13"
          ],
          [
           "X11"
          ],
          [
           "SHA-512"
          ],
          [
           "SHA-256"
          ],
          [
           "SHA-256"
          ],
          [
           "X15"
          ],
          [
           "Scrypt"
          ],
          [
           "Scrypt"
          ],
          [
           "Scrypt"
          ],
          [
           "Scrypt"
          ],
          [
           "Groestl"
          ],
          [
           "Scrypt"
          ],
          [
           "X11"
          ],
          [
           "SHA3"
          ],
          [
           "SHA-256"
          ],
          [
           "Scrypt"
          ],
          [
           "NeoScrypt"
          ],
          [
           "Scrypt"
          ],
          [
           "Scrypt"
          ],
          [
           "X11"
          ],
          [
           "Multiple"
          ],
          [
           "PHI1612"
          ],
          [
           "X11"
          ],
          [
           "Scrypt"
          ],
          [
           "Scrypt"
          ],
          [
           "X11"
          ],
          [
           "Scrypt"
          ],
          [
           "Shabal256"
          ],
          [
           "Counterparty"
          ],
          [
           "SHA-256"
          ],
          [
           "X13"
          ],
          [
           "Scrypt"
          ],
          [
           "X13"
          ],
          [
           "X11"
          ],
          [
           "Scrypt"
          ],
          [
           "SHA3"
          ],
          [
           "QUAIT"
          ],
          [
           "Scrypt"
          ],
          [
           "X13"
          ],
          [
           "SHA-256"
          ],
          [
           "X15"
          ],
          [
           "BLAKE256"
          ],
          [
           "SHA-256"
          ],
          [
           "X11"
          ],
          [
           "SHA-256"
          ],
          [
           "Scrypt"
          ],
          [
           "Scrypt"
          ],
          [
           "X11"
          ],
          [
           "Scrypt"
          ],
          [
           "SHA-256"
          ],
          [
           "Scrypt"
          ],
          [
           "PoS"
          ],
          [
           "X11"
          ],
          [
           "SHA-256"
          ],
          [
           "SHA-256"
          ],
          [
           "NIST5"
          ],
          [
           "X11"
          ],
          [
           "POS 3.0"
          ],
          [
           "Scrypt"
          ],
          [
           "Scrypt"
          ],
          [
           "Scrypt"
          ],
          [
           "X13"
          ],
          [
           "X11"
          ],
          [
           "Equihash"
          ],
          [
           "X11"
          ],
          [
           "Scrypt"
          ],
          [
           "SHA-256"
          ],
          [
           "X11"
          ],
          [
           "Scrypt"
          ],
          [
           "Scrypt"
          ],
          [
           "SHA-256D"
          ],
          [
           "PoS"
          ],
          [
           "X11"
          ],
          [
           "PoS"
          ],
          [
           "X13"
          ],
          [
           "X14"
          ],
          [
           "PoS"
          ],
          [
           "SHA-256D"
          ],
          [
           "DPoS"
          ],
          [
           "X11"
          ],
          [
           "X13"
          ],
          [
           "X11"
          ],
          [
           "PoS"
          ],
          [
           "Scrypt"
          ],
          [
           "Scrypt"
          ],
          [
           "PoS"
          ],
          [
           "X11"
          ],
          [
           "SHA-256"
          ],
          [
           "Scrypt"
          ],
          [
           "X11"
          ],
          [
           "Scrypt"
          ],
          [
           "Scrypt"
          ],
          [
           "X11"
          ],
          [
           "Scrypt"
          ],
          [
           "Scrypt"
          ],
          [
           "Scrypt"
          ],
          [
           "Scrypt"
          ],
          [
           "Quark"
          ],
          [
           "QuBit"
          ],
          [
           "Scrypt"
          ],
          [
           "SHA-256"
          ],
          [
           "X11"
          ],
          [
           "Scrypt"
          ],
          [
           "Scrypt"
          ],
          [
           "Scrypt"
          ],
          [
           "Scrypt"
          ],
          [
           "X13"
          ],
          [
           "Scrypt"
          ],
          [
           "Scrypt"
          ],
          [
           "X11"
          ],
          [
           "Blake2S"
          ],
          [
           "X11"
          ],
          [
           "PoS"
          ],
          [
           "X11"
          ],
          [
           "PoS"
          ],
          [
           "X11"
          ],
          [
           "Scrypt"
          ],
          [
           "Scrypt"
          ],
          [
           "Scrypt"
          ],
          [
           "SHA-256"
          ],
          [
           "X11"
          ],
          [
           "Scrypt"
          ],
          [
           "PoS"
          ],
          [
           "Scrypt"
          ],
          [
           "X15"
          ],
          [
           "SHA-256"
          ],
          [
           "POS 3.0"
          ],
          [
           "536"
          ],
          [
           "NIST5"
          ],
          [
           "NIST5"
          ],
          [
           "Skein"
          ],
          [
           "X13"
          ],
          [
           "Scrypt"
          ],
          [
           "X13"
          ],
          [
           "SkunkHash v2 Raptor"
          ],
          [
           "Skein"
          ],
          [
           "X11"
          ],
          [
           "Scrypt"
          ],
          [
           "VeChainThor Authority"
          ],
          [
           "PoS"
          ],
          [
           "Scrypt"
          ],
          [
           "Scrypt"
          ],
          [
           "SHA-512"
          ],
          [
           "Ouroboros"
          ],
          [
           "X11"
          ],
          [
           "NeoScrypt"
          ],
          [
           "Scrypt"
          ],
          [
           "Lyra2REv2"
          ],
          [
           "Scrypt"
          ],
          [
           "SHA-256"
          ],
          [
           "NIST5"
          ],
          [
           "PHI1612"
          ],
          [
           "Scrypt"
          ],
          [
           "Quark"
          ],
          [
           "POS 2.0"
          ],
          [
           "Scrypt"
          ],
          [
           "SHA-256"
          ],
          [
           "X11"
          ],
          [
           "DPoS"
          ],
          [
           "NIST5"
          ],
          [
           "X13"
          ],
          [
           "Scrypt"
          ],
          [
           "NIST5"
          ],
          [
           "Quark"
          ],
          [
           "Scrypt"
          ],
          [
           "Scrypt"
          ],
          [
           "X11"
          ],
          [
           "Quark"
          ],
          [
           "Scrypt"
          ],
          [
           "Scrypt"
          ],
          [
           "X11"
          ],
          [
           "POS 3.0"
          ],
          [
           "Ethash"
          ],
          [
           "Scrypt"
          ],
          [
           "Scrypt"
          ],
          [
           "X13"
          ],
          [
           "Proof-of-BibleHash"
          ],
          [
           "SHA-256 + Hive"
          ],
          [
           "C11"
          ],
          [
           "Proof-of-Authority"
          ],
          [
           "X11"
          ],
          [
           "XEVAN"
          ],
          [
           "Scrypt"
          ],
          [
           "VBFT"
          ],
          [
           "NIST5"
          ],
          [
           "Scrypt"
          ],
          [
           "Scrypt"
          ],
          [
           "Scrypt"
          ],
          [
           "Green Protocol"
          ],
          [
           "PoS"
          ],
          [
           "Scrypt"
          ],
          [
           "Semux BFT consensus"
          ],
          [
           "Quark"
          ],
          [
           "PoS"
          ],
          [
           "X16R"
          ],
          [
           "Scrypt"
          ],
          [
           "XEVAN"
          ],
          [
           "Scrypt"
          ],
          [
           "Scrypt"
          ],
          [
           "Scrypt"
          ],
          [
           "SHA-256D"
          ],
          [
           "Scrypt"
          ],
          [
           "X15"
          ],
          [
           "Scrypt"
          ],
          [
           "Quark"
          ],
          [
           "SHA-256"
          ],
          [
           "DPoS"
          ],
          [
           "X16R"
          ],
          [
           "Quark"
          ],
          [
           "Quark"
          ],
          [
           "Scrypt"
          ],
          [
           "Lyra2REv2"
          ],
          [
           "Quark"
          ],
          [
           "Scrypt"
          ],
          [
           "X11"
          ],
          [
           "X11"
          ],
          [
           "Scrypt"
          ],
          [
           "PoS"
          ],
          [
           "Keccak"
          ],
          [
           "X11"
          ],
          [
           "Scrypt"
          ],
          [
           "SHA-512"
          ],
          [
           "ECC 256K1"
          ],
          [
           "XEVAN"
          ],
          [
           "XEVAN"
          ],
          [
           "Quark"
          ],
          [
           "Equihash"
          ],
          [
           "Scrypt"
          ],
          [
           "Quark"
          ],
          [
           "Quark"
          ],
          [
           "Scrypt"
          ],
          [
           "X11"
          ],
          [
           "Scrypt"
          ],
          [
           "XEVAN"
          ],
          [
           "SHA-256D"
          ],
          [
           "X11"
          ],
          [
           "X11"
          ],
          [
           "DPoS"
          ],
          [
           "Scrypt"
          ],
          [
           "Scrypt"
          ],
          [
           "Scrypt"
          ],
          [
           "SHA-256"
          ],
          [
           "X11"
          ],
          [
           "Scrypt"
          ],
          [
           "SHA-256"
          ],
          [
           "X11"
          ],
          [
           "Scrypt"
          ],
          [
           "Scrypt"
          ],
          [
           "X11"
          ],
          [
           "Scrypt"
          ],
          [
           "PoS"
          ],
          [
           "X11"
          ],
          [
           "SHA-256"
          ],
          [
           "DPoS"
          ],
          [
           "Scrypt"
          ],
          [
           "Scrypt"
          ],
          [
           "NeoScrypt"
          ],
          [
           "SHA3-256"
          ],
          [
           "X13"
          ],
          [
           "SHA-256"
          ],
          [
           "Leased POS"
          ],
          [
           "PoS"
          ],
          [
           "PoS"
          ],
          [
           "SHA-256"
          ],
          [
           "Scrypt"
          ],
          [
           "Scrypt"
          ]
         ],
         "hovertemplate": "<b>%{hovertext}</b><br><br>Class=%{marker.color}<br>PC1=%{x}<br>PC2=%{y}<br>PC3=%{z}<br>Algorithm=%{customdata[0]}<extra></extra>",
         "hovertext": [
          "42 Coin",
          "404Coin",
          "EliteCoin",
          "Dash",
          "Bitshares",
          "BitcoinDark",
          "PayCoin",
          "KoboCoin",
          "Aurora Coin",
          "BitBar",
          "CryptoBullion",
          "CasinoCoin",
          "Diamond",
          "HoboNickels",
          "IOCoin",
          "MaxCoin",
          "MazaCoin",
          "Nautilus Coin",
          "Orbitcoin",
          "PotCoin",
          "PhoenixCoin",
          "SyncCoin",
          "TeslaCoin",
          "TittieCoin",
          "TorCoin",
          "UnitaryStatus Dollar",
          "UltraCoin",
          "X11 Coin",
          "ZCC Coin",
          "BurstCoin",
          "StorjCoin",
          "Neutron",
          "Kore",
          "Dnotes",
          "Sativa Coin",
          "Ucoin",
          "Vtorrent",
          "Nexus",
          "Droidz",
          "Diggits",
          "Paycon",
          "Emercoin",
          "EverGreenCoin",
          "Decred",
          "EDRCoin",
          "Hitcoin",
          "DubaiCoin",
          "BillaryCoin",
          "GPU Coin",
          "EuropeCoin",
          "ZeitCoin",
          "SwingCoin",
          "SafeExchangeCoin",
          "Nebuchadnezzar",
          "Ratecoin",
          "Revenu",
          "Clockcoin",
          "VIP Tokens",
          "BitSend",
          "Let it Ride",
          "PutinCoin",
          "iBankCoin",
          "Frankywillcoin",
          "MudraCoin",
          "Lutetium Coin",
          "Komodo",
          "GoldBlocks",
          "CarterCoin",
          "BitTokens",
          "MustangCoin",
          "ZoneCoin",
          "Swiscoin",
          "BuzzCoin",
          "Opair",
          "Halloween Coin",
          "CoffeeCoin",
          "RoyalCoin",
          "GanjaCoin V2",
          "TeamUP",
          "LanaCoin",
          "ARK",
          "InsaneCoin",
          "EmberCoin",
          "XenixCoin",
          "FreeCoin",
          "PLNCoin",
          "AquariusCoin",
          "Creatio",
          "Eternity",
          "Eurocoin",
          "BitcoinFast",
          "Stakenet",
          "BitConnect Coin",
          "MoneyCoin",
          "Enigma",
          "Russiacoin",
          "PandaCoin",
          "GameUnits",
          "GAKHcoin",
          "Allsafe",
          "LiteCreed",
          "Klingon Empire Darsek",
          "Internet of People",
          "KushCoin",
          "Printerium",
          "Impeach",
          "Zilbercoin",
          "FirstCoin",
          "FindCoin",
          "OpenChat",
          "RenosCoin",
          "VirtacoinPlus",
          "TajCoin",
          "Impact",
          "Atmos",
          "HappyCoin",
          "MacronCoin",
          "Condensate",
          "Independent Money System",
          "ArgusCoin",
          "LomoCoin",
          "ProCurrency",
          "GoldReserve",
          "GrowthCoin",
          "Phreak",
          "Degas Coin",
          "HTML5 Coin",
          "Ultimate Secure Cash",
          "QTUM",
          "Espers",
          "Denarius",
          "Virta Unique Coin",
          "Bitcoin Planet",
          "BritCoin",
          "Linda",
          "DeepOnion",
          "Signatum",
          "Cream",
          "Monoeci",
          "Draftcoin",
          "Vechain",
          "Stakecoin",
          "CoinonatX",
          "Ethereum Dark",
          "Obsidian",
          "Cardano",
          "Regalcoin",
          "TrezarCoin",
          "TerraNovaCoin",
          "Rupee",
          "WomenCoin",
          "Theresa May Coin",
          "NamoCoin",
          "LUXCoin",
          "Xios",
          "Bitcloud 2.0",
          "KekCoin",
          "BlackholeCoin",
          "Infinity Economics",
          "Magnet",
          "Lamden Tau",
          "Electra",
          "Bitcoin Diamond",
          "Cash & Back Coin",
          "Bulwark",
          "Kalkulus",
          "GermanCoin",
          "LiteCoin Ultra",
          "PhantomX",
          "Digiwage",
          "Trollcoin",
          "Litecoin Plus",
          "Monkey Project",
          "TokenPay",
          "1717 Masonic Commemorative Token",
          "My Big Coin",
          "Unified Society USDEX",
          "Tokyo Coin",
          "BiblePay",
          "LitecoinCash",
          "Stipend",
          "Poa Network",
          "Pushi",
          "Ellerium",
          "Velox",
          "Ontology",
          "Bitspace",
          "Briacoin",
          "Ignition",
          "MedicCoin",
          "Bitcoin Green",
          "Deviant Coin",
          "Abjcoin",
          "Semux",
          "Carebit",
          "Zealium",
          "Proton",
          "iDealCash",
          "Bitcoin Incognito",
          "HollyWoodCoin",
          "Swisscoin",
          "Xt3ch",
          "TheVig",
          "EmaratCoin",
          "Dekado",
          "Lynx",
          "Poseidon Quark",
          "BitcoinWSpectrum",
          "Muse",
          "Trivechain",
          "Dystem",
          "Giant",
          "Peony Coin",
          "Absolute Coin",
          "Vitae",
          "TPCash",
          "ARENON",
          "EUNO",
          "MMOCoin",
          "Ketan",
          "XDNA",
          "PAXEX",
          "ThunderStake",
          "Kcash",
          "Acute Angle Cloud",
          "Bettex coin",
          "BitMoney",
          "HerbCoin",
          "PirateCash",
          "Oduwa",
          "Galilel",
          "Crypto Sports",
          "Credit",
          "Dash Platinum",
          "Nasdacoin",
          "Beetle Coin",
          "Titan Coin",
          "Award",
          "Insane Coin",
          "ALAX",
          "LiteDoge",
          "OrangeCoin",
          "BitstarCoin",
          "NeosCoin",
          "PinkCoin",
          "AudioCoin",
          "IncaKoin",
          "Piggy Coin",
          "Genstake",
          "XiaoMiCoin",
          "CapriCoin",
          " ClubCoin",
          "Radium",
          "Creditbit ",
          "OKCash",
          "Lisk",
          "HiCoin",
          "WhiteCoin",
          "FriendshipCoin",
          "Fiii",
          "Triangles Coin",
          "TigerCash",
          "Waves",
          "Particl",
          "Nxt",
          "ZEPHYR",
          "Gapcoin",
          "BitcoinPlus"
         ],
         "legendgroup": "3",
         "marker": {
          "color": [
           3,
           3,
           3,
           3,
           3,
           3,
           3,
           3,
           3,
           3,
           3,
           3,
           3,
           3,
           3,
           3,
           3,
           3,
           3,
           3,
           3,
           3,
           3,
           3,
           3,
           3,
           3,
           3,
           3,
           3,
           3,
           3,
           3,
           3,
           3,
           3,
           3,
           3,
           3,
           3,
           3,
           3,
           3,
           3,
           3,
           3,
           3,
           3,
           3,
           3,
           3,
           3,
           3,
           3,
           3,
           3,
           3,
           3,
           3,
           3,
           3,
           3,
           3,
           3,
           3,
           3,
           3,
           3,
           3,
           3,
           3,
           3,
           3,
           3,
           3,
           3,
           3,
           3,
           3,
           3,
           3,
           3,
           3,
           3,
           3,
           3,
           3,
           3,
           3,
           3,
           3,
           3,
           3,
           3,
           3,
           3,
           3,
           3,
           3,
           3,
           3,
           3,
           3,
           3,
           3,
           3,
           3,
           3,
           3,
           3,
           3,
           3,
           3,
           3,
           3,
           3,
           3,
           3,
           3,
           3,
           3,
           3,
           3,
           3,
           3,
           3,
           3,
           3,
           3,
           3,
           3,
           3,
           3,
           3,
           3,
           3,
           3,
           3,
           3,
           3,
           3,
           3,
           3,
           3,
           3,
           3,
           3,
           3,
           3,
           3,
           3,
           3,
           3,
           3,
           3,
           3,
           3,
           3,
           3,
           3,
           3,
           3,
           3,
           3,
           3,
           3,
           3,
           3,
           3,
           3,
           3,
           3,
           3,
           3,
           3,
           3,
           3,
           3,
           3,
           3,
           3,
           3,
           3,
           3,
           3,
           3,
           3,
           3,
           3,
           3,
           3,
           3,
           3,
           3,
           3,
           3,
           3,
           3,
           3,
           3,
           3,
           3,
           3,
           3,
           3,
           3,
           3,
           3,
           3,
           3,
           3,
           3,
           3,
           3,
           3,
           3,
           3,
           3,
           3,
           3,
           3,
           3,
           3,
           3,
           3,
           3,
           3,
           3,
           3,
           3,
           3,
           3,
           3,
           3,
           3,
           3,
           3,
           3,
           3,
           3,
           3,
           3,
           3,
           3,
           3,
           3,
           3,
           3,
           3,
           3,
           3,
           3,
           3,
           3,
           3,
           3,
           3,
           3,
           3,
           3,
           3,
           3,
           3,
           3,
           3,
           3,
           3,
           3
          ],
          "coloraxis": "coloraxis",
          "symbol": "circle"
         },
         "mode": "markers",
         "name": "3",
         "scene": "scene",
         "showlegend": true,
         "type": "scatter3d",
         "x": [
          -0.20808596923378783,
          -0.1867514885456291,
          3.4189045509929854,
          -0.2139211225734848,
          -0.11308055531468995,
          -0.20812385735885897,
          -0.19785092826656706,
          -0.1958054275273103,
          -0.20764226459925422,
          -0.20808027483718852,
          -0.20806015069880998,
          0.8238542304970168,
          -0.20114268246523476,
          -0.20552345597105792,
          -0.21379075017628904,
          -0.1990965583022035,
          -0.1595153424778785,
          -0.19747081181512222,
          -0.2025229990813265,
          -0.2004747522009498,
          -0.20597724875854756,
          -0.2142799569662837,
          -0.1885844269611974,
          -0.14301601856499618,
          -0.21415729924937094,
          -0.17529962654395678,
          -0.20631587125664938,
          -0.21411928720406703,
          -0.19574473001795029,
          -0.12869156014688782,
          -0.184779459101361,
          -0.2070869005876709,
          -0.19770679011969308,
          -0.19018602604728888,
          -0.19765024565721465,
          -0.20383027351603367,
          -0.2077083904618578,
          -0.17733115026690432,
          -0.2006497311084218,
          -0.19535620485686853,
          -0.19700494961189854,
          -0.19761145538336108,
          -0.19925743102943794,
          -0.19906550124142078,
          -0.20808784712768524,
          0.220271534419583,
          -0.20818195785254448,
          -0.2075255427988236,
          -0.19503351426944737,
          -0.2102430694574256,
          1.3614985350874216,
          -0.20789529602255094,
          -0.1310872040585356,
          -0.19343940780753965,
          -0.21148711546960577,
          -0.20609736915209514,
          -0.20280957807729377,
          -0.19958719515608667,
          -0.21250681882843,
          -0.19013274767012367,
          -0.17558213377545284,
          -0.20756961510182095,
          -0.20556317506758195,
          -0.18555544363629867,
          -0.18749825002724865,
          -0.17685106961956504,
          -0.21353943627950447,
          -0.206523829938965,
          -0.20814444846209398,
          -0.21423972944173864,
          -0.20783475739038176,
          -0.14471344384512427,
          0.2974052743190327,
          -0.19207658705536398,
          -0.1951223880774835,
          -0.1912904997420605,
          -0.18758857135521145,
          -0.19830490369342232,
          -0.19063349203726243,
          -0.1085677867745871,
          -0.14828285561215265,
          -0.21369946213720575,
          1.2051522354974782,
          -0.2141827733274103,
          -0.19268256923980387,
          -0.20743812393299232,
          -0.2076245994264459,
          -0.19343940780753965,
          -0.21358201089158757,
          -0.20797575593064965,
          -0.2074463829744613,
          -0.19042490946813947,
          -0.2076354929816639,
          -0.20134735279708665,
          -0.21421714852722912,
          -0.20650444007944976,
          0.6420415513382379,
          -0.2079021037654913,
          -0.20800231972677855,
          -0.19303088164129764,
          -0.19977926679625857,
          -0.20267205385660014,
          -0.20811524724300828,
          -0.2140998882934685,
          -0.2077051082297223,
          -0.20785971930267552,
          -0.1972791371044425,
          -0.18336373408551648,
          -0.18728521210443222,
          -0.1828580180355101,
          -0.19698592968143347,
          -0.21307060962237057,
          -0.20027291974204706,
          -0.21149537545842423,
          -0.19114878234811278,
          -0.21294418557582986,
          -0.18383128715210412,
          -0.2073883473536755,
          -0.20779046131712883,
          -0.2077796595310701,
          -0.19797553100415743,
          0.5610778737725027,
          -0.21361615135201684,
          -0.17320930036582335,
          -0.19346860252232204,
          -0.20670211531624127,
          1.3245018879776371,
          -0.19598077819413473,
          -0.18853207258542298,
          0.650189629065643,
          -0.2015945264749018,
          -0.199594298863053,
          -0.19994977398112782,
          -0.19723384677491476,
          0.43386313074253624,
          -0.1973361919616034,
          -0.18758593875826923,
          -0.19933679338378654,
          -0.21399382303924144,
          -0.1974208667274942,
          1.5399759191070304,
          -0.1932611296963822,
          -0.20730294854049225,
          -0.20798001289388457,
          -0.18962171044186663,
          0.6571590737359607,
          -0.2138973628198266,
          -0.1958062287001255,
          -0.20790976466742664,
          -0.19062569072146623,
          0.7774391283601448,
          -0.20596305180688793,
          -0.18115663457977293,
          -0.20026561787743302,
          -0.20784129568827178,
          -0.20106338723915826,
          -0.19021259065228757,
          -0.20768908143522355,
          0.028892925597722368,
          -0.2122474139881223,
          -0.1417734499346869,
          0.530866946047188,
          -0.19296104447242346,
          -0.20428583101442704,
          -0.1910713003641208,
          -0.1928829921400108,
          0.3713446796978144,
          -0.20644319468482517,
          -0.21309157763444567,
          -0.19171625196794567,
          -0.19005411752755608,
          -0.2080076782430585,
          -0.2037941942296048,
          -0.19049305069298764,
          -0.1917963024523562,
          -0.18569628736987473,
          -0.2021900353844084,
          -0.1760860543332888,
          -0.09932831681368057,
          -0.16066791138967962,
          -0.20066932586940342,
          -0.17319589936948745,
          -0.21399462440401562,
          -0.2004549419667362,
          -0.1962394949861827,
          -0.17064133299592493,
          -0.20104496153020956,
          -0.2080428713273331,
          -0.20801757574866278,
          -0.18878466417020281,
          -0.19025085825466606,
          -0.19272402867064006,
          -0.2076334406464064,
          -0.14944497411249122,
          -0.19941432981154666,
          -0.1929682226582164,
          -0.19073391016451566,
          -0.13510153974172698,
          -0.17873778050869565,
          -0.1970308818712708,
          0.049239142736779415,
          -0.19731906917924946,
          -0.19925475353712252,
          -0.20691063700284817,
          -0.18815348729465256,
          1.9236131693798235,
          -0.18673355329846444,
          -0.19627131211657492,
          -0.1908140497011064,
          -0.20006969488690185,
          -0.19302222477013872,
          -0.20340690446228735,
          -0.02732668000104491,
          -0.20070607390387601,
          -0.19133214933763115,
          -0.19790136062113697,
          -0.20322590364651694,
          -0.2133094254299369,
          -0.19362231548842618,
          -0.19168128916522806,
          -0.19716401899492847,
          -0.20299459398051117,
          -0.010202303273824244,
          -0.15392051737305348,
          -0.15356532729645173,
          -0.19025268207947776,
          0.5320724215946205,
          -0.20246882228994212,
          -0.19110780188663687,
          -0.20765029833126383,
          -0.20307989908411503,
          -0.1931771689283373,
          1.0138504020040229,
          -0.2038631635855542,
          -0.2069265608556746,
          -0.19300706331272244,
          -0.1366958571464384,
          -0.20980354442401844,
          -0.21361728537375352,
          -0.12595432763867717,
          0.3772140397817764,
          -0.20601189528224886,
          -0.20722660580993826,
          -0.19788005092234984,
          -0.2026286649775918,
          -0.08717211085036093,
          0.06489362767000857,
          -0.19670168072833366,
          -0.20702692261171177,
          -0.1979295023723656,
          -0.2091329358508507,
          -0.20490222131149463,
          -0.19379524433155745,
          -0.19192046996122616,
          -0.20617533160266555,
          -0.14775145133185988,
          0.054493488600571835,
          -0.2012435040813725,
          -0.2019849817299808,
          -0.21793947226792096,
          -0.19785527295547553,
          -0.17293069231388739,
          -0.17632376867672828,
          -0.19371632904395128,
          -0.15694489612795431,
          -0.10761309228878742,
          -0.20533441790509502,
          -0.19786695625039422
         ],
         "y": [
          -0.7935258554335822,
          -0.7959387183160102,
          -0.32034684552187354,
          -0.7952120086052737,
          -0.17712282429534,
          -0.7010457794604628,
          -0.14718723448197132,
          -0.7377628671930545,
          -0.7935543872370452,
          -0.7935251408522174,
          -0.7935274237317284,
          -0.22248346311642833,
          -0.723406990580016,
          -0.7936027441818095,
          -0.7952390920381074,
          -0.7304727908381582,
          -0.7020453836862135,
          -0.23964093947683004,
          -0.7140333422373415,
          -0.7935129434549151,
          -0.7935919720369785,
          -0.7952209592280478,
          -0.15331315625360556,
          -0.1781357032890799,
          -0.7952084900344057,
          -0.7942642529038203,
          -0.7935140361778118,
          -0.7952334658209087,
          -0.7922942342398098,
          -0.09992004286103363,
          -0.17251881079786743,
          -0.701086608438096,
          -0.7613422521718933,
          -0.23931799379517563,
          -0.7613615894189575,
          -0.24128717316409684,
          -0.7935283858699783,
          -0.09967646061947726,
          -0.7299596746219723,
          -0.23976209723557446,
          -0.761343827453895,
          -0.6995177355879462,
          -0.7382743229078681,
          -0.7263882339896699,
          -0.7010532601902665,
          -0.784726969313257,
          -0.7010773565704507,
          -0.7934828721426623,
          -0.23936969214083303,
          -0.7946021568201044,
          -0.18781865889099558,
          -0.7010249437591355,
          -0.16776948872990538,
          -0.18716243006030875,
          -0.7955164917898558,
          -0.7007049328307466,
          -0.7002406873569863,
          -0.743834672353256,
          -0.795061755419189,
          -0.1750592191693381,
          -0.7926874138588036,
          -0.7934648607248758,
          -0.793670400539595,
          -0.20712434057353948,
          -0.2422623156677798,
          -0.06209836480270856,
          -0.7951850291493836,
          -0.7935087888286564,
          -0.7010452972632241,
          -0.7952179337150426,
          -0.7934983391510625,
          -0.15982082754621812,
          -0.7689226261357603,
          -0.1872405906735784,
          -0.7935076701638573,
          -0.1875329349197457,
          -0.207451567352309,
          -0.7300865265559517,
          -0.18667882695822594,
          -0.7320056389816246,
          -0.10914770024242329,
          -0.7952276930996051,
          -1.049590271592068,
          -0.7952265270240649,
          -0.18720579361032486,
          -0.793514164459883,
          -0.7934622942168227,
          -0.18716243006030875,
          -0.7951382309597784,
          -0.7010841366610231,
          -0.7935334751298987,
          -0.16481839768030257,
          -0.7935131664949634,
          -0.7924562289729323,
          -0.7952150338955265,
          -0.793307866437147,
          -0.290695410474169,
          -0.7935147117071575,
          -0.7935306481856135,
          -0.1951296484808008,
          -0.7266495761244325,
          -0.7927528479280064,
          -0.7010513634955929,
          -0.7952228683439005,
          -0.7935290677176354,
          -0.7934896112363904,
          -0.23953342121066484,
          -0.16316619850749434,
          -0.20746894851469252,
          -0.7949713070400736,
          -0.23967241633593225,
          -0.7950926538263712,
          -0.729916799149008,
          -0.7953819376316327,
          -0.18729559751768826,
          -0.7951189170327463,
          -0.18771616783276088,
          -0.7947549300972377,
          -0.7935067360940902,
          -0.7934809402516847,
          -0.7918308098495446,
          -0.020240431810622635,
          -0.7952070462179084,
          -0.23715165472490873,
          -0.18711841139733337,
          -0.7934148213280251,
          -0.7133343512159,
          -0.14686378462846772,
          -0.17513934917911517,
          -0.7166882845218374,
          -0.7437213015850864,
          -0.7437193352907833,
          -0.7335314501547343,
          -0.7613721841472734,
          -0.7371148176107989,
          -0.761393058635897,
          -0.17331634678170718,
          -0.7336587901376928,
          -0.7952443205134897,
          -0.23964666229921813,
          -0.12326838673492256,
          -0.18704157777930644,
          -0.7935053849493228,
          -0.7935319262698781,
          -0.174540911549309,
          -0.1783527922880392,
          -0.7951979675420933,
          -0.7139248347759507,
          -0.7935027462065397,
          -0.1704081969754545,
          -0.9033734100174136,
          -0.701198623570378,
          -0.7434505489963591,
          -0.7307730644802574,
          -0.7934969808915269,
          -0.7487875279492234,
          -0.1732129648125436,
          -0.7935521775716619,
          -0.16017981700173659,
          -0.7950966670332199,
          -0.10907669092136613,
          -0.7820587317359182,
          -0.7615766437986409,
          -0.7935182631298532,
          -0.18981145758983406,
          -0.19514139400860964,
          -0.7241272964312636,
          -0.7932978172257625,
          -0.7952780668613063,
          -0.19500423363981956,
          -0.7938559342677074,
          -0.7935269381732415,
          -0.24129087286119102,
          -0.1750166308902984,
          -0.1494845305580838,
          -0.16298491443650068,
          -0.7938701433209947,
          -0.20681427523236198,
          -0.0925782940371344,
          -0.09645264309124917,
          -0.7266917551334797,
          -0.09608236279599047,
          -0.7951853532731615,
          -0.7316710821530041,
          -0.23948751434149135,
          -0.17356000353699674,
          -0.7436836525358729,
          -0.7935234225749056,
          -0.7935210866970364,
          -0.23960911132535634,
          -0.17320498397524767,
          -0.1870529564983151,
          -0.793506002088698,
          -0.10628307900654418,
          -0.7491301015080604,
          -0.18703259090632568,
          -0.17030892591656988,
          -0.7892478268808694,
          -0.10093597959109842,
          -0.23969505947447395,
          -0.8082694623783011,
          -0.23956687492092854,
          -0.7412749890144896,
          -0.7934512061809001,
          -0.1843105828156398,
          -0.25204851005513446,
          -0.1940277840971024,
          -0.14718229162055693,
          -0.17546787586836415,
          -0.72425570502244,
          -0.19510867458156902,
          -0.7490402136424811,
          -0.21098193865343004,
          -0.7242346290653772,
          -0.19515993430391299,
          -0.7918462179315471,
          -0.24127988612665763,
          -0.7952328113757574,
          -0.23951503318901257,
          -0.18680653803371974,
          -0.7260724396845618,
          -0.24115714614975142,
          -0.7663172053732472,
          -0.09912778033251535,
          -0.09732627192672035,
          -0.17779975411285354,
          0.017772598274682187,
          -0.7490496894763163,
          -0.13906058000624957,
          -0.7935366584935459,
          -0.7490554465940429,
          -0.19510544537092575,
          -0.763475420769152,
          -0.2412814792270424,
          -0.7934478981754653,
          -0.7315483306980692,
          -0.7356735591858828,
          -0.7945568297012892,
          -0.7952447644191591,
          -0.11046525064932554,
          -0.7822772641964512,
          -0.7931976460280077,
          -0.7934984564104082,
          -0.14714892385573222,
          -0.7957437018059778,
          -0.7787929100359665,
          -0.75712453820918,
          -0.7950772785609718,
          -0.7936889302179918,
          -0.7941175987002649,
          -0.7955007614372029,
          -0.7935799837282702,
          -0.18713025809277228,
          -0.16473536030217498,
          -0.7011355478846787,
          -0.10912556510851211,
          -0.25405784685117344,
          -0.7938086890813482,
          -0.7139310571407748,
          -0.06851080984504448,
          -0.7613564955872437,
          -0.1486162036955676,
          -0.09601203681850151,
          -0.18714804045362143,
          -0.11170768044471426,
          -0.08364007029962582,
          -0.7931486155991826,
          -0.23961625866447472
         ],
         "z": [
          0.22347672828416068,
          0.21334436961077763,
          2.7753795340686294,
          0.09522642293649704,
          -0.14333198227836894,
          0.06784727913100251,
          -0.17228169955999345,
          0.11008633835184546,
          0.2233774892725111,
          0.22348102017684363,
          0.22347142709878134,
          -0.15240781841780146,
          0.10200585075583558,
          0.22335620025583108,
          0.09510096511674185,
          0.10389891345965535,
          0.06792417499809686,
          -0.01647966564444328,
          0.09709491586431176,
          0.22436128569123792,
          0.22336289879256652,
          0.09514176221846958,
          -0.14503371377343355,
          -0.13747407839754638,
          0.09521915775004469,
          0.22319815885476327,
          0.22372784622870398,
          0.095094626559737,
          0.2311456124448082,
          -0.08874267072100049,
          -0.13297741554185624,
          0.06774847750344637,
          0.11568473441486773,
          -0.01403362573092887,
          0.11559123167186468,
          -0.14458075271778206,
          0.22350428013732948,
          -0.0820328105515196,
          0.10430840436488291,
          -0.016876305626065857,
          0.11575205712930373,
          0.07684607279829356,
          0.10708148929536546,
          0.10640254865203909,
          0.06781262635795313,
          0.19588848294239894,
          0.06767842305506543,
          0.22375831305386576,
          -0.014820869946395199,
          0.09876227435154719,
          0.4179477889986163,
          0.0679791420049504,
          0.026711939356495587,
          -0.15294386860853007,
          0.09392004914622999,
          0.06982033304548214,
          0.07256441566161358,
          0.10358866615039558,
          0.09615218710662068,
          -0.139356606477111,
          0.23128797784709396,
          0.22384632875482918,
          0.2230035240190236,
          -0.12239173360393538,
          -0.14784701344603413,
          -0.09511243522235058,
          0.09540638215318897,
          0.22373251657346988,
          0.0678475491193972,
          0.09516166629378182,
          0.2236454283835956,
          0.05954531503033917,
          0.018168025477750756,
          -0.15319989107393678,
          0.106023701062421,
          -0.15462087438337196,
          -0.12429536355594131,
          0.10390741897799627,
          -0.15015189349519467,
          0.16464331994667403,
          -0.12537407350797322,
          0.09516947753893176,
          -1.2179128476365852,
          0.09512353541241754,
          -0.15308582994769332,
          0.22360656420444172,
          0.22385363559760244,
          -0.15294386860853007,
          0.09564280088530845,
          0.06766567079547359,
          0.22350623314554832,
          -0.09095235961505656,
          0.22359048985949967,
          0.22970921644623188,
          0.09517902640615374,
          0.22476928241609231,
          -0.18916072025745181,
          0.22355387681333422,
          0.22346103802134096,
          -0.1407756283188406,
          0.10354793117583407,
          0.2280393491164104,
          0.06781944868280582,
          0.09515128497629104,
          0.2235011216337159,
          0.22368769122338453,
          -0.015905381755203358,
          0.03810696695168434,
          -0.124352265103146,
          0.21874468384412116,
          -0.016589644868323598,
          0.09593247376020135,
          0.10457035049355774,
          0.09461206937495432,
          -0.15338343570740615,
          0.09581081545227156,
          -0.15476273394022688,
          0.09828237392822571,
          0.2236069479997681,
          0.2237409487827255,
          0.23329232013797216,
          0.5630218543901504,
          0.09528475630722112,
          -0.0010530341965286846,
          -0.15272032539899066,
          0.22419725477181376,
          0.3992897943512169,
          -0.17041503656896426,
          -0.13959720571939027,
          0.26476154015236464,
          0.10395673593433681,
          0.10418184916896552,
          0.1060104699568242,
          0.11558142761617424,
          0.5829719943235498,
          0.11546293090357185,
          -0.1373955970867489,
          0.10542059655610027,
          0.09505221367319883,
          -0.01650376805438687,
          -0.037345340393393434,
          -0.15230235897726196,
          0.2236663045452266,
          0.223456853895419,
          -0.13826277134520057,
          -0.0720581988385034,
          0.09530128335739765,
          0.09837562092513236,
          0.22361467165532609,
          -0.13895527048478765,
          -0.2362749856921175,
          0.0672924307422952,
          0.10754771496385422,
          0.10389445673086671,
          0.22365172021082155,
          0.10062751341792382,
          -0.1371461689456992,
          0.22338383635127104,
          -0.21481829596277846,
          0.09600028542570459,
          -0.1243087589530849,
          -0.014741887164537351,
          0.11498777739828414,
          0.22392427066349258,
          -0.1358811680138056,
          -0.14082021839389763,
          0.6431337212782254,
          0.22482761517507877,
          0.09497540619220343,
          -0.13998848627482824,
          0.22371502556179557,
          0.22347956737831112,
          -0.14459592703974217,
          -0.1391760172788421,
          -0.1447500926431746,
          0.03879011479101918,
          0.22233746697347398,
          -0.11977721855827422,
          -0.0569594202455124,
          -0.08365683976385191,
          0.10323233086620044,
          -0.08310507296721639,
          0.09535578871806576,
          0.10738153467351341,
          -0.015557234728018525,
          -0.13682089329462624,
          0.1042096837690989,
          0.22349388890479743,
          0.2235086366862287,
          -0.015382161230530907,
          -0.13710912982235277,
          -0.15230322706866528,
          0.2236276046964218,
          -0.12041720586034498,
          0.09904061961242028,
          -0.15222459755484608,
          -0.13846471817650985,
          0.25335159318770456,
          -0.07881526825193756,
          -0.01671108083867878,
          0.17520987316734074,
          -0.016081948913398574,
          0.10716215623756672,
          0.22398747296233562,
          -0.13241645172603767,
          -0.19269223088084297,
          -0.13442455615978982,
          -0.1720864659761113,
          -0.1407895140009349,
          0.10131061054549868,
          -0.14066668943739244,
          0.09907438350042418,
          0.14939176304609034,
          0.10135977375582153,
          -0.14074900766105056,
          0.23322094571559224,
          -0.14447826837239386,
          0.09518504189767983,
          -0.015417648995811052,
          -0.1509221807981818,
          0.10687371544963695,
          -0.14382133783928397,
          0.38486083228379514,
          -0.08938328753724191,
          -0.08740048306799394,
          -0.132689211242688,
          0.6104893048549634,
          0.09912641267889977,
          -0.14866043793873093,
          0.2234679227774341,
          0.09903108602784244,
          -0.14066671373642567,
          0.5095617877015451,
          -0.14455496595830894,
          0.22400279654233168,
          0.10881417206629172,
          0.1427315342936362,
          0.09904293437000566,
          0.09509039854829426,
          -0.12975910478547809,
          0.3443120671799337,
          0.22538981939211752,
          0.2237101895898119,
          -0.17208754304789403,
          0.09370211471329265,
          0.3123423767862056,
          -0.19159487032466227,
          0.09777100837294841,
          0.22275077669453727,
          0.2215210846987798,
          0.09425408588423899,
          0.2235401800700335,
          -0.15281643979594206,
          -0.0906856186066637,
          0.06759443285794951,
          -0.12520296898164593,
          -0.06364031753105324,
          0.22275566996485138,
          0.09767947614585287,
          0.05455288230392269,
          0.11559542652375315,
          -0.17696193899808382,
          -0.08308166700771764,
          -0.15289953095510392,
          -0.10353417256433872,
          -0.16601874022038665,
          0.22571512567196672,
          -0.016395146081438782
         ]
        },
        {
         "customdata": [
          [
           "SHA-256"
          ],
          [
           "Scrypt"
          ],
          [
           "Ethash"
          ],
          [
           "Equihash"
          ],
          [
           "Multiple"
          ],
          [
           "Scrypt"
          ],
          [
           "X11"
          ],
          [
           "Scrypt"
          ],
          [
           "Multiple"
          ],
          [
           "Scrypt"
          ],
          [
           "SHA-256"
          ],
          [
           "Scrypt"
          ],
          [
           "Scrypt"
          ],
          [
           "Quark"
          ],
          [
           "Groestl"
          ],
          [
           "Scrypt"
          ],
          [
           "Scrypt"
          ],
          [
           "Scrypt"
          ],
          [
           "X11"
          ],
          [
           "Multiple"
          ],
          [
           "SHA-256"
          ],
          [
           "Scrypt"
          ],
          [
           "Scrypt"
          ],
          [
           "Scrypt"
          ],
          [
           "Scrypt"
          ],
          [
           "Scrypt"
          ],
          [
           "NeoScrypt"
          ],
          [
           "Scrypt"
          ],
          [
           "Scrypt"
          ],
          [
           "Scrypt"
          ],
          [
           "Scrypt"
          ],
          [
           "SHA-256"
          ],
          [
           "Scrypt"
          ],
          [
           "Scrypt"
          ],
          [
           "Scrypt"
          ],
          [
           "Scrypt"
          ],
          [
           "HybridScryptHash256"
          ],
          [
           "Scrypt"
          ],
          [
           "Scrypt"
          ],
          [
           "SHA-256"
          ],
          [
           "Scrypt"
          ],
          [
           "Scrypt"
          ],
          [
           "Scrypt"
          ],
          [
           "Scrypt"
          ],
          [
           "SHA-256"
          ],
          [
           "SHA-256"
          ],
          [
           "SHA-256"
          ],
          [
           "SHA-256"
          ],
          [
           "SHA-256"
          ],
          [
           "Scrypt"
          ],
          [
           "Lyra2REv2"
          ],
          [
           "Scrypt"
          ],
          [
           "SHA-256"
          ],
          [
           "CryptoNight"
          ],
          [
           "CryptoNight"
          ],
          [
           "Scrypt"
          ],
          [
           "Scrypt"
          ],
          [
           "Scrypt"
          ],
          [
           "Scrypt"
          ],
          [
           "Scrypt"
          ],
          [
           "Scrypt"
          ],
          [
           "Stanford Folding"
          ],
          [
           "Scrypt"
          ],
          [
           "Scrypt"
          ],
          [
           "M7 POW"
          ],
          [
           "Scrypt"
          ],
          [
           "SHA-256"
          ],
          [
           "Scrypt"
          ],
          [
           "X11"
          ],
          [
           "Lyra2RE"
          ],
          [
           "SHA-256"
          ],
          [
           "X11"
          ],
          [
           "Scrypt"
          ],
          [
           "Scrypt"
          ],
          [
           "Ethash"
          ],
          [
           "X11"
          ],
          [
           "SHA-256"
          ],
          [
           "Scrypt"
          ],
          [
           "1GB AES Pattern Search"
          ],
          [
           "Scrypt"
          ],
          [
           "SHA-256"
          ],
          [
           "X11"
          ],
          [
           "Dagger"
          ],
          [
           "Scrypt"
          ],
          [
           "X11GOST"
          ],
          [
           "Scrypt"
          ],
          [
           "X11"
          ],
          [
           "Scrypt"
          ],
          [
           "X11"
          ],
          [
           "CryptoNight"
          ],
          [
           "SHA-256"
          ],
          [
           "Multiple"
          ],
          [
           "Scrypt"
          ],
          [
           "SHA-256"
          ],
          [
           "Scrypt"
          ],
          [
           "Lyra2Z"
          ],
          [
           "Ethash"
          ],
          [
           "Equihash"
          ],
          [
           "Scrypt"
          ],
          [
           "X11"
          ],
          [
           "X11"
          ],
          [
           "CryptoNight"
          ],
          [
           "Scrypt"
          ],
          [
           "CryptoNight"
          ],
          [
           "Lyra2RE"
          ],
          [
           "X11"
          ],
          [
           "CryptoNight-V7"
          ],
          [
           "Scrypt"
          ],
          [
           "X11"
          ],
          [
           "Equihash"
          ],
          [
           "Scrypt"
          ],
          [
           "Lyra2RE"
          ],
          [
           "Dagger-Hashimoto"
          ],
          [
           "Scrypt"
          ],
          [
           "NIST5"
          ],
          [
           "Scrypt"
          ],
          [
           "SHA-256"
          ],
          [
           "Scrypt"
          ],
          [
           "CryptoNight-V7"
          ],
          [
           "Blake2b"
          ],
          [
           "Cloverhash"
          ],
          [
           "CryptoNight"
          ],
          [
           "X11"
          ],
          [
           "Scrypt"
          ],
          [
           "Scrypt"
          ],
          [
           "X11"
          ],
          [
           "X11"
          ],
          [
           "CryptoNight"
          ],
          [
           "Time Travel"
          ],
          [
           "Scrypt"
          ],
          [
           "Keccak"
          ],
          [
           "X11"
          ],
          [
           "SHA-256"
          ],
          [
           "Scrypt"
          ],
          [
           "Scrypt"
          ],
          [
           "Scrypt"
          ],
          [
           "Scrypt"
          ],
          [
           "Scrypt"
          ],
          [
           "CryptoNight"
          ],
          [
           "Equihash"
          ],
          [
           "X11"
          ],
          [
           "NeoScrypt"
          ],
          [
           "Equihash"
          ],
          [
           "Dagger"
          ],
          [
           "Scrypt"
          ],
          [
           "X11"
          ],
          [
           "NeoScrypt"
          ],
          [
           "Ethash"
          ],
          [
           "NeoScrypt"
          ],
          [
           "Multiple"
          ],
          [
           "CryptoNight"
          ],
          [
           "CryptoNight"
          ],
          [
           "Ethash"
          ],
          [
           "X11"
          ],
          [
           "CryptoNight-V7"
          ],
          [
           "Scrypt"
          ],
          [
           "BLAKE256"
          ],
          [
           "X11"
          ],
          [
           "NeoScrypt"
          ],
          [
           "NeoScrypt"
          ],
          [
           "Scrypt"
          ],
          [
           "X11"
          ],
          [
           "SHA-256"
          ],
          [
           "C11"
          ],
          [
           "SkunkHash"
          ],
          [
           "CryptoNight"
          ],
          [
           "Scrypt"
          ],
          [
           "Dagger"
          ],
          [
           "Lyra2REv2"
          ],
          [
           "Scrypt"
          ],
          [
           "Scrypt"
          ],
          [
           "X11"
          ],
          [
           "Ethash"
          ],
          [
           "CryptoNight"
          ],
          [
           "Scrypt"
          ],
          [
           "IMesh"
          ],
          [
           "Equihash"
          ],
          [
           "Lyra2Z"
          ],
          [
           "X11"
          ],
          [
           "CryptoNight"
          ],
          [
           "NIST5"
          ],
          [
           "Lyra2RE"
          ],
          [
           "Tribus"
          ],
          [
           "Lyra2Z"
          ],
          [
           "CryptoNight"
          ],
          [
           "CryptoNight Heavy"
          ],
          [
           "CryptoNight"
          ],
          [
           "Jump Consistent Hash"
          ],
          [
           "CryptoNight"
          ],
          [
           "X16R"
          ],
          [
           "HMQ1725"
          ],
          [
           "X11"
          ],
          [
           "Scrypt"
          ],
          [
           "CryptoNight-V7"
          ],
          [
           "Cryptonight-GPU"
          ],
          [
           "XEVAN"
          ],
          [
           "CryptoNight Heavy"
          ],
          [
           "SHA-256"
          ],
          [
           "X11"
          ],
          [
           "X16R"
          ],
          [
           "Equihash"
          ],
          [
           "Lyra2Z"
          ],
          [
           "SHA-256"
          ],
          [
           "CryptoNight"
          ],
          [
           "Blake"
          ],
          [
           "Blake"
          ],
          [
           "Exosis"
          ],
          [
           "Scrypt"
          ],
          [
           "Equihash"
          ],
          [
           "Equihash"
          ],
          [
           "QuBit"
          ],
          [
           "SHA-256"
          ],
          [
           "X13"
          ],
          [
           "SHA-256"
          ],
          [
           "Scrypt"
          ],
          [
           "NeoScrypt"
          ],
          [
           "Blake"
          ],
          [
           "Scrypt"
          ],
          [
           "SHA-256"
          ],
          [
           "Scrypt"
          ],
          [
           "Groestl"
          ],
          [
           "Scrypt"
          ],
          [
           "Scrypt"
          ],
          [
           "Multiple"
          ],
          [
           "Equihash+Scrypt"
          ],
          [
           "Ethash"
          ],
          [
           "CryptoNight"
          ],
          [
           "Equihash"
          ]
         ],
         "hovertemplate": "<b>%{hovertext}</b><br><br>Class=%{marker.color}<br>PC1=%{x}<br>PC2=%{y}<br>PC3=%{z}<br>Algorithm=%{customdata[0]}<extra></extra>",
         "hovertext": [
          "Bitcoin",
          "Litecoin",
          "Ethereum Classic",
          "ZCash",
          "DigiByte",
          "ProsperCoin",
          "Spreadcoin",
          "Argentum",
          "MyriadCoin",
          "MoonCoin",
          "ZetaCoin",
          "SexCoin",
          "Quatloo",
          "QuarkCoin",
          "Riecoin",
          "Digitalcoin ",
          "Catcoin",
          "CannaCoin",
          "CryptCoin",
          "Verge",
          "DevCoin",
          "EarthCoin",
          "E-Gulden",
          "Einsteinium",
          "Emerald",
          "Franko",
          "FeatherCoin",
          "GrandCoin",
          "GlobalCoin",
          "GoldCoin",
          "Infinite Coin",
          "IXcoin",
          "KrugerCoin",
          "LuckyCoin",
          "Litebar ",
          "MegaCoin",
          "MediterraneanCoin",
          "MinCoin",
          "NobleCoin",
          "Namecoin",
          "NyanCoin",
          "RonPaulCoin",
          "StableCoin",
          "SmartCoin",
          "SysCoin",
          "TigerCoin",
          "TerraCoin",
          "UnbreakableCoin",
          "Unobtanium",
          "ViaCoin",
          "Vertcoin",
          "WorldCoin",
          "JouleCoin",
          "ByteCoin",
          "DigitalNote ",
          "MonaCoin",
          "Gulden",
          "PesetaCoin",
          "Wild Beast Coin",
          "Flo",
          "ArtByte",
          "Folding Coin",
          "OmniCron",
          "GreenCoin",
          "Cryptonite",
          "MasterCoin",
          "SoonCoin",
          "1Credit",
          "MarsCoin ",
          "Crypto",
          "Anarchists Prime",
          "BowsCoin",
          "Song Coin",
          "BitZeny",
          "Expanse",
          "MindCoin",
          "I0coin",
          "Revolution VR",
          "HOdlcoin",
          "Gamecredits",
          "CarpeDiemCoin",
          "Adzcoin",
          "SoilCoin",
          "YoCoin",
          "SibCoin",
          "Francs",
          "BolivarCoin",
          "Omni",
          "PizzaCoin",
          "Karbo",
          "ZayedCoin",
          "Circuits of Value",
          "DopeCoin",
          "DollarCoin",
          "Shilling",
          "ZCoin",
          "Elementrem",
          "ZClassic",
          "KiloCoin",
          "ArtexCoin",
          "Kurrent",
          "Cannabis Industry Coin",
          "OsmiumCoin",
          "Bikercoins",
          "HexxCoin",
          "PacCoin",
          "Citadel",
          "BeaverCoin",
          "VaultCoin",
          "Zero",
          "Canada eCoin",
          "Zoin",
          "DubaiCoin",
          "EB3coin",
          "Coinonat",
          "BenjiRolls",
          "ILCoin",
          "EquiTrader",
          "Quantum Resistant Ledger",
          "Nano",
          "ChanCoin",
          "Dinastycoin",
          "DigitalPrice",
          "Unify",
          "SocialCoin",
          "ArcticCoin",
          "DAS",
          "LeviarCoin",
          "Bitcore",
          "gCn Coin",
          "SmartCash",
          "Onix",
          "Bitcoin Cash",
          "Sojourn Coin",
          "FrazCoin",
          "Kronecoin",
          "AdCoin",
          "Linx",
          "Sumokoin",
          "BitcoinZ",
          "Elements",
          "VIVO Coin",
          "Bitcoin Gold",
          "Pirl",
          "eBoost",
          "Pura",
          "Innova",
          "Ellaism",
          "GoByte",
          "SHIELD",
          "UltraNote",
          "BitCoal",
          "DaxxCoin",
          "AC3",
          "Lethean",
          "PopularCoin",
          "Photon",
          "Sucre",
          "SparksPay",
          "GunCoin",
          "IrishCoin",
          "Pioneer Coin",
          "UnitedBitcoin",
          "Interzone",
          "MUNcoin",
          "Niobio Cash",
          "ShareChain",
          "Travelflex",
          "KREDS",
          "BitFlip",
          "LottoCoin",
          "Crypto Improvement Fund",
          "Callisto Network",
          "BitTube",
          "Poseidon",
          "Aidos Kuneen",
          "Bitrolium",
          "Alpenschillling",
          "FuturoCoin",
          "Monero Classic",
          "Jumpcoin",
          "Infinex",
          "KEYCO",
          "GINcoin",
          "PlatinCoin",
          "Loki",
          "Newton Coin",
          "MassGrid",
          "PluraCoin",
          "Motion",
          "PlusOneCoin",
          "Axe",
          "HexCoin",
          "Webchain",
          "Ryo",
          "Urals Coin",
          "Qwertycoin",
          "Project Pai",
          "Azart",
          "Xchange",
          "CrypticCoin",
          "Actinium",
          "Bitcoin SV",
          "FREDEnergy",
          "Universal Molecule",
          "Lithium",
          "Exosis",
          "Block-Logic",
          "Beam",
          "Bithereum",
          "SLICE",
          "BLAST",
          "Bitcoin Rhodium",
          "GlobalToken",
          "SolarCoin",
          "UFO Coin",
          "BlakeCoin",
          "Crypto Escudo",
          "Crown Coin",
          "SmileyCoin",
          "Groestlcoin",
          "Bata",
          "Pakcoin",
          "JoinCoin",
          "Vollar",
          "Reality Clash",
          "Beldex",
          "Horizen"
         ],
         "legendgroup": "0",
         "marker": {
          "color": [
           0,
           0,
           0,
           0,
           0,
           0,
           0,
           0,
           0,
           0,
           0,
           0,
           0,
           0,
           0,
           0,
           0,
           0,
           0,
           0,
           0,
           0,
           0,
           0,
           0,
           0,
           0,
           0,
           0,
           0,
           0,
           0,
           0,
           0,
           0,
           0,
           0,
           0,
           0,
           0,
           0,
           0,
           0,
           0,
           0,
           0,
           0,
           0,
           0,
           0,
           0,
           0,
           0,
           0,
           0,
           0,
           0,
           0,
           0,
           0,
           0,
           0,
           0,
           0,
           0,
           0,
           0,
           0,
           0,
           0,
           0,
           0,
           0,
           0,
           0,
           0,
           0,
           0,
           0,
           0,
           0,
           0,
           0,
           0,
           0,
           0,
           0,
           0,
           0,
           0,
           0,
           0,
           0,
           0,
           0,
           0,
           0,
           0,
           0,
           0,
           0,
           0,
           0,
           0,
           0,
           0,
           0,
           0,
           0,
           0,
           0,
           0,
           0,
           0,
           0,
           0,
           0,
           0,
           0,
           0,
           0,
           0,
           0,
           0,
           0,
           0,
           0,
           0,
           0,
           0,
           0,
           0,
           0,
           0,
           0,
           0,
           0,
           0,
           0,
           0,
           0,
           0,
           0,
           0,
           0,
           0,
           0,
           0,
           0,
           0,
           0,
           0,
           0,
           0,
           0,
           0,
           0,
           0,
           0,
           0,
           0,
           0,
           0,
           0,
           0,
           0,
           0,
           0,
           0,
           0,
           0,
           0,
           0,
           0,
           0,
           0,
           0,
           0,
           0,
           0,
           0,
           0,
           0,
           0,
           0,
           0,
           0,
           0,
           0,
           0,
           0,
           0,
           0,
           0,
           0,
           0,
           0,
           0,
           0,
           0,
           0,
           0,
           0,
           0,
           0,
           0,
           0,
           0,
           0,
           0,
           0,
           0,
           0,
           0,
           0,
           0,
           0,
           0,
           0,
           0,
           0,
           0,
           0,
           0,
           0,
           0,
           0,
           0
          ],
          "coloraxis": "coloraxis",
          "symbol": "diamond"
         },
         "mode": "markers",
         "name": "0",
         "scene": "scene",
         "showlegend": true,
         "type": "scatter3d",
         "x": [
          -0.1818912334220833,
          -0.1802927842583635,
          -0.17221684306417845,
          -0.17626449769563876,
          0.20965577818272474,
          -0.18179549268418987,
          -0.18791821569461606,
          -0.1812637015305259,
          -0.12928383283988285,
          3.6974097746702355,
          -0.17808476556360445,
          -0.1776189384096335,
          -0.1809733243433143,
          -0.17113617376208193,
          -0.17364777488038652,
          -0.1811024563348519,
          -0.1817735364190605,
          -0.18189100088686788,
          -0.1880314822230751,
          0.23316391942247033,
          0.3137418803051461,
          0.14394748840368296,
          -0.18156646623760797,
          -0.17575567900528286,
          -0.1814767167991472,
          -0.18196410127628615,
          -0.1700680255420069,
          -0.15437018586568096,
          -0.18039439299184334,
          -0.18073491962084737,
          2.103493339433332,
          -0.18184340530156895,
          -0.17712272845209984,
          -0.1816005296489823,
          -0.1820645570468014,
          -0.1810935265161347,
          -0.17217392737451248,
          -0.18190608141556464,
          0.005235183582990464,
          -0.18193949413488222,
          -0.17362772747689761,
          -0.18186603834410545,
          -0.179202923580333,
          -0.18119052472385683,
          -0.16488268143138446,
          -0.18124109020350088,
          -0.18160332328952508,
          -0.18153185637847397,
          -0.18236897918415088,
          -0.18151237406286938,
          -0.17382441262942178,
          -0.17760432157687714,
          -0.18132707573819054,
          4.492594499521191,
          0.050411287180930416,
          -0.1800014352096085,
          -0.15884466958771284,
          -0.17833395706283373,
          -0.1820655973178663,
          -0.17817533363600932,
          -0.16000483672092275,
          -0.15380041561214636,
          -0.181907470080273,
          -0.011334381400342614,
          -0.1454692679637676,
          -0.18207927105885588,
          -0.18197388522906716,
          0.7473710961420653,
          -0.18746816511338574,
          -0.17455125182977618,
          -0.18160836054168902,
          -0.18783681164648214,
          -0.1794783177906499,
          -0.1784255050105218,
          -0.17572347613182965,
          -0.1878872676852606,
          -0.18184479487447208,
          -0.17679702924611468,
          -0.1738067298411406,
          -0.18018998128756988,
          0.36493181465629787,
          -0.1867579750945309,
          -0.1748245051065209,
          -0.18038444024114336,
          -0.17430495370979615,
          -0.18179345772328545,
          -0.18782982285070207,
          -0.18207934749955143,
          -0.18801550078081836,
          -0.15486079577335132,
          -0.18218174354985342,
          -0.14777603173989978,
          -0.1783070309739108,
          -0.1821293265589508,
          -0.18162363417815033,
          -0.17508932958142923,
          -0.17539190916245892,
          -0.17629126161127903,
          -0.07809711007256652,
          -0.1707744132052689,
          -0.18505731046887816,
          -0.15485318449769828,
          -0.182053954912584,
          -0.15468604084515367,
          -0.1752943653345418,
          0.8301206557622628,
          -0.17334532091656396,
          -0.18201383504190793,
          -0.1777264534600117,
          -0.17631188794802707,
          -0.17957447245546262,
          -0.17493110455428842,
          -0.1747527249633858,
          -0.14071393458827458,
          -0.17512697846365186,
          -0.18142936346628327,
          -0.13718632139484224,
          -0.18116068078947642,
          -0.17327528786033425,
          -0.16934950984059158,
          -0.17422694349087522,
          -0.10750605875932034,
          -0.18674714647303328,
          -0.181625882142155,
          -0.18125902047683046,
          -0.18728884846572272,
          -0.18805829807887436,
          -0.15432038574219972,
          -0.174327143309479,
          4.304699637767278,
          -0.09053145659110975,
          -0.17532329609317424,
          -0.18189019864533623,
          -0.07600735443157944,
          -0.18174606731726842,
          -0.18098226829559755,
          -0.18059082727279946,
          -0.18057464654355565,
          -0.15404678714426748,
          0.11439722092280635,
          -0.12922283956912117,
          -0.1762829396715551,
          -0.1761159799685133,
          -0.17312063202098021,
          -0.1795722552226978,
          -0.18210275383796765,
          -0.1760676721898052,
          -0.17303127474477217,
          -0.17620924235541627,
          -0.1610704494985208,
          0.9953033892199419,
          -0.15488579062728808,
          -0.06714572623150908,
          -0.1815175428897074,
          -0.158608683217553,
          -0.07162167225939023,
          1.1909240988027547,
          -0.18802491228164994,
          -0.17628787472648594,
          -0.1670328228664557,
          -0.18076038055264285,
          -0.18792831566469434,
          -0.18186579682412343,
          -0.17463122237403145,
          -0.1745682550383563,
          -0.1496598341497369,
          0.07018462335831074,
          -0.17258024488846546,
          -0.15459643451451305,
          -0.18150253594794638,
          0.22304623675177318,
          -0.18004158268590625,
          -0.10663916531682195,
          -0.14376651425177128,
          -0.18182117654240348,
          -0.17417768450553334,
          -0.17480186904064632,
          -0.1719756117919941,
          -0.18679762662141322,
          -0.15465199021685758,
          -0.17523674077234713,
          -0.17508116440576466,
          -0.1746150122923811,
          -0.17520825194033898,
          -0.1490171330984306,
          -0.1692533173374575,
          2.328431916099323,
          -0.1710525122336874,
          -0.1365059203548788,
          -0.17512511416515722,
          -0.17446579775896429,
          -0.18800123342019304,
          -0.18185014533677674,
          -0.1574645788804338,
          -0.17384305492506105,
          -0.1727317442736287,
          3.198367539009041,
          -0.12939584396785453,
          -0.18796047629498736,
          -0.17431323262841344,
          -0.035750082803569755,
          -0.17436513218637958,
          -0.18189024515494348,
          -0.04520954934596948,
          -0.17404860756115265,
          -0.17463992729101707,
          -0.1745905640667145,
          -0.18034886999867153,
          -0.1733935149457495,
          -0.17589588237934006,
          -0.17383606380234276,
          -0.18093701136971402,
          -0.1718286266981277,
          -0.17939748088878008,
          0.809837736073585,
          -0.078358571317447,
          -0.10406108312863445,
          -0.1601912767204061,
          -0.18160254384764746,
          0.7705090106435084,
          -0.17307639969176405,
          -0.18196796454671715,
          -0.1792021930013472,
          -0.17494586058867503,
          -0.15205393541183382,
          -0.1754352405656049,
          -0.12610792221057177,
          -0.1762658062982651
         ],
         "y": [
          0.6636551847053498,
          0.5711735263116307,
          0.6613645499796638,
          0.6716626845894497,
          0.657405831116438,
          0.57124658864823,
          0.5695328813767424,
          0.5712993161417518,
          0.6557046252172133,
          1.22272984190574,
          0.6634291683656667,
          0.571248096997824,
          0.571375627086606,
          0.6153281039926759,
          0.6413377314182505,
          0.5712057232061897,
          0.5712420274754296,
          0.5712365977552838,
          0.5695488204969653,
          0.6356518170963184,
          0.6403160907661736,
          0.5547349664621927,
          0.5711990109207592,
          0.5710500065408638,
          0.5712221156211748,
          0.5712445564480814,
          0.6506397310479928,
          0.5708613303278086,
          0.5711414991148905,
          0.5712207630607458,
          0.4402845073799377,
          0.6636452489389039,
          0.5712035425999198,
          0.5712022918419638,
          0.5712279046315264,
          0.5711804658326219,
          0.641982815008693,
          0.5712278130819112,
          0.5892439907282526,
          0.6636652103380904,
          0.5707491646882898,
          0.5712612437338408,
          0.5715771525103788,
          0.571235533623608,
          0.6634124378213818,
          0.6636188498519938,
          0.6636750774809907,
          0.66380445538644,
          0.663675677040153,
          0.5711953646222455,
          0.64045485451677,
          0.5713035882792912,
          0.6636290762224702,
          0.44981489959793897,
          0.7104614011055601,
          0.5711931601356044,
          0.5727753397615108,
          0.5710792875143936,
          0.571232971229722,
          0.5710220979555476,
          0.5704354945714571,
          0.6412027349652736,
          0.5712029432788277,
          0.5737092448656551,
          0.6426696126478129,
          0.5712281886985763,
          0.6636723547099788,
          0.7273175302375867,
          0.5694887282305146,
          0.6518034278569381,
          0.6637207575621754,
          0.5695197659584856,
          0.5714834583947651,
          0.5714156523456725,
          0.6613601512169159,
          0.5695112707551702,
          0.6636455376074051,
          0.570925539273972,
          0.6418730596730464,
          0.5711521701241665,
          0.6320589138857556,
          0.5695347583456905,
          0.6484117448645279,
          0.5715127119183456,
          0.641755856633788,
          0.5712423705292834,
          0.569533495625685,
          0.5712281930782949,
          0.5695720681752232,
          0.7151885925494872,
          0.6636727838521097,
          0.6565098737806594,
          0.5712012717574728,
          0.6636653193604094,
          0.571245045335804,
          0.6517498240524463,
          0.6613265655833148,
          0.6716682444988109,
          0.5875784680812746,
          0.5677932263321257,
          0.5697279984165672,
          0.7152287605505969,
          0.5712308801359667,
          0.7152092198062707,
          0.6517460607847207,
          0.7375084037029032,
          0.6520319156063892,
          0.5712249964025439,
          0.5711351253882286,
          0.6716573478808823,
          0.5710850309791061,
          0.6517123465133324,
          0.6417662054023028,
          0.5778141561855424,
          0.6210798358702121,
          0.5712256397359922,
          0.663776973010327,
          0.571308277740354,
          0.651713736754124,
          0.641928911470739,
          0.6417624756726681,
          0.7129039689025465,
          0.5695932348694601,
          0.571204813726318,
          0.5713400928642727,
          0.569553952378374,
          0.5695578070366865,
          0.7152433249441065,
          0.6417490401831801,
          0.39822246124374455,
          0.6395178986586624,
          0.5710154336719866,
          0.6636549697418536,
          0.5890420334017457,
          0.5712325256932136,
          0.5713167590435183,
          0.5712961675235265,
          0.5712928061548391,
          0.71531890436626,
          0.690904145521503,
          0.5640953351605484,
          0.6507580393039792,
          0.6716318316637238,
          0.6485371657724699,
          0.5710845703733649,
          0.5695772578825966,
          0.6507816366575023,
          0.6617994156840237,
          0.6507609473116899,
          0.65722213875813,
          0.7988238140088746,
          0.7152032734011722,
          0.6766939324873678,
          0.5702147623751636,
          0.6520618064418522,
          0.5672563761290355,
          0.6965153336066063,
          0.5695542873445584,
          0.6507362922383271,
          0.6506316430680593,
          0.571194756739669,
          0.5695463656690781,
          0.6636467351862488,
          0.6380673027242857,
          0.6417825400686235,
          0.7153454432131933,
          0.5567745674520974,
          0.6482112009393857,
          0.6403165575940062,
          0.571257842291051,
          0.5569269149381006,
          0.5697183789533582,
          0.6716144368261359,
          0.7166413018788347,
          0.5712519241875297,
          0.6417331289349196,
          0.6715448130902723,
          0.6521603757599003,
          0.5696037215655513,
          0.715177096666438,
          0.6209992061374745,
          0.6517635593952386,
          0.6417976320622998,
          0.6517331592434864,
          0.7162139109381767,
          0.645253303813903,
          0.897623452373499,
          0.6416268689986206,
          0.7151329932845532,
          0.6404871215471889,
          0.6417779570353722,
          0.5695539227751173,
          0.5712621370272911,
          0.6546726328167695,
          0.641904388857412,
          0.6332933338003298,
          0.6452311844428915,
          0.6606404356634535,
          0.5695606374429641,
          0.640614214267771,
          0.6712375302602221,
          0.6518369706760402,
          0.6636549794037129,
          0.72303845299524,
          0.6486136615783115,
          0.6484332844314808,
          0.6418039774688569,
          0.5713218111223421,
          0.6719839919168749,
          0.6716236299169515,
          0.6381956358600613,
          0.663620156821826,
          0.603398568404927,
          0.6636950556133222,
          0.7374925791483293,
          0.6454943653955743,
          0.6602431995849227,
          0.5704742254325318,
          0.6636749155605065,
          0.5631049991863003,
          0.6412987374435347,
          0.571221691731462,
          0.5713189150243497,
          0.6576102803928473,
          0.645034694957943,
          0.6613290482835568,
          0.7144919195966214,
          0.6716629564372653
         ],
         "z": [
          -0.20413934621143923,
          -0.04835031452349439,
          -0.17618437784282343,
          -0.1812516814553257,
          -0.1364389046432889,
          -0.04813558178294218,
          -0.17655868977039754,
          -0.04780689545647901,
          -0.18162927694916742,
          3.723723832926584,
          -0.20489412835369536,
          -0.04767891192542155,
          -0.04738270993716847,
          -0.17397627317585918,
          -0.16961976451716346,
          -0.04827153627696465,
          -0.04815671037467107,
          -0.04819729684030301,
          -0.17648878279514976,
          -0.24593796700359355,
          -0.27105632330693513,
          -0.09815345633431902,
          -0.048355974743970506,
          -0.04849874428008836,
          -0.04822734701133146,
          -0.0481641692271589,
          -0.174366550452176,
          -0.047171817275163334,
          -0.048526164724135616,
          -0.0481545827533664,
          -0.4769193346111103,
          -0.20418537138127388,
          -0.04785501848235652,
          -0.04834274030571823,
          -0.04826071754145865,
          -0.04840064334632587,
          -0.16786498519152984,
          -0.048244155790172716,
          0.06464724088710166,
          -0.20409290475651648,
          -0.049819261768645005,
          -0.048067695444449186,
          -0.04615463738330761,
          -0.04812748851785538,
          -0.20356130497671734,
          -0.20425657993749466,
          -0.20400596018478806,
          -0.20333202672467676,
          -0.20408516651338987,
          -0.04836893802896746,
          -0.17061621316212466,
          -0.047391579712010704,
          -0.20421315947261426,
          -0.9806780572218898,
          -0.11589004019619,
          -0.048217892389699514,
          -0.037796245748541825,
          -0.04862507447868946,
          -0.048234738098629416,
          -0.04890253211622934,
          -0.04997034698579744,
          -0.16990341389685326,
          -0.04837237604992488,
          -0.017132324051520972,
          -0.16143459920091616,
          -0.04826083617730416,
          -0.20405981008472854,
          0.855444769586647,
          -0.17673769129764647,
          -0.17242625638526154,
          -0.20377126475747775,
          -0.17661748027114033,
          -0.046666729910426474,
          -0.04690275002757327,
          -0.1765839281975535,
          -0.17666665076227975,
          -0.20418403419034603,
          -0.04925163415389927,
          -0.16860776987606374,
          -0.04844924218653911,
          -0.3080759965283853,
          -0.17642431960560695,
          -0.17143464152782573,
          -0.046613475652693026,
          -0.16926632488950472,
          -0.04815708493623679,
          -0.17654602600125716,
          -0.04826082183920898,
          -0.1763673474712151,
          -0.11360957048276234,
          -0.20407994107587069,
          -0.17947009099140346,
          -0.047994003173090195,
          -0.2041127468048658,
          -0.04812505770337419,
          -0.17275356375189022,
          -0.1767212454366906,
          -0.18122592644447552,
          0.04711368630235449,
          -0.18367467811054863,
          -0.17524640913894393,
          -0.11340190090502297,
          -0.04824425517496596,
          -0.11348456422126242,
          -0.17280154820564494,
          0.7978783196858964,
          -0.17106202084110608,
          -0.04827024225104059,
          -0.16721225353794633,
          -0.1812842572603648,
          -0.04872883006523704,
          -0.17293612138676887,
          -0.16926133867023,
          -0.009899340840594522,
          -0.16748878113670027,
          -0.0482041094140809,
          -0.19870722640474192,
          -0.0477496734549627,
          -0.17269300615575303,
          -0.1678377560751762,
          -0.16922374141947855,
          -0.12028484431750966,
          -0.1761220215751425,
          -0.04833247838570844,
          -0.04759640611576769,
          -0.17638253595647668,
          -0.17644538738921525,
          -0.11326963322943784,
          -0.16930389231732573,
          -0.4569355440152697,
          -0.15189142919054832,
          -0.16757033006625985,
          -0.20414034198076955,
          0.054875158647754156,
          -0.04820268889185983,
          -0.047686821591495766,
          -0.04775078822338236,
          -0.04776635899646512,
          -0.11285101819070538,
          -0.05092395878638657,
          -0.19825153047737715,
          -0.17442529165545226,
          -0.18139460059036402,
          -0.17060563177026125,
          -0.048730963716182824,
          -0.17570511126224642,
          -0.1742806360581606,
          -0.1740325041264721,
          -0.17440239530850607,
          -0.17723107340907954,
          0.44070468255200457,
          -0.11353665558824219,
          -0.08595008346826395,
          -0.1723592811900234,
          -0.16932417712000095,
          -0.05684216649956575,
          0.2807181436558494,
          -0.1764599242472907,
          -0.17453781205384394,
          -0.17408197261531902,
          -0.04829124301685461,
          -0.17649033582378668,
          -0.20418012438905672,
          -0.16847603912698886,
          -0.1691571197139768,
          -0.1122428358359003,
          -0.09557835116756025,
          -0.17222615786305084,
          -0.16926174297283714,
          -0.04804614192731051,
          -0.07836401612339634,
          -0.1747568480840499,
          -0.11635256832573274,
          -0.10493618272589712,
          -0.048110866115180555,
          -0.16936982689308236,
          -0.18170147393528183,
          -0.1703046953798844,
          -0.17607344434949604,
          -0.11364632762268036,
          -0.16791579418031063,
          -0.172688521171075,
          -0.16908430928799598,
          -0.17285216378949528,
          -0.10770144476407874,
          -0.16668311534910132,
          1.0927757950326829,
          -0.16958021032234777,
          -0.11192307795849274,
          -0.17059887852781583,
          -0.16916968899812515,
          -0.17645925661572173,
          -0.04806138708336064,
          -0.15575634165312424,
          -0.16845005798995008,
          -0.16308819469188388,
          0.1951599614604032,
          -0.21402199171831027,
          -0.17642029772889237,
          -0.16985713210635706,
          -0.16833837937438179,
          -0.17222695053040157,
          -0.20414029722440982,
          -0.06139998456012957,
          -0.17014902898606532,
          -0.17114146571325403,
          -0.16904892797901233,
          -0.047592726501450106,
          -0.17928848073269912,
          -0.18141318036717474,
          -0.16772697449723695,
          -0.20421716663555084,
          -0.15613474195640412,
          -0.203665992338746,
          0.9145568102077136,
          -0.19100635784830478,
          -0.10273850953498685,
          -0.04979093511370346,
          -0.2040067102444684,
          0.012293137818861596,
          -0.16975915791833152,
          -0.04828232994983204,
          -0.04748439384007686,
          -0.17672362654102403,
          -0.14994410844639358,
          -0.1767131177019347,
          -0.11410679624138433,
          -0.1812504221823818
         ]
        },
        {
         "customdata": [
          [
           "CryptoNight"
          ]
         ],
         "hovertemplate": "<b>%{hovertext}</b><br><br>Class=%{marker.color}<br>PC1=%{x}<br>PC2=%{y}<br>PC3=%{z}<br>Algorithm=%{customdata[0]}<extra></extra>",
         "hovertext": [
          "TurtleCoin"
         ],
         "legendgroup": "2",
         "marker": {
          "color": [
           2
          ],
          "coloraxis": "coloraxis",
          "symbol": "square"
         },
         "mode": "markers",
         "name": "2",
         "scene": "scene",
         "showlegend": true,
         "type": "scatter3d",
         "x": [
          10.751540632039978
         ],
         "y": [
          2.2448437747557235
         ],
         "z": [
          8.935829449337916
         ]
        },
        {
         "customdata": [
          [
           "TRC10"
          ]
         ],
         "hovertemplate": "<b>%{hovertext}</b><br><br>Class=%{marker.color}<br>PC1=%{x}<br>PC2=%{y}<br>PC3=%{z}<br>Algorithm=%{customdata[0]}<extra></extra>",
         "hovertext": [
          "BitTorrent"
         ],
         "legendgroup": "1",
         "marker": {
          "color": [
           1
          ],
          "coloraxis": "coloraxis",
          "symbol": "x"
         },
         "mode": "markers",
         "name": "1",
         "scene": "scene",
         "showlegend": true,
         "type": "scatter3d",
         "x": [
          24.85430311933936
         ],
         "y": [
          -1.544705500594543
         ],
         "z": [
          -4.838707375551249
         ]
        }
       ],
       "layout": {
        "coloraxis": {
         "colorbar": {
          "title": {
           "text": "Class"
          }
         },
         "colorscale": [
          [
           0,
           "#0d0887"
          ],
          [
           0.1111111111111111,
           "#46039f"
          ],
          [
           0.2222222222222222,
           "#7201a8"
          ],
          [
           0.3333333333333333,
           "#9c179e"
          ],
          [
           0.4444444444444444,
           "#bd3786"
          ],
          [
           0.5555555555555556,
           "#d8576b"
          ],
          [
           0.6666666666666666,
           "#ed7953"
          ],
          [
           0.7777777777777778,
           "#fb9f3a"
          ],
          [
           0.8888888888888888,
           "#fdca26"
          ],
          [
           1,
           "#f0f921"
          ]
         ]
        },
        "legend": {
         "title": {
          "text": "Class"
         },
         "tracegroupgap": 0,
         "x": 0,
         "y": 1
        },
        "margin": {
         "t": 60
        },
        "scene": {
         "domain": {
          "x": [
           0,
           1
          ],
          "y": [
           0,
           1
          ]
         },
         "xaxis": {
          "title": {
           "text": "PC1"
          }
         },
         "yaxis": {
          "title": {
           "text": "PC2"
          }
         },
         "zaxis": {
          "title": {
           "text": "PC3"
          }
         }
        },
        "template": {
         "data": {
          "bar": [
           {
            "error_x": {
             "color": "#2a3f5f"
            },
            "error_y": {
             "color": "#2a3f5f"
            },
            "marker": {
             "line": {
              "color": "#E5ECF6",
              "width": 0.5
             }
            },
            "type": "bar"
           }
          ],
          "barpolar": [
           {
            "marker": {
             "line": {
              "color": "#E5ECF6",
              "width": 0.5
             }
            },
            "type": "barpolar"
           }
          ],
          "carpet": [
           {
            "aaxis": {
             "endlinecolor": "#2a3f5f",
             "gridcolor": "white",
             "linecolor": "white",
             "minorgridcolor": "white",
             "startlinecolor": "#2a3f5f"
            },
            "baxis": {
             "endlinecolor": "#2a3f5f",
             "gridcolor": "white",
             "linecolor": "white",
             "minorgridcolor": "white",
             "startlinecolor": "#2a3f5f"
            },
            "type": "carpet"
           }
          ],
          "choropleth": [
           {
            "colorbar": {
             "outlinewidth": 0,
             "ticks": ""
            },
            "type": "choropleth"
           }
          ],
          "contour": [
           {
            "colorbar": {
             "outlinewidth": 0,
             "ticks": ""
            },
            "colorscale": [
             [
              0,
              "#0d0887"
             ],
             [
              0.1111111111111111,
              "#46039f"
             ],
             [
              0.2222222222222222,
              "#7201a8"
             ],
             [
              0.3333333333333333,
              "#9c179e"
             ],
             [
              0.4444444444444444,
              "#bd3786"
             ],
             [
              0.5555555555555556,
              "#d8576b"
             ],
             [
              0.6666666666666666,
              "#ed7953"
             ],
             [
              0.7777777777777778,
              "#fb9f3a"
             ],
             [
              0.8888888888888888,
              "#fdca26"
             ],
             [
              1,
              "#f0f921"
             ]
            ],
            "type": "contour"
           }
          ],
          "contourcarpet": [
           {
            "colorbar": {
             "outlinewidth": 0,
             "ticks": ""
            },
            "type": "contourcarpet"
           }
          ],
          "heatmap": [
           {
            "colorbar": {
             "outlinewidth": 0,
             "ticks": ""
            },
            "colorscale": [
             [
              0,
              "#0d0887"
             ],
             [
              0.1111111111111111,
              "#46039f"
             ],
             [
              0.2222222222222222,
              "#7201a8"
             ],
             [
              0.3333333333333333,
              "#9c179e"
             ],
             [
              0.4444444444444444,
              "#bd3786"
             ],
             [
              0.5555555555555556,
              "#d8576b"
             ],
             [
              0.6666666666666666,
              "#ed7953"
             ],
             [
              0.7777777777777778,
              "#fb9f3a"
             ],
             [
              0.8888888888888888,
              "#fdca26"
             ],
             [
              1,
              "#f0f921"
             ]
            ],
            "type": "heatmap"
           }
          ],
          "heatmapgl": [
           {
            "colorbar": {
             "outlinewidth": 0,
             "ticks": ""
            },
            "colorscale": [
             [
              0,
              "#0d0887"
             ],
             [
              0.1111111111111111,
              "#46039f"
             ],
             [
              0.2222222222222222,
              "#7201a8"
             ],
             [
              0.3333333333333333,
              "#9c179e"
             ],
             [
              0.4444444444444444,
              "#bd3786"
             ],
             [
              0.5555555555555556,
              "#d8576b"
             ],
             [
              0.6666666666666666,
              "#ed7953"
             ],
             [
              0.7777777777777778,
              "#fb9f3a"
             ],
             [
              0.8888888888888888,
              "#fdca26"
             ],
             [
              1,
              "#f0f921"
             ]
            ],
            "type": "heatmapgl"
           }
          ],
          "histogram": [
           {
            "marker": {
             "colorbar": {
              "outlinewidth": 0,
              "ticks": ""
             }
            },
            "type": "histogram"
           }
          ],
          "histogram2d": [
           {
            "colorbar": {
             "outlinewidth": 0,
             "ticks": ""
            },
            "colorscale": [
             [
              0,
              "#0d0887"
             ],
             [
              0.1111111111111111,
              "#46039f"
             ],
             [
              0.2222222222222222,
              "#7201a8"
             ],
             [
              0.3333333333333333,
              "#9c179e"
             ],
             [
              0.4444444444444444,
              "#bd3786"
             ],
             [
              0.5555555555555556,
              "#d8576b"
             ],
             [
              0.6666666666666666,
              "#ed7953"
             ],
             [
              0.7777777777777778,
              "#fb9f3a"
             ],
             [
              0.8888888888888888,
              "#fdca26"
             ],
             [
              1,
              "#f0f921"
             ]
            ],
            "type": "histogram2d"
           }
          ],
          "histogram2dcontour": [
           {
            "colorbar": {
             "outlinewidth": 0,
             "ticks": ""
            },
            "colorscale": [
             [
              0,
              "#0d0887"
             ],
             [
              0.1111111111111111,
              "#46039f"
             ],
             [
              0.2222222222222222,
              "#7201a8"
             ],
             [
              0.3333333333333333,
              "#9c179e"
             ],
             [
              0.4444444444444444,
              "#bd3786"
             ],
             [
              0.5555555555555556,
              "#d8576b"
             ],
             [
              0.6666666666666666,
              "#ed7953"
             ],
             [
              0.7777777777777778,
              "#fb9f3a"
             ],
             [
              0.8888888888888888,
              "#fdca26"
             ],
             [
              1,
              "#f0f921"
             ]
            ],
            "type": "histogram2dcontour"
           }
          ],
          "mesh3d": [
           {
            "colorbar": {
             "outlinewidth": 0,
             "ticks": ""
            },
            "type": "mesh3d"
           }
          ],
          "parcoords": [
           {
            "line": {
             "colorbar": {
              "outlinewidth": 0,
              "ticks": ""
             }
            },
            "type": "parcoords"
           }
          ],
          "pie": [
           {
            "automargin": true,
            "type": "pie"
           }
          ],
          "scatter": [
           {
            "marker": {
             "colorbar": {
              "outlinewidth": 0,
              "ticks": ""
             }
            },
            "type": "scatter"
           }
          ],
          "scatter3d": [
           {
            "line": {
             "colorbar": {
              "outlinewidth": 0,
              "ticks": ""
             }
            },
            "marker": {
             "colorbar": {
              "outlinewidth": 0,
              "ticks": ""
             }
            },
            "type": "scatter3d"
           }
          ],
          "scattercarpet": [
           {
            "marker": {
             "colorbar": {
              "outlinewidth": 0,
              "ticks": ""
             }
            },
            "type": "scattercarpet"
           }
          ],
          "scattergeo": [
           {
            "marker": {
             "colorbar": {
              "outlinewidth": 0,
              "ticks": ""
             }
            },
            "type": "scattergeo"
           }
          ],
          "scattergl": [
           {
            "marker": {
             "colorbar": {
              "outlinewidth": 0,
              "ticks": ""
             }
            },
            "type": "scattergl"
           }
          ],
          "scattermapbox": [
           {
            "marker": {
             "colorbar": {
              "outlinewidth": 0,
              "ticks": ""
             }
            },
            "type": "scattermapbox"
           }
          ],
          "scatterpolar": [
           {
            "marker": {
             "colorbar": {
              "outlinewidth": 0,
              "ticks": ""
             }
            },
            "type": "scatterpolar"
           }
          ],
          "scatterpolargl": [
           {
            "marker": {
             "colorbar": {
              "outlinewidth": 0,
              "ticks": ""
             }
            },
            "type": "scatterpolargl"
           }
          ],
          "scatterternary": [
           {
            "marker": {
             "colorbar": {
              "outlinewidth": 0,
              "ticks": ""
             }
            },
            "type": "scatterternary"
           }
          ],
          "surface": [
           {
            "colorbar": {
             "outlinewidth": 0,
             "ticks": ""
            },
            "colorscale": [
             [
              0,
              "#0d0887"
             ],
             [
              0.1111111111111111,
              "#46039f"
             ],
             [
              0.2222222222222222,
              "#7201a8"
             ],
             [
              0.3333333333333333,
              "#9c179e"
             ],
             [
              0.4444444444444444,
              "#bd3786"
             ],
             [
              0.5555555555555556,
              "#d8576b"
             ],
             [
              0.6666666666666666,
              "#ed7953"
             ],
             [
              0.7777777777777778,
              "#fb9f3a"
             ],
             [
              0.8888888888888888,
              "#fdca26"
             ],
             [
              1,
              "#f0f921"
             ]
            ],
            "type": "surface"
           }
          ],
          "table": [
           {
            "cells": {
             "fill": {
              "color": "#EBF0F8"
             },
             "line": {
              "color": "white"
             }
            },
            "header": {
             "fill": {
              "color": "#C8D4E3"
             },
             "line": {
              "color": "white"
             }
            },
            "type": "table"
           }
          ]
         },
         "layout": {
          "annotationdefaults": {
           "arrowcolor": "#2a3f5f",
           "arrowhead": 0,
           "arrowwidth": 1
          },
          "coloraxis": {
           "colorbar": {
            "outlinewidth": 0,
            "ticks": ""
           }
          },
          "colorscale": {
           "diverging": [
            [
             0,
             "#8e0152"
            ],
            [
             0.1,
             "#c51b7d"
            ],
            [
             0.2,
             "#de77ae"
            ],
            [
             0.3,
             "#f1b6da"
            ],
            [
             0.4,
             "#fde0ef"
            ],
            [
             0.5,
             "#f7f7f7"
            ],
            [
             0.6,
             "#e6f5d0"
            ],
            [
             0.7,
             "#b8e186"
            ],
            [
             0.8,
             "#7fbc41"
            ],
            [
             0.9,
             "#4d9221"
            ],
            [
             1,
             "#276419"
            ]
           ],
           "sequential": [
            [
             0,
             "#0d0887"
            ],
            [
             0.1111111111111111,
             "#46039f"
            ],
            [
             0.2222222222222222,
             "#7201a8"
            ],
            [
             0.3333333333333333,
             "#9c179e"
            ],
            [
             0.4444444444444444,
             "#bd3786"
            ],
            [
             0.5555555555555556,
             "#d8576b"
            ],
            [
             0.6666666666666666,
             "#ed7953"
            ],
            [
             0.7777777777777778,
             "#fb9f3a"
            ],
            [
             0.8888888888888888,
             "#fdca26"
            ],
            [
             1,
             "#f0f921"
            ]
           ],
           "sequentialminus": [
            [
             0,
             "#0d0887"
            ],
            [
             0.1111111111111111,
             "#46039f"
            ],
            [
             0.2222222222222222,
             "#7201a8"
            ],
            [
             0.3333333333333333,
             "#9c179e"
            ],
            [
             0.4444444444444444,
             "#bd3786"
            ],
            [
             0.5555555555555556,
             "#d8576b"
            ],
            [
             0.6666666666666666,
             "#ed7953"
            ],
            [
             0.7777777777777778,
             "#fb9f3a"
            ],
            [
             0.8888888888888888,
             "#fdca26"
            ],
            [
             1,
             "#f0f921"
            ]
           ]
          },
          "colorway": [
           "#636efa",
           "#EF553B",
           "#00cc96",
           "#ab63fa",
           "#FFA15A",
           "#19d3f3",
           "#FF6692",
           "#B6E880",
           "#FF97FF",
           "#FECB52"
          ],
          "font": {
           "color": "#2a3f5f"
          },
          "geo": {
           "bgcolor": "white",
           "lakecolor": "white",
           "landcolor": "#E5ECF6",
           "showlakes": true,
           "showland": true,
           "subunitcolor": "white"
          },
          "hoverlabel": {
           "align": "left"
          },
          "hovermode": "closest",
          "mapbox": {
           "style": "light"
          },
          "paper_bgcolor": "white",
          "plot_bgcolor": "#E5ECF6",
          "polar": {
           "angularaxis": {
            "gridcolor": "white",
            "linecolor": "white",
            "ticks": ""
           },
           "bgcolor": "#E5ECF6",
           "radialaxis": {
            "gridcolor": "white",
            "linecolor": "white",
            "ticks": ""
           }
          },
          "scene": {
           "xaxis": {
            "backgroundcolor": "#E5ECF6",
            "gridcolor": "white",
            "gridwidth": 2,
            "linecolor": "white",
            "showbackground": true,
            "ticks": "",
            "zerolinecolor": "white"
           },
           "yaxis": {
            "backgroundcolor": "#E5ECF6",
            "gridcolor": "white",
            "gridwidth": 2,
            "linecolor": "white",
            "showbackground": true,
            "ticks": "",
            "zerolinecolor": "white"
           },
           "zaxis": {
            "backgroundcolor": "#E5ECF6",
            "gridcolor": "white",
            "gridwidth": 2,
            "linecolor": "white",
            "showbackground": true,
            "ticks": "",
            "zerolinecolor": "white"
           }
          },
          "shapedefaults": {
           "line": {
            "color": "#2a3f5f"
           }
          },
          "ternary": {
           "aaxis": {
            "gridcolor": "white",
            "linecolor": "white",
            "ticks": ""
           },
           "baxis": {
            "gridcolor": "white",
            "linecolor": "white",
            "ticks": ""
           },
           "bgcolor": "#E5ECF6",
           "caxis": {
            "gridcolor": "white",
            "linecolor": "white",
            "ticks": ""
           }
          },
          "title": {
           "x": 0.05
          },
          "xaxis": {
           "automargin": true,
           "gridcolor": "white",
           "linecolor": "white",
           "ticks": "",
           "title": {
            "standoff": 15
           },
           "zerolinecolor": "white",
           "zerolinewidth": 2
          },
          "yaxis": {
           "automargin": true,
           "gridcolor": "white",
           "linecolor": "white",
           "ticks": "",
           "title": {
            "standoff": 15
           },
           "zerolinecolor": "white",
           "zerolinewidth": 2
          }
         }
        },
        "width": 800
       }
      },
      "text/html": [
       "<div>\n",
       "        \n",
       "        \n",
       "            <div id=\"9e57d2fd-0897-4d82-b8a6-29953254086c\" class=\"plotly-graph-div\" style=\"height:525px; width:800px;\"></div>\n",
       "            <script type=\"text/javascript\">\n",
       "                require([\"plotly\"], function(Plotly) {\n",
       "                    window.PLOTLYENV=window.PLOTLYENV || {};\n",
       "                    \n",
       "                if (document.getElementById(\"9e57d2fd-0897-4d82-b8a6-29953254086c\")) {\n",
       "                    Plotly.newPlot(\n",
       "                        '9e57d2fd-0897-4d82-b8a6-29953254086c',\n",
       "                        [{\"customdata\": [[\"Scrypt\"], [\"Scrypt\"], [\"X13\"], [\"X11\"], [\"SHA-512\"], [\"SHA-256\"], [\"SHA-256\"], [\"X15\"], [\"Scrypt\"], [\"Scrypt\"], [\"Scrypt\"], [\"Scrypt\"], [\"Groestl\"], [\"Scrypt\"], [\"X11\"], [\"SHA3\"], [\"SHA-256\"], [\"Scrypt\"], [\"NeoScrypt\"], [\"Scrypt\"], [\"Scrypt\"], [\"X11\"], [\"Multiple\"], [\"PHI1612\"], [\"X11\"], [\"Scrypt\"], [\"Scrypt\"], [\"X11\"], [\"Scrypt\"], [\"Shabal256\"], [\"Counterparty\"], [\"SHA-256\"], [\"X13\"], [\"Scrypt\"], [\"X13\"], [\"X11\"], [\"Scrypt\"], [\"SHA3\"], [\"QUAIT\"], [\"Scrypt\"], [\"X13\"], [\"SHA-256\"], [\"X15\"], [\"BLAKE256\"], [\"SHA-256\"], [\"X11\"], [\"SHA-256\"], [\"Scrypt\"], [\"Scrypt\"], [\"X11\"], [\"Scrypt\"], [\"SHA-256\"], [\"Scrypt\"], [\"PoS\"], [\"X11\"], [\"SHA-256\"], [\"SHA-256\"], [\"NIST5\"], [\"X11\"], [\"POS 3.0\"], [\"Scrypt\"], [\"Scrypt\"], [\"Scrypt\"], [\"X13\"], [\"X11\"], [\"Equihash\"], [\"X11\"], [\"Scrypt\"], [\"SHA-256\"], [\"X11\"], [\"Scrypt\"], [\"Scrypt\"], [\"SHA-256D\"], [\"PoS\"], [\"X11\"], [\"PoS\"], [\"X13\"], [\"X14\"], [\"PoS\"], [\"SHA-256D\"], [\"DPoS\"], [\"X11\"], [\"X13\"], [\"X11\"], [\"PoS\"], [\"Scrypt\"], [\"Scrypt\"], [\"PoS\"], [\"X11\"], [\"SHA-256\"], [\"Scrypt\"], [\"X11\"], [\"Scrypt\"], [\"Scrypt\"], [\"X11\"], [\"Scrypt\"], [\"Scrypt\"], [\"Scrypt\"], [\"Scrypt\"], [\"Quark\"], [\"QuBit\"], [\"Scrypt\"], [\"SHA-256\"], [\"X11\"], [\"Scrypt\"], [\"Scrypt\"], [\"Scrypt\"], [\"Scrypt\"], [\"X13\"], [\"Scrypt\"], [\"Scrypt\"], [\"X11\"], [\"Blake2S\"], [\"X11\"], [\"PoS\"], [\"X11\"], [\"PoS\"], [\"X11\"], [\"Scrypt\"], [\"Scrypt\"], [\"Scrypt\"], [\"SHA-256\"], [\"X11\"], [\"Scrypt\"], [\"PoS\"], [\"Scrypt\"], [\"X15\"], [\"SHA-256\"], [\"POS 3.0\"], [\"536\"], [\"NIST5\"], [\"NIST5\"], [\"Skein\"], [\"X13\"], [\"Scrypt\"], [\"X13\"], [\"SkunkHash v2 Raptor\"], [\"Skein\"], [\"X11\"], [\"Scrypt\"], [\"VeChainThor Authority\"], [\"PoS\"], [\"Scrypt\"], [\"Scrypt\"], [\"SHA-512\"], [\"Ouroboros\"], [\"X11\"], [\"NeoScrypt\"], [\"Scrypt\"], [\"Lyra2REv2\"], [\"Scrypt\"], [\"SHA-256\"], [\"NIST5\"], [\"PHI1612\"], [\"Scrypt\"], [\"Quark\"], [\"POS 2.0\"], [\"Scrypt\"], [\"SHA-256\"], [\"X11\"], [\"DPoS\"], [\"NIST5\"], [\"X13\"], [\"Scrypt\"], [\"NIST5\"], [\"Quark\"], [\"Scrypt\"], [\"Scrypt\"], [\"X11\"], [\"Quark\"], [\"Scrypt\"], [\"Scrypt\"], [\"X11\"], [\"POS 3.0\"], [\"Ethash\"], [\"Scrypt\"], [\"Scrypt\"], [\"X13\"], [\"Proof-of-BibleHash\"], [\"SHA-256 + Hive\"], [\"C11\"], [\"Proof-of-Authority\"], [\"X11\"], [\"XEVAN\"], [\"Scrypt\"], [\"VBFT\"], [\"NIST5\"], [\"Scrypt\"], [\"Scrypt\"], [\"Scrypt\"], [\"Green Protocol\"], [\"PoS\"], [\"Scrypt\"], [\"Semux BFT consensus\"], [\"Quark\"], [\"PoS\"], [\"X16R\"], [\"Scrypt\"], [\"XEVAN\"], [\"Scrypt\"], [\"Scrypt\"], [\"Scrypt\"], [\"SHA-256D\"], [\"Scrypt\"], [\"X15\"], [\"Scrypt\"], [\"Quark\"], [\"SHA-256\"], [\"DPoS\"], [\"X16R\"], [\"Quark\"], [\"Quark\"], [\"Scrypt\"], [\"Lyra2REv2\"], [\"Quark\"], [\"Scrypt\"], [\"X11\"], [\"X11\"], [\"Scrypt\"], [\"PoS\"], [\"Keccak\"], [\"X11\"], [\"Scrypt\"], [\"SHA-512\"], [\"ECC 256K1\"], [\"XEVAN\"], [\"XEVAN\"], [\"Quark\"], [\"Equihash\"], [\"Scrypt\"], [\"Quark\"], [\"Quark\"], [\"Scrypt\"], [\"X11\"], [\"Scrypt\"], [\"XEVAN\"], [\"SHA-256D\"], [\"X11\"], [\"X11\"], [\"DPoS\"], [\"Scrypt\"], [\"Scrypt\"], [\"Scrypt\"], [\"SHA-256\"], [\"X11\"], [\"Scrypt\"], [\"SHA-256\"], [\"X11\"], [\"Scrypt\"], [\"Scrypt\"], [\"X11\"], [\"Scrypt\"], [\"PoS\"], [\"X11\"], [\"SHA-256\"], [\"DPoS\"], [\"Scrypt\"], [\"Scrypt\"], [\"NeoScrypt\"], [\"SHA3-256\"], [\"X13\"], [\"SHA-256\"], [\"Leased POS\"], [\"PoS\"], [\"PoS\"], [\"SHA-256\"], [\"Scrypt\"], [\"Scrypt\"]], \"hovertemplate\": \"<b>%{hovertext}</b><br><br>Class=%{marker.color}<br>PC1=%{x}<br>PC2=%{y}<br>PC3=%{z}<br>Algorithm=%{customdata[0]}<extra></extra>\", \"hovertext\": [\"42 Coin\", \"404Coin\", \"EliteCoin\", \"Dash\", \"Bitshares\", \"BitcoinDark\", \"PayCoin\", \"KoboCoin\", \"Aurora Coin\", \"BitBar\", \"CryptoBullion\", \"CasinoCoin\", \"Diamond\", \"HoboNickels\", \"IOCoin\", \"MaxCoin\", \"MazaCoin\", \"Nautilus Coin\", \"Orbitcoin\", \"PotCoin\", \"PhoenixCoin\", \"SyncCoin\", \"TeslaCoin\", \"TittieCoin\", \"TorCoin\", \"UnitaryStatus Dollar\", \"UltraCoin\", \"X11 Coin\", \"ZCC Coin\", \"BurstCoin\", \"StorjCoin\", \"Neutron\", \"Kore\", \"Dnotes\", \"Sativa Coin\", \"Ucoin\", \"Vtorrent\", \"Nexus\", \"Droidz\", \"Diggits\", \"Paycon\", \"Emercoin\", \"EverGreenCoin\", \"Decred\", \"EDRCoin\", \"Hitcoin\", \"DubaiCoin\", \"BillaryCoin\", \"GPU Coin\", \"EuropeCoin\", \"ZeitCoin\", \"SwingCoin\", \"SafeExchangeCoin\", \"Nebuchadnezzar\", \"Ratecoin\", \"Revenu\", \"Clockcoin\", \"VIP Tokens\", \"BitSend\", \"Let it Ride\", \"PutinCoin\", \"iBankCoin\", \"Frankywillcoin\", \"MudraCoin\", \"Lutetium Coin\", \"Komodo\", \"GoldBlocks\", \"CarterCoin\", \"BitTokens\", \"MustangCoin\", \"ZoneCoin\", \"Swiscoin\", \"BuzzCoin\", \"Opair\", \"Halloween Coin\", \"CoffeeCoin\", \"RoyalCoin\", \"GanjaCoin V2\", \"TeamUP\", \"LanaCoin\", \"ARK\", \"InsaneCoin\", \"EmberCoin\", \"XenixCoin\", \"FreeCoin\", \"PLNCoin\", \"AquariusCoin\", \"Creatio\", \"Eternity\", \"Eurocoin\", \"BitcoinFast\", \"Stakenet\", \"BitConnect Coin\", \"MoneyCoin\", \"Enigma\", \"Russiacoin\", \"PandaCoin\", \"GameUnits\", \"GAKHcoin\", \"Allsafe\", \"LiteCreed\", \"Klingon Empire Darsek\", \"Internet of People\", \"KushCoin\", \"Printerium\", \"Impeach\", \"Zilbercoin\", \"FirstCoin\", \"FindCoin\", \"OpenChat\", \"RenosCoin\", \"VirtacoinPlus\", \"TajCoin\", \"Impact\", \"Atmos\", \"HappyCoin\", \"MacronCoin\", \"Condensate\", \"Independent Money System\", \"ArgusCoin\", \"LomoCoin\", \"ProCurrency\", \"GoldReserve\", \"GrowthCoin\", \"Phreak\", \"Degas Coin\", \"HTML5 Coin\", \"Ultimate Secure Cash\", \"QTUM\", \"Espers\", \"Denarius\", \"Virta Unique Coin\", \"Bitcoin Planet\", \"BritCoin\", \"Linda\", \"DeepOnion\", \"Signatum\", \"Cream\", \"Monoeci\", \"Draftcoin\", \"Vechain\", \"Stakecoin\", \"CoinonatX\", \"Ethereum Dark\", \"Obsidian\", \"Cardano\", \"Regalcoin\", \"TrezarCoin\", \"TerraNovaCoin\", \"Rupee\", \"WomenCoin\", \"Theresa May Coin\", \"NamoCoin\", \"LUXCoin\", \"Xios\", \"Bitcloud 2.0\", \"KekCoin\", \"BlackholeCoin\", \"Infinity Economics\", \"Magnet\", \"Lamden Tau\", \"Electra\", \"Bitcoin Diamond\", \"Cash & Back Coin\", \"Bulwark\", \"Kalkulus\", \"GermanCoin\", \"LiteCoin Ultra\", \"PhantomX\", \"Digiwage\", \"Trollcoin\", \"Litecoin Plus\", \"Monkey Project\", \"TokenPay\", \"1717 Masonic Commemorative Token\", \"My Big Coin\", \"Unified Society USDEX\", \"Tokyo Coin\", \"BiblePay\", \"LitecoinCash\", \"Stipend\", \"Poa Network\", \"Pushi\", \"Ellerium\", \"Velox\", \"Ontology\", \"Bitspace\", \"Briacoin\", \"Ignition\", \"MedicCoin\", \"Bitcoin Green\", \"Deviant Coin\", \"Abjcoin\", \"Semux\", \"Carebit\", \"Zealium\", \"Proton\", \"iDealCash\", \"Bitcoin Incognito\", \"HollyWoodCoin\", \"Swisscoin\", \"Xt3ch\", \"TheVig\", \"EmaratCoin\", \"Dekado\", \"Lynx\", \"Poseidon Quark\", \"BitcoinWSpectrum\", \"Muse\", \"Trivechain\", \"Dystem\", \"Giant\", \"Peony Coin\", \"Absolute Coin\", \"Vitae\", \"TPCash\", \"ARENON\", \"EUNO\", \"MMOCoin\", \"Ketan\", \"XDNA\", \"PAXEX\", \"ThunderStake\", \"Kcash\", \"Acute Angle Cloud\", \"Bettex coin\", \"BitMoney\", \"HerbCoin\", \"PirateCash\", \"Oduwa\", \"Galilel\", \"Crypto Sports\", \"Credit\", \"Dash Platinum\", \"Nasdacoin\", \"Beetle Coin\", \"Titan Coin\", \"Award\", \"Insane Coin\", \"ALAX\", \"LiteDoge\", \"OrangeCoin\", \"BitstarCoin\", \"NeosCoin\", \"PinkCoin\", \"AudioCoin\", \"IncaKoin\", \"Piggy Coin\", \"Genstake\", \"XiaoMiCoin\", \"CapriCoin\", \" ClubCoin\", \"Radium\", \"Creditbit \", \"OKCash\", \"Lisk\", \"HiCoin\", \"WhiteCoin\", \"FriendshipCoin\", \"Fiii\", \"Triangles Coin\", \"TigerCash\", \"Waves\", \"Particl\", \"Nxt\", \"ZEPHYR\", \"Gapcoin\", \"BitcoinPlus\"], \"legendgroup\": \"3\", \"marker\": {\"color\": [3, 3, 3, 3, 3, 3, 3, 3, 3, 3, 3, 3, 3, 3, 3, 3, 3, 3, 3, 3, 3, 3, 3, 3, 3, 3, 3, 3, 3, 3, 3, 3, 3, 3, 3, 3, 3, 3, 3, 3, 3, 3, 3, 3, 3, 3, 3, 3, 3, 3, 3, 3, 3, 3, 3, 3, 3, 3, 3, 3, 3, 3, 3, 3, 3, 3, 3, 3, 3, 3, 3, 3, 3, 3, 3, 3, 3, 3, 3, 3, 3, 3, 3, 3, 3, 3, 3, 3, 3, 3, 3, 3, 3, 3, 3, 3, 3, 3, 3, 3, 3, 3, 3, 3, 3, 3, 3, 3, 3, 3, 3, 3, 3, 3, 3, 3, 3, 3, 3, 3, 3, 3, 3, 3, 3, 3, 3, 3, 3, 3, 3, 3, 3, 3, 3, 3, 3, 3, 3, 3, 3, 3, 3, 3, 3, 3, 3, 3, 3, 3, 3, 3, 3, 3, 3, 3, 3, 3, 3, 3, 3, 3, 3, 3, 3, 3, 3, 3, 3, 3, 3, 3, 3, 3, 3, 3, 3, 3, 3, 3, 3, 3, 3, 3, 3, 3, 3, 3, 3, 3, 3, 3, 3, 3, 3, 3, 3, 3, 3, 3, 3, 3, 3, 3, 3, 3, 3, 3, 3, 3, 3, 3, 3, 3, 3, 3, 3, 3, 3, 3, 3, 3, 3, 3, 3, 3, 3, 3, 3, 3, 3, 3, 3, 3, 3, 3, 3, 3, 3, 3, 3, 3, 3, 3, 3, 3, 3, 3, 3, 3, 3, 3, 3, 3, 3, 3, 3, 3, 3, 3, 3, 3, 3, 3, 3, 3, 3, 3], \"coloraxis\": \"coloraxis\", \"symbol\": \"circle\"}, \"mode\": \"markers\", \"name\": \"3\", \"scene\": \"scene\", \"showlegend\": true, \"type\": \"scatter3d\", \"x\": [-0.20808596923378783, -0.1867514885456291, 3.4189045509929854, -0.2139211225734848, -0.11308055531468995, -0.20812385735885897, -0.19785092826656706, -0.1958054275273103, -0.20764226459925422, -0.20808027483718852, -0.20806015069880998, 0.8238542304970168, -0.20114268246523476, -0.20552345597105792, -0.21379075017628904, -0.1990965583022035, -0.1595153424778785, -0.19747081181512222, -0.2025229990813265, -0.2004747522009498, -0.20597724875854756, -0.2142799569662837, -0.1885844269611974, -0.14301601856499618, -0.21415729924937094, -0.17529962654395678, -0.20631587125664938, -0.21411928720406703, -0.19574473001795029, -0.12869156014688782, -0.184779459101361, -0.2070869005876709, -0.19770679011969308, -0.19018602604728888, -0.19765024565721465, -0.20383027351603367, -0.2077083904618578, -0.17733115026690432, -0.2006497311084218, -0.19535620485686853, -0.19700494961189854, -0.19761145538336108, -0.19925743102943794, -0.19906550124142078, -0.20808784712768524, 0.220271534419583, -0.20818195785254448, -0.2075255427988236, -0.19503351426944737, -0.2102430694574256, 1.3614985350874216, -0.20789529602255094, -0.1310872040585356, -0.19343940780753965, -0.21148711546960577, -0.20609736915209514, -0.20280957807729377, -0.19958719515608667, -0.21250681882843, -0.19013274767012367, -0.17558213377545284, -0.20756961510182095, -0.20556317506758195, -0.18555544363629867, -0.18749825002724865, -0.17685106961956504, -0.21353943627950447, -0.206523829938965, -0.20814444846209398, -0.21423972944173864, -0.20783475739038176, -0.14471344384512427, 0.2974052743190327, -0.19207658705536398, -0.1951223880774835, -0.1912904997420605, -0.18758857135521145, -0.19830490369342232, -0.19063349203726243, -0.1085677867745871, -0.14828285561215265, -0.21369946213720575, 1.2051522354974782, -0.2141827733274103, -0.19268256923980387, -0.20743812393299232, -0.2076245994264459, -0.19343940780753965, -0.21358201089158757, -0.20797575593064965, -0.2074463829744613, -0.19042490946813947, -0.2076354929816639, -0.20134735279708665, -0.21421714852722912, -0.20650444007944976, 0.6420415513382379, -0.2079021037654913, -0.20800231972677855, -0.19303088164129764, -0.19977926679625857, -0.20267205385660014, -0.20811524724300828, -0.2140998882934685, -0.2077051082297223, -0.20785971930267552, -0.1972791371044425, -0.18336373408551648, -0.18728521210443222, -0.1828580180355101, -0.19698592968143347, -0.21307060962237057, -0.20027291974204706, -0.21149537545842423, -0.19114878234811278, -0.21294418557582986, -0.18383128715210412, -0.2073883473536755, -0.20779046131712883, -0.2077796595310701, -0.19797553100415743, 0.5610778737725027, -0.21361615135201684, -0.17320930036582335, -0.19346860252232204, -0.20670211531624127, 1.3245018879776371, -0.19598077819413473, -0.18853207258542298, 0.650189629065643, -0.2015945264749018, -0.199594298863053, -0.19994977398112782, -0.19723384677491476, 0.43386313074253624, -0.1973361919616034, -0.18758593875826923, -0.19933679338378654, -0.21399382303924144, -0.1974208667274942, 1.5399759191070304, -0.1932611296963822, -0.20730294854049225, -0.20798001289388457, -0.18962171044186663, 0.6571590737359607, -0.2138973628198266, -0.1958062287001255, -0.20790976466742664, -0.19062569072146623, 0.7774391283601448, -0.20596305180688793, -0.18115663457977293, -0.20026561787743302, -0.20784129568827178, -0.20106338723915826, -0.19021259065228757, -0.20768908143522355, 0.028892925597722368, -0.2122474139881223, -0.1417734499346869, 0.530866946047188, -0.19296104447242346, -0.20428583101442704, -0.1910713003641208, -0.1928829921400108, 0.3713446796978144, -0.20644319468482517, -0.21309157763444567, -0.19171625196794567, -0.19005411752755608, -0.2080076782430585, -0.2037941942296048, -0.19049305069298764, -0.1917963024523562, -0.18569628736987473, -0.2021900353844084, -0.1760860543332888, -0.09932831681368057, -0.16066791138967962, -0.20066932586940342, -0.17319589936948745, -0.21399462440401562, -0.2004549419667362, -0.1962394949861827, -0.17064133299592493, -0.20104496153020956, -0.2080428713273331, -0.20801757574866278, -0.18878466417020281, -0.19025085825466606, -0.19272402867064006, -0.2076334406464064, -0.14944497411249122, -0.19941432981154666, -0.1929682226582164, -0.19073391016451566, -0.13510153974172698, -0.17873778050869565, -0.1970308818712708, 0.049239142736779415, -0.19731906917924946, -0.19925475353712252, -0.20691063700284817, -0.18815348729465256, 1.9236131693798235, -0.18673355329846444, -0.19627131211657492, -0.1908140497011064, -0.20006969488690185, -0.19302222477013872, -0.20340690446228735, -0.02732668000104491, -0.20070607390387601, -0.19133214933763115, -0.19790136062113697, -0.20322590364651694, -0.2133094254299369, -0.19362231548842618, -0.19168128916522806, -0.19716401899492847, -0.20299459398051117, -0.010202303273824244, -0.15392051737305348, -0.15356532729645173, -0.19025268207947776, 0.5320724215946205, -0.20246882228994212, -0.19110780188663687, -0.20765029833126383, -0.20307989908411503, -0.1931771689283373, 1.0138504020040229, -0.2038631635855542, -0.2069265608556746, -0.19300706331272244, -0.1366958571464384, -0.20980354442401844, -0.21361728537375352, -0.12595432763867717, 0.3772140397817764, -0.20601189528224886, -0.20722660580993826, -0.19788005092234984, -0.2026286649775918, -0.08717211085036093, 0.06489362767000857, -0.19670168072833366, -0.20702692261171177, -0.1979295023723656, -0.2091329358508507, -0.20490222131149463, -0.19379524433155745, -0.19192046996122616, -0.20617533160266555, -0.14775145133185988, 0.054493488600571835, -0.2012435040813725, -0.2019849817299808, -0.21793947226792096, -0.19785527295547553, -0.17293069231388739, -0.17632376867672828, -0.19371632904395128, -0.15694489612795431, -0.10761309228878742, -0.20533441790509502, -0.19786695625039422], \"y\": [-0.7935258554335822, -0.7959387183160102, -0.32034684552187354, -0.7952120086052737, -0.17712282429534, -0.7010457794604628, -0.14718723448197132, -0.7377628671930545, -0.7935543872370452, -0.7935251408522174, -0.7935274237317284, -0.22248346311642833, -0.723406990580016, -0.7936027441818095, -0.7952390920381074, -0.7304727908381582, -0.7020453836862135, -0.23964093947683004, -0.7140333422373415, -0.7935129434549151, -0.7935919720369785, -0.7952209592280478, -0.15331315625360556, -0.1781357032890799, -0.7952084900344057, -0.7942642529038203, -0.7935140361778118, -0.7952334658209087, -0.7922942342398098, -0.09992004286103363, -0.17251881079786743, -0.701086608438096, -0.7613422521718933, -0.23931799379517563, -0.7613615894189575, -0.24128717316409684, -0.7935283858699783, -0.09967646061947726, -0.7299596746219723, -0.23976209723557446, -0.761343827453895, -0.6995177355879462, -0.7382743229078681, -0.7263882339896699, -0.7010532601902665, -0.784726969313257, -0.7010773565704507, -0.7934828721426623, -0.23936969214083303, -0.7946021568201044, -0.18781865889099558, -0.7010249437591355, -0.16776948872990538, -0.18716243006030875, -0.7955164917898558, -0.7007049328307466, -0.7002406873569863, -0.743834672353256, -0.795061755419189, -0.1750592191693381, -0.7926874138588036, -0.7934648607248758, -0.793670400539595, -0.20712434057353948, -0.2422623156677798, -0.06209836480270856, -0.7951850291493836, -0.7935087888286564, -0.7010452972632241, -0.7952179337150426, -0.7934983391510625, -0.15982082754621812, -0.7689226261357603, -0.1872405906735784, -0.7935076701638573, -0.1875329349197457, -0.207451567352309, -0.7300865265559517, -0.18667882695822594, -0.7320056389816246, -0.10914770024242329, -0.7952276930996051, -1.049590271592068, -0.7952265270240649, -0.18720579361032486, -0.793514164459883, -0.7934622942168227, -0.18716243006030875, -0.7951382309597784, -0.7010841366610231, -0.7935334751298987, -0.16481839768030257, -0.7935131664949634, -0.7924562289729323, -0.7952150338955265, -0.793307866437147, -0.290695410474169, -0.7935147117071575, -0.7935306481856135, -0.1951296484808008, -0.7266495761244325, -0.7927528479280064, -0.7010513634955929, -0.7952228683439005, -0.7935290677176354, -0.7934896112363904, -0.23953342121066484, -0.16316619850749434, -0.20746894851469252, -0.7949713070400736, -0.23967241633593225, -0.7950926538263712, -0.729916799149008, -0.7953819376316327, -0.18729559751768826, -0.7951189170327463, -0.18771616783276088, -0.7947549300972377, -0.7935067360940902, -0.7934809402516847, -0.7918308098495446, -0.020240431810622635, -0.7952070462179084, -0.23715165472490873, -0.18711841139733337, -0.7934148213280251, -0.7133343512159, -0.14686378462846772, -0.17513934917911517, -0.7166882845218374, -0.7437213015850864, -0.7437193352907833, -0.7335314501547343, -0.7613721841472734, -0.7371148176107989, -0.761393058635897, -0.17331634678170718, -0.7336587901376928, -0.7952443205134897, -0.23964666229921813, -0.12326838673492256, -0.18704157777930644, -0.7935053849493228, -0.7935319262698781, -0.174540911549309, -0.1783527922880392, -0.7951979675420933, -0.7139248347759507, -0.7935027462065397, -0.1704081969754545, -0.9033734100174136, -0.701198623570378, -0.7434505489963591, -0.7307730644802574, -0.7934969808915269, -0.7487875279492234, -0.1732129648125436, -0.7935521775716619, -0.16017981700173659, -0.7950966670332199, -0.10907669092136613, -0.7820587317359182, -0.7615766437986409, -0.7935182631298532, -0.18981145758983406, -0.19514139400860964, -0.7241272964312636, -0.7932978172257625, -0.7952780668613063, -0.19500423363981956, -0.7938559342677074, -0.7935269381732415, -0.24129087286119102, -0.1750166308902984, -0.1494845305580838, -0.16298491443650068, -0.7938701433209947, -0.20681427523236198, -0.0925782940371344, -0.09645264309124917, -0.7266917551334797, -0.09608236279599047, -0.7951853532731615, -0.7316710821530041, -0.23948751434149135, -0.17356000353699674, -0.7436836525358729, -0.7935234225749056, -0.7935210866970364, -0.23960911132535634, -0.17320498397524767, -0.1870529564983151, -0.793506002088698, -0.10628307900654418, -0.7491301015080604, -0.18703259090632568, -0.17030892591656988, -0.7892478268808694, -0.10093597959109842, -0.23969505947447395, -0.8082694623783011, -0.23956687492092854, -0.7412749890144896, -0.7934512061809001, -0.1843105828156398, -0.25204851005513446, -0.1940277840971024, -0.14718229162055693, -0.17546787586836415, -0.72425570502244, -0.19510867458156902, -0.7490402136424811, -0.21098193865343004, -0.7242346290653772, -0.19515993430391299, -0.7918462179315471, -0.24127988612665763, -0.7952328113757574, -0.23951503318901257, -0.18680653803371974, -0.7260724396845618, -0.24115714614975142, -0.7663172053732472, -0.09912778033251535, -0.09732627192672035, -0.17779975411285354, 0.017772598274682187, -0.7490496894763163, -0.13906058000624957, -0.7935366584935459, -0.7490554465940429, -0.19510544537092575, -0.763475420769152, -0.2412814792270424, -0.7934478981754653, -0.7315483306980692, -0.7356735591858828, -0.7945568297012892, -0.7952447644191591, -0.11046525064932554, -0.7822772641964512, -0.7931976460280077, -0.7934984564104082, -0.14714892385573222, -0.7957437018059778, -0.7787929100359665, -0.75712453820918, -0.7950772785609718, -0.7936889302179918, -0.7941175987002649, -0.7955007614372029, -0.7935799837282702, -0.18713025809277228, -0.16473536030217498, -0.7011355478846787, -0.10912556510851211, -0.25405784685117344, -0.7938086890813482, -0.7139310571407748, -0.06851080984504448, -0.7613564955872437, -0.1486162036955676, -0.09601203681850151, -0.18714804045362143, -0.11170768044471426, -0.08364007029962582, -0.7931486155991826, -0.23961625866447472], \"z\": [0.22347672828416068, 0.21334436961077763, 2.7753795340686294, 0.09522642293649704, -0.14333198227836894, 0.06784727913100251, -0.17228169955999345, 0.11008633835184546, 0.2233774892725111, 0.22348102017684363, 0.22347142709878134, -0.15240781841780146, 0.10200585075583558, 0.22335620025583108, 0.09510096511674185, 0.10389891345965535, 0.06792417499809686, -0.01647966564444328, 0.09709491586431176, 0.22436128569123792, 0.22336289879256652, 0.09514176221846958, -0.14503371377343355, -0.13747407839754638, 0.09521915775004469, 0.22319815885476327, 0.22372784622870398, 0.095094626559737, 0.2311456124448082, -0.08874267072100049, -0.13297741554185624, 0.06774847750344637, 0.11568473441486773, -0.01403362573092887, 0.11559123167186468, -0.14458075271778206, 0.22350428013732948, -0.0820328105515196, 0.10430840436488291, -0.016876305626065857, 0.11575205712930373, 0.07684607279829356, 0.10708148929536546, 0.10640254865203909, 0.06781262635795313, 0.19588848294239894, 0.06767842305506543, 0.22375831305386576, -0.014820869946395199, 0.09876227435154719, 0.4179477889986163, 0.0679791420049504, 0.026711939356495587, -0.15294386860853007, 0.09392004914622999, 0.06982033304548214, 0.07256441566161358, 0.10358866615039558, 0.09615218710662068, -0.139356606477111, 0.23128797784709396, 0.22384632875482918, 0.2230035240190236, -0.12239173360393538, -0.14784701344603413, -0.09511243522235058, 0.09540638215318897, 0.22373251657346988, 0.0678475491193972, 0.09516166629378182, 0.2236454283835956, 0.05954531503033917, 0.018168025477750756, -0.15319989107393678, 0.106023701062421, -0.15462087438337196, -0.12429536355594131, 0.10390741897799627, -0.15015189349519467, 0.16464331994667403, -0.12537407350797322, 0.09516947753893176, -1.2179128476365852, 0.09512353541241754, -0.15308582994769332, 0.22360656420444172, 0.22385363559760244, -0.15294386860853007, 0.09564280088530845, 0.06766567079547359, 0.22350623314554832, -0.09095235961505656, 0.22359048985949967, 0.22970921644623188, 0.09517902640615374, 0.22476928241609231, -0.18916072025745181, 0.22355387681333422, 0.22346103802134096, -0.1407756283188406, 0.10354793117583407, 0.2280393491164104, 0.06781944868280582, 0.09515128497629104, 0.2235011216337159, 0.22368769122338453, -0.015905381755203358, 0.03810696695168434, -0.124352265103146, 0.21874468384412116, -0.016589644868323598, 0.09593247376020135, 0.10457035049355774, 0.09461206937495432, -0.15338343570740615, 0.09581081545227156, -0.15476273394022688, 0.09828237392822571, 0.2236069479997681, 0.2237409487827255, 0.23329232013797216, 0.5630218543901504, 0.09528475630722112, -0.0010530341965286846, -0.15272032539899066, 0.22419725477181376, 0.3992897943512169, -0.17041503656896426, -0.13959720571939027, 0.26476154015236464, 0.10395673593433681, 0.10418184916896552, 0.1060104699568242, 0.11558142761617424, 0.5829719943235498, 0.11546293090357185, -0.1373955970867489, 0.10542059655610027, 0.09505221367319883, -0.01650376805438687, -0.037345340393393434, -0.15230235897726196, 0.2236663045452266, 0.223456853895419, -0.13826277134520057, -0.0720581988385034, 0.09530128335739765, 0.09837562092513236, 0.22361467165532609, -0.13895527048478765, -0.2362749856921175, 0.0672924307422952, 0.10754771496385422, 0.10389445673086671, 0.22365172021082155, 0.10062751341792382, -0.1371461689456992, 0.22338383635127104, -0.21481829596277846, 0.09600028542570459, -0.1243087589530849, -0.014741887164537351, 0.11498777739828414, 0.22392427066349258, -0.1358811680138056, -0.14082021839389763, 0.6431337212782254, 0.22482761517507877, 0.09497540619220343, -0.13998848627482824, 0.22371502556179557, 0.22347956737831112, -0.14459592703974217, -0.1391760172788421, -0.1447500926431746, 0.03879011479101918, 0.22233746697347398, -0.11977721855827422, -0.0569594202455124, -0.08365683976385191, 0.10323233086620044, -0.08310507296721639, 0.09535578871806576, 0.10738153467351341, -0.015557234728018525, -0.13682089329462624, 0.1042096837690989, 0.22349388890479743, 0.2235086366862287, -0.015382161230530907, -0.13710912982235277, -0.15230322706866528, 0.2236276046964218, -0.12041720586034498, 0.09904061961242028, -0.15222459755484608, -0.13846471817650985, 0.25335159318770456, -0.07881526825193756, -0.01671108083867878, 0.17520987316734074, -0.016081948913398574, 0.10716215623756672, 0.22398747296233562, -0.13241645172603767, -0.19269223088084297, -0.13442455615978982, -0.1720864659761113, -0.1407895140009349, 0.10131061054549868, -0.14066668943739244, 0.09907438350042418, 0.14939176304609034, 0.10135977375582153, -0.14074900766105056, 0.23322094571559224, -0.14447826837239386, 0.09518504189767983, -0.015417648995811052, -0.1509221807981818, 0.10687371544963695, -0.14382133783928397, 0.38486083228379514, -0.08938328753724191, -0.08740048306799394, -0.132689211242688, 0.6104893048549634, 0.09912641267889977, -0.14866043793873093, 0.2234679227774341, 0.09903108602784244, -0.14066671373642567, 0.5095617877015451, -0.14455496595830894, 0.22400279654233168, 0.10881417206629172, 0.1427315342936362, 0.09904293437000566, 0.09509039854829426, -0.12975910478547809, 0.3443120671799337, 0.22538981939211752, 0.2237101895898119, -0.17208754304789403, 0.09370211471329265, 0.3123423767862056, -0.19159487032466227, 0.09777100837294841, 0.22275077669453727, 0.2215210846987798, 0.09425408588423899, 0.2235401800700335, -0.15281643979594206, -0.0906856186066637, 0.06759443285794951, -0.12520296898164593, -0.06364031753105324, 0.22275566996485138, 0.09767947614585287, 0.05455288230392269, 0.11559542652375315, -0.17696193899808382, -0.08308166700771764, -0.15289953095510392, -0.10353417256433872, -0.16601874022038665, 0.22571512567196672, -0.016395146081438782]}, {\"customdata\": [[\"SHA-256\"], [\"Scrypt\"], [\"Ethash\"], [\"Equihash\"], [\"Multiple\"], [\"Scrypt\"], [\"X11\"], [\"Scrypt\"], [\"Multiple\"], [\"Scrypt\"], [\"SHA-256\"], [\"Scrypt\"], [\"Scrypt\"], [\"Quark\"], [\"Groestl\"], [\"Scrypt\"], [\"Scrypt\"], [\"Scrypt\"], [\"X11\"], [\"Multiple\"], [\"SHA-256\"], [\"Scrypt\"], [\"Scrypt\"], [\"Scrypt\"], [\"Scrypt\"], [\"Scrypt\"], [\"NeoScrypt\"], [\"Scrypt\"], [\"Scrypt\"], [\"Scrypt\"], [\"Scrypt\"], [\"SHA-256\"], [\"Scrypt\"], [\"Scrypt\"], [\"Scrypt\"], [\"Scrypt\"], [\"HybridScryptHash256\"], [\"Scrypt\"], [\"Scrypt\"], [\"SHA-256\"], [\"Scrypt\"], [\"Scrypt\"], [\"Scrypt\"], [\"Scrypt\"], [\"SHA-256\"], [\"SHA-256\"], [\"SHA-256\"], [\"SHA-256\"], [\"SHA-256\"], [\"Scrypt\"], [\"Lyra2REv2\"], [\"Scrypt\"], [\"SHA-256\"], [\"CryptoNight\"], [\"CryptoNight\"], [\"Scrypt\"], [\"Scrypt\"], [\"Scrypt\"], [\"Scrypt\"], [\"Scrypt\"], [\"Scrypt\"], [\"Stanford Folding\"], [\"Scrypt\"], [\"Scrypt\"], [\"M7 POW\"], [\"Scrypt\"], [\"SHA-256\"], [\"Scrypt\"], [\"X11\"], [\"Lyra2RE\"], [\"SHA-256\"], [\"X11\"], [\"Scrypt\"], [\"Scrypt\"], [\"Ethash\"], [\"X11\"], [\"SHA-256\"], [\"Scrypt\"], [\"1GB AES Pattern Search\"], [\"Scrypt\"], [\"SHA-256\"], [\"X11\"], [\"Dagger\"], [\"Scrypt\"], [\"X11GOST\"], [\"Scrypt\"], [\"X11\"], [\"Scrypt\"], [\"X11\"], [\"CryptoNight\"], [\"SHA-256\"], [\"Multiple\"], [\"Scrypt\"], [\"SHA-256\"], [\"Scrypt\"], [\"Lyra2Z\"], [\"Ethash\"], [\"Equihash\"], [\"Scrypt\"], [\"X11\"], [\"X11\"], [\"CryptoNight\"], [\"Scrypt\"], [\"CryptoNight\"], [\"Lyra2RE\"], [\"X11\"], [\"CryptoNight-V7\"], [\"Scrypt\"], [\"X11\"], [\"Equihash\"], [\"Scrypt\"], [\"Lyra2RE\"], [\"Dagger-Hashimoto\"], [\"Scrypt\"], [\"NIST5\"], [\"Scrypt\"], [\"SHA-256\"], [\"Scrypt\"], [\"CryptoNight-V7\"], [\"Blake2b\"], [\"Cloverhash\"], [\"CryptoNight\"], [\"X11\"], [\"Scrypt\"], [\"Scrypt\"], [\"X11\"], [\"X11\"], [\"CryptoNight\"], [\"Time Travel\"], [\"Scrypt\"], [\"Keccak\"], [\"X11\"], [\"SHA-256\"], [\"Scrypt\"], [\"Scrypt\"], [\"Scrypt\"], [\"Scrypt\"], [\"Scrypt\"], [\"CryptoNight\"], [\"Equihash\"], [\"X11\"], [\"NeoScrypt\"], [\"Equihash\"], [\"Dagger\"], [\"Scrypt\"], [\"X11\"], [\"NeoScrypt\"], [\"Ethash\"], [\"NeoScrypt\"], [\"Multiple\"], [\"CryptoNight\"], [\"CryptoNight\"], [\"Ethash\"], [\"X11\"], [\"CryptoNight-V7\"], [\"Scrypt\"], [\"BLAKE256\"], [\"X11\"], [\"NeoScrypt\"], [\"NeoScrypt\"], [\"Scrypt\"], [\"X11\"], [\"SHA-256\"], [\"C11\"], [\"SkunkHash\"], [\"CryptoNight\"], [\"Scrypt\"], [\"Dagger\"], [\"Lyra2REv2\"], [\"Scrypt\"], [\"Scrypt\"], [\"X11\"], [\"Ethash\"], [\"CryptoNight\"], [\"Scrypt\"], [\"IMesh\"], [\"Equihash\"], [\"Lyra2Z\"], [\"X11\"], [\"CryptoNight\"], [\"NIST5\"], [\"Lyra2RE\"], [\"Tribus\"], [\"Lyra2Z\"], [\"CryptoNight\"], [\"CryptoNight Heavy\"], [\"CryptoNight\"], [\"Jump Consistent Hash\"], [\"CryptoNight\"], [\"X16R\"], [\"HMQ1725\"], [\"X11\"], [\"Scrypt\"], [\"CryptoNight-V7\"], [\"Cryptonight-GPU\"], [\"XEVAN\"], [\"CryptoNight Heavy\"], [\"SHA-256\"], [\"X11\"], [\"X16R\"], [\"Equihash\"], [\"Lyra2Z\"], [\"SHA-256\"], [\"CryptoNight\"], [\"Blake\"], [\"Blake\"], [\"Exosis\"], [\"Scrypt\"], [\"Equihash\"], [\"Equihash\"], [\"QuBit\"], [\"SHA-256\"], [\"X13\"], [\"SHA-256\"], [\"Scrypt\"], [\"NeoScrypt\"], [\"Blake\"], [\"Scrypt\"], [\"SHA-256\"], [\"Scrypt\"], [\"Groestl\"], [\"Scrypt\"], [\"Scrypt\"], [\"Multiple\"], [\"Equihash+Scrypt\"], [\"Ethash\"], [\"CryptoNight\"], [\"Equihash\"]], \"hovertemplate\": \"<b>%{hovertext}</b><br><br>Class=%{marker.color}<br>PC1=%{x}<br>PC2=%{y}<br>PC3=%{z}<br>Algorithm=%{customdata[0]}<extra></extra>\", \"hovertext\": [\"Bitcoin\", \"Litecoin\", \"Ethereum Classic\", \"ZCash\", \"DigiByte\", \"ProsperCoin\", \"Spreadcoin\", \"Argentum\", \"MyriadCoin\", \"MoonCoin\", \"ZetaCoin\", \"SexCoin\", \"Quatloo\", \"QuarkCoin\", \"Riecoin\", \"Digitalcoin \", \"Catcoin\", \"CannaCoin\", \"CryptCoin\", \"Verge\", \"DevCoin\", \"EarthCoin\", \"E-Gulden\", \"Einsteinium\", \"Emerald\", \"Franko\", \"FeatherCoin\", \"GrandCoin\", \"GlobalCoin\", \"GoldCoin\", \"Infinite Coin\", \"IXcoin\", \"KrugerCoin\", \"LuckyCoin\", \"Litebar \", \"MegaCoin\", \"MediterraneanCoin\", \"MinCoin\", \"NobleCoin\", \"Namecoin\", \"NyanCoin\", \"RonPaulCoin\", \"StableCoin\", \"SmartCoin\", \"SysCoin\", \"TigerCoin\", \"TerraCoin\", \"UnbreakableCoin\", \"Unobtanium\", \"ViaCoin\", \"Vertcoin\", \"WorldCoin\", \"JouleCoin\", \"ByteCoin\", \"DigitalNote \", \"MonaCoin\", \"Gulden\", \"PesetaCoin\", \"Wild Beast Coin\", \"Flo\", \"ArtByte\", \"Folding Coin\", \"OmniCron\", \"GreenCoin\", \"Cryptonite\", \"MasterCoin\", \"SoonCoin\", \"1Credit\", \"MarsCoin \", \"Crypto\", \"Anarchists Prime\", \"BowsCoin\", \"Song Coin\", \"BitZeny\", \"Expanse\", \"MindCoin\", \"I0coin\", \"Revolution VR\", \"HOdlcoin\", \"Gamecredits\", \"CarpeDiemCoin\", \"Adzcoin\", \"SoilCoin\", \"YoCoin\", \"SibCoin\", \"Francs\", \"BolivarCoin\", \"Omni\", \"PizzaCoin\", \"Karbo\", \"ZayedCoin\", \"Circuits of Value\", \"DopeCoin\", \"DollarCoin\", \"Shilling\", \"ZCoin\", \"Elementrem\", \"ZClassic\", \"KiloCoin\", \"ArtexCoin\", \"Kurrent\", \"Cannabis Industry Coin\", \"OsmiumCoin\", \"Bikercoins\", \"HexxCoin\", \"PacCoin\", \"Citadel\", \"BeaverCoin\", \"VaultCoin\", \"Zero\", \"Canada eCoin\", \"Zoin\", \"DubaiCoin\", \"EB3coin\", \"Coinonat\", \"BenjiRolls\", \"ILCoin\", \"EquiTrader\", \"Quantum Resistant Ledger\", \"Nano\", \"ChanCoin\", \"Dinastycoin\", \"DigitalPrice\", \"Unify\", \"SocialCoin\", \"ArcticCoin\", \"DAS\", \"LeviarCoin\", \"Bitcore\", \"gCn Coin\", \"SmartCash\", \"Onix\", \"Bitcoin Cash\", \"Sojourn Coin\", \"FrazCoin\", \"Kronecoin\", \"AdCoin\", \"Linx\", \"Sumokoin\", \"BitcoinZ\", \"Elements\", \"VIVO Coin\", \"Bitcoin Gold\", \"Pirl\", \"eBoost\", \"Pura\", \"Innova\", \"Ellaism\", \"GoByte\", \"SHIELD\", \"UltraNote\", \"BitCoal\", \"DaxxCoin\", \"AC3\", \"Lethean\", \"PopularCoin\", \"Photon\", \"Sucre\", \"SparksPay\", \"GunCoin\", \"IrishCoin\", \"Pioneer Coin\", \"UnitedBitcoin\", \"Interzone\", \"MUNcoin\", \"Niobio Cash\", \"ShareChain\", \"Travelflex\", \"KREDS\", \"BitFlip\", \"LottoCoin\", \"Crypto Improvement Fund\", \"Callisto Network\", \"BitTube\", \"Poseidon\", \"Aidos Kuneen\", \"Bitrolium\", \"Alpenschillling\", \"FuturoCoin\", \"Monero Classic\", \"Jumpcoin\", \"Infinex\", \"KEYCO\", \"GINcoin\", \"PlatinCoin\", \"Loki\", \"Newton Coin\", \"MassGrid\", \"PluraCoin\", \"Motion\", \"PlusOneCoin\", \"Axe\", \"HexCoin\", \"Webchain\", \"Ryo\", \"Urals Coin\", \"Qwertycoin\", \"Project Pai\", \"Azart\", \"Xchange\", \"CrypticCoin\", \"Actinium\", \"Bitcoin SV\", \"FREDEnergy\", \"Universal Molecule\", \"Lithium\", \"Exosis\", \"Block-Logic\", \"Beam\", \"Bithereum\", \"SLICE\", \"BLAST\", \"Bitcoin Rhodium\", \"GlobalToken\", \"SolarCoin\", \"UFO Coin\", \"BlakeCoin\", \"Crypto Escudo\", \"Crown Coin\", \"SmileyCoin\", \"Groestlcoin\", \"Bata\", \"Pakcoin\", \"JoinCoin\", \"Vollar\", \"Reality Clash\", \"Beldex\", \"Horizen\"], \"legendgroup\": \"0\", \"marker\": {\"color\": [0, 0, 0, 0, 0, 0, 0, 0, 0, 0, 0, 0, 0, 0, 0, 0, 0, 0, 0, 0, 0, 0, 0, 0, 0, 0, 0, 0, 0, 0, 0, 0, 0, 0, 0, 0, 0, 0, 0, 0, 0, 0, 0, 0, 0, 0, 0, 0, 0, 0, 0, 0, 0, 0, 0, 0, 0, 0, 0, 0, 0, 0, 0, 0, 0, 0, 0, 0, 0, 0, 0, 0, 0, 0, 0, 0, 0, 0, 0, 0, 0, 0, 0, 0, 0, 0, 0, 0, 0, 0, 0, 0, 0, 0, 0, 0, 0, 0, 0, 0, 0, 0, 0, 0, 0, 0, 0, 0, 0, 0, 0, 0, 0, 0, 0, 0, 0, 0, 0, 0, 0, 0, 0, 0, 0, 0, 0, 0, 0, 0, 0, 0, 0, 0, 0, 0, 0, 0, 0, 0, 0, 0, 0, 0, 0, 0, 0, 0, 0, 0, 0, 0, 0, 0, 0, 0, 0, 0, 0, 0, 0, 0, 0, 0, 0, 0, 0, 0, 0, 0, 0, 0, 0, 0, 0, 0, 0, 0, 0, 0, 0, 0, 0, 0, 0, 0, 0, 0, 0, 0, 0, 0, 0, 0, 0, 0, 0, 0, 0, 0, 0, 0, 0, 0, 0, 0, 0, 0, 0, 0, 0, 0, 0, 0, 0, 0, 0, 0, 0, 0, 0, 0, 0, 0, 0, 0, 0, 0], \"coloraxis\": \"coloraxis\", \"symbol\": \"diamond\"}, \"mode\": \"markers\", \"name\": \"0\", \"scene\": \"scene\", \"showlegend\": true, \"type\": \"scatter3d\", \"x\": [-0.1818912334220833, -0.1802927842583635, -0.17221684306417845, -0.17626449769563876, 0.20965577818272474, -0.18179549268418987, -0.18791821569461606, -0.1812637015305259, -0.12928383283988285, 3.6974097746702355, -0.17808476556360445, -0.1776189384096335, -0.1809733243433143, -0.17113617376208193, -0.17364777488038652, -0.1811024563348519, -0.1817735364190605, -0.18189100088686788, -0.1880314822230751, 0.23316391942247033, 0.3137418803051461, 0.14394748840368296, -0.18156646623760797, -0.17575567900528286, -0.1814767167991472, -0.18196410127628615, -0.1700680255420069, -0.15437018586568096, -0.18039439299184334, -0.18073491962084737, 2.103493339433332, -0.18184340530156895, -0.17712272845209984, -0.1816005296489823, -0.1820645570468014, -0.1810935265161347, -0.17217392737451248, -0.18190608141556464, 0.005235183582990464, -0.18193949413488222, -0.17362772747689761, -0.18186603834410545, -0.179202923580333, -0.18119052472385683, -0.16488268143138446, -0.18124109020350088, -0.18160332328952508, -0.18153185637847397, -0.18236897918415088, -0.18151237406286938, -0.17382441262942178, -0.17760432157687714, -0.18132707573819054, 4.492594499521191, 0.050411287180930416, -0.1800014352096085, -0.15884466958771284, -0.17833395706283373, -0.1820655973178663, -0.17817533363600932, -0.16000483672092275, -0.15380041561214636, -0.181907470080273, -0.011334381400342614, -0.1454692679637676, -0.18207927105885588, -0.18197388522906716, 0.7473710961420653, -0.18746816511338574, -0.17455125182977618, -0.18160836054168902, -0.18783681164648214, -0.1794783177906499, -0.1784255050105218, -0.17572347613182965, -0.1878872676852606, -0.18184479487447208, -0.17679702924611468, -0.1738067298411406, -0.18018998128756988, 0.36493181465629787, -0.1867579750945309, -0.1748245051065209, -0.18038444024114336, -0.17430495370979615, -0.18179345772328545, -0.18782982285070207, -0.18207934749955143, -0.18801550078081836, -0.15486079577335132, -0.18218174354985342, -0.14777603173989978, -0.1783070309739108, -0.1821293265589508, -0.18162363417815033, -0.17508932958142923, -0.17539190916245892, -0.17629126161127903, -0.07809711007256652, -0.1707744132052689, -0.18505731046887816, -0.15485318449769828, -0.182053954912584, -0.15468604084515367, -0.1752943653345418, 0.8301206557622628, -0.17334532091656396, -0.18201383504190793, -0.1777264534600117, -0.17631188794802707, -0.17957447245546262, -0.17493110455428842, -0.1747527249633858, -0.14071393458827458, -0.17512697846365186, -0.18142936346628327, -0.13718632139484224, -0.18116068078947642, -0.17327528786033425, -0.16934950984059158, -0.17422694349087522, -0.10750605875932034, -0.18674714647303328, -0.181625882142155, -0.18125902047683046, -0.18728884846572272, -0.18805829807887436, -0.15432038574219972, -0.174327143309479, 4.304699637767278, -0.09053145659110975, -0.17532329609317424, -0.18189019864533623, -0.07600735443157944, -0.18174606731726842, -0.18098226829559755, -0.18059082727279946, -0.18057464654355565, -0.15404678714426748, 0.11439722092280635, -0.12922283956912117, -0.1762829396715551, -0.1761159799685133, -0.17312063202098021, -0.1795722552226978, -0.18210275383796765, -0.1760676721898052, -0.17303127474477217, -0.17620924235541627, -0.1610704494985208, 0.9953033892199419, -0.15488579062728808, -0.06714572623150908, -0.1815175428897074, -0.158608683217553, -0.07162167225939023, 1.1909240988027547, -0.18802491228164994, -0.17628787472648594, -0.1670328228664557, -0.18076038055264285, -0.18792831566469434, -0.18186579682412343, -0.17463122237403145, -0.1745682550383563, -0.1496598341497369, 0.07018462335831074, -0.17258024488846546, -0.15459643451451305, -0.18150253594794638, 0.22304623675177318, -0.18004158268590625, -0.10663916531682195, -0.14376651425177128, -0.18182117654240348, -0.17417768450553334, -0.17480186904064632, -0.1719756117919941, -0.18679762662141322, -0.15465199021685758, -0.17523674077234713, -0.17508116440576466, -0.1746150122923811, -0.17520825194033898, -0.1490171330984306, -0.1692533173374575, 2.328431916099323, -0.1710525122336874, -0.1365059203548788, -0.17512511416515722, -0.17446579775896429, -0.18800123342019304, -0.18185014533677674, -0.1574645788804338, -0.17384305492506105, -0.1727317442736287, 3.198367539009041, -0.12939584396785453, -0.18796047629498736, -0.17431323262841344, -0.035750082803569755, -0.17436513218637958, -0.18189024515494348, -0.04520954934596948, -0.17404860756115265, -0.17463992729101707, -0.1745905640667145, -0.18034886999867153, -0.1733935149457495, -0.17589588237934006, -0.17383606380234276, -0.18093701136971402, -0.1718286266981277, -0.17939748088878008, 0.809837736073585, -0.078358571317447, -0.10406108312863445, -0.1601912767204061, -0.18160254384764746, 0.7705090106435084, -0.17307639969176405, -0.18196796454671715, -0.1792021930013472, -0.17494586058867503, -0.15205393541183382, -0.1754352405656049, -0.12610792221057177, -0.1762658062982651], \"y\": [0.6636551847053498, 0.5711735263116307, 0.6613645499796638, 0.6716626845894497, 0.657405831116438, 0.57124658864823, 0.5695328813767424, 0.5712993161417518, 0.6557046252172133, 1.22272984190574, 0.6634291683656667, 0.571248096997824, 0.571375627086606, 0.6153281039926759, 0.6413377314182505, 0.5712057232061897, 0.5712420274754296, 0.5712365977552838, 0.5695488204969653, 0.6356518170963184, 0.6403160907661736, 0.5547349664621927, 0.5711990109207592, 0.5710500065408638, 0.5712221156211748, 0.5712445564480814, 0.6506397310479928, 0.5708613303278086, 0.5711414991148905, 0.5712207630607458, 0.4402845073799377, 0.6636452489389039, 0.5712035425999198, 0.5712022918419638, 0.5712279046315264, 0.5711804658326219, 0.641982815008693, 0.5712278130819112, 0.5892439907282526, 0.6636652103380904, 0.5707491646882898, 0.5712612437338408, 0.5715771525103788, 0.571235533623608, 0.6634124378213818, 0.6636188498519938, 0.6636750774809907, 0.66380445538644, 0.663675677040153, 0.5711953646222455, 0.64045485451677, 0.5713035882792912, 0.6636290762224702, 0.44981489959793897, 0.7104614011055601, 0.5711931601356044, 0.5727753397615108, 0.5710792875143936, 0.571232971229722, 0.5710220979555476, 0.5704354945714571, 0.6412027349652736, 0.5712029432788277, 0.5737092448656551, 0.6426696126478129, 0.5712281886985763, 0.6636723547099788, 0.7273175302375867, 0.5694887282305146, 0.6518034278569381, 0.6637207575621754, 0.5695197659584856, 0.5714834583947651, 0.5714156523456725, 0.6613601512169159, 0.5695112707551702, 0.6636455376074051, 0.570925539273972, 0.6418730596730464, 0.5711521701241665, 0.6320589138857556, 0.5695347583456905, 0.6484117448645279, 0.5715127119183456, 0.641755856633788, 0.5712423705292834, 0.569533495625685, 0.5712281930782949, 0.5695720681752232, 0.7151885925494872, 0.6636727838521097, 0.6565098737806594, 0.5712012717574728, 0.6636653193604094, 0.571245045335804, 0.6517498240524463, 0.6613265655833148, 0.6716682444988109, 0.5875784680812746, 0.5677932263321257, 0.5697279984165672, 0.7152287605505969, 0.5712308801359667, 0.7152092198062707, 0.6517460607847207, 0.7375084037029032, 0.6520319156063892, 0.5712249964025439, 0.5711351253882286, 0.6716573478808823, 0.5710850309791061, 0.6517123465133324, 0.6417662054023028, 0.5778141561855424, 0.6210798358702121, 0.5712256397359922, 0.663776973010327, 0.571308277740354, 0.651713736754124, 0.641928911470739, 0.6417624756726681, 0.7129039689025465, 0.5695932348694601, 0.571204813726318, 0.5713400928642727, 0.569553952378374, 0.5695578070366865, 0.7152433249441065, 0.6417490401831801, 0.39822246124374455, 0.6395178986586624, 0.5710154336719866, 0.6636549697418536, 0.5890420334017457, 0.5712325256932136, 0.5713167590435183, 0.5712961675235265, 0.5712928061548391, 0.71531890436626, 0.690904145521503, 0.5640953351605484, 0.6507580393039792, 0.6716318316637238, 0.6485371657724699, 0.5710845703733649, 0.5695772578825966, 0.6507816366575023, 0.6617994156840237, 0.6507609473116899, 0.65722213875813, 0.7988238140088746, 0.7152032734011722, 0.6766939324873678, 0.5702147623751636, 0.6520618064418522, 0.5672563761290355, 0.6965153336066063, 0.5695542873445584, 0.6507362922383271, 0.6506316430680593, 0.571194756739669, 0.5695463656690781, 0.6636467351862488, 0.6380673027242857, 0.6417825400686235, 0.7153454432131933, 0.5567745674520974, 0.6482112009393857, 0.6403165575940062, 0.571257842291051, 0.5569269149381006, 0.5697183789533582, 0.6716144368261359, 0.7166413018788347, 0.5712519241875297, 0.6417331289349196, 0.6715448130902723, 0.6521603757599003, 0.5696037215655513, 0.715177096666438, 0.6209992061374745, 0.6517635593952386, 0.6417976320622998, 0.6517331592434864, 0.7162139109381767, 0.645253303813903, 0.897623452373499, 0.6416268689986206, 0.7151329932845532, 0.6404871215471889, 0.6417779570353722, 0.5695539227751173, 0.5712621370272911, 0.6546726328167695, 0.641904388857412, 0.6332933338003298, 0.6452311844428915, 0.6606404356634535, 0.5695606374429641, 0.640614214267771, 0.6712375302602221, 0.6518369706760402, 0.6636549794037129, 0.72303845299524, 0.6486136615783115, 0.6484332844314808, 0.6418039774688569, 0.5713218111223421, 0.6719839919168749, 0.6716236299169515, 0.6381956358600613, 0.663620156821826, 0.603398568404927, 0.6636950556133222, 0.7374925791483293, 0.6454943653955743, 0.6602431995849227, 0.5704742254325318, 0.6636749155605065, 0.5631049991863003, 0.6412987374435347, 0.571221691731462, 0.5713189150243497, 0.6576102803928473, 0.645034694957943, 0.6613290482835568, 0.7144919195966214, 0.6716629564372653], \"z\": [-0.20413934621143923, -0.04835031452349439, -0.17618437784282343, -0.1812516814553257, -0.1364389046432889, -0.04813558178294218, -0.17655868977039754, -0.04780689545647901, -0.18162927694916742, 3.723723832926584, -0.20489412835369536, -0.04767891192542155, -0.04738270993716847, -0.17397627317585918, -0.16961976451716346, -0.04827153627696465, -0.04815671037467107, -0.04819729684030301, -0.17648878279514976, -0.24593796700359355, -0.27105632330693513, -0.09815345633431902, -0.048355974743970506, -0.04849874428008836, -0.04822734701133146, -0.0481641692271589, -0.174366550452176, -0.047171817275163334, -0.048526164724135616, -0.0481545827533664, -0.4769193346111103, -0.20418537138127388, -0.04785501848235652, -0.04834274030571823, -0.04826071754145865, -0.04840064334632587, -0.16786498519152984, -0.048244155790172716, 0.06464724088710166, -0.20409290475651648, -0.049819261768645005, -0.048067695444449186, -0.04615463738330761, -0.04812748851785538, -0.20356130497671734, -0.20425657993749466, -0.20400596018478806, -0.20333202672467676, -0.20408516651338987, -0.04836893802896746, -0.17061621316212466, -0.047391579712010704, -0.20421315947261426, -0.9806780572218898, -0.11589004019619, -0.048217892389699514, -0.037796245748541825, -0.04862507447868946, -0.048234738098629416, -0.04890253211622934, -0.04997034698579744, -0.16990341389685326, -0.04837237604992488, -0.017132324051520972, -0.16143459920091616, -0.04826083617730416, -0.20405981008472854, 0.855444769586647, -0.17673769129764647, -0.17242625638526154, -0.20377126475747775, -0.17661748027114033, -0.046666729910426474, -0.04690275002757327, -0.1765839281975535, -0.17666665076227975, -0.20418403419034603, -0.04925163415389927, -0.16860776987606374, -0.04844924218653911, -0.3080759965283853, -0.17642431960560695, -0.17143464152782573, -0.046613475652693026, -0.16926632488950472, -0.04815708493623679, -0.17654602600125716, -0.04826082183920898, -0.1763673474712151, -0.11360957048276234, -0.20407994107587069, -0.17947009099140346, -0.047994003173090195, -0.2041127468048658, -0.04812505770337419, -0.17275356375189022, -0.1767212454366906, -0.18122592644447552, 0.04711368630235449, -0.18367467811054863, -0.17524640913894393, -0.11340190090502297, -0.04824425517496596, -0.11348456422126242, -0.17280154820564494, 0.7978783196858964, -0.17106202084110608, -0.04827024225104059, -0.16721225353794633, -0.1812842572603648, -0.04872883006523704, -0.17293612138676887, -0.16926133867023, -0.009899340840594522, -0.16748878113670027, -0.0482041094140809, -0.19870722640474192, -0.0477496734549627, -0.17269300615575303, -0.1678377560751762, -0.16922374141947855, -0.12028484431750966, -0.1761220215751425, -0.04833247838570844, -0.04759640611576769, -0.17638253595647668, -0.17644538738921525, -0.11326963322943784, -0.16930389231732573, -0.4569355440152697, -0.15189142919054832, -0.16757033006625985, -0.20414034198076955, 0.054875158647754156, -0.04820268889185983, -0.047686821591495766, -0.04775078822338236, -0.04776635899646512, -0.11285101819070538, -0.05092395878638657, -0.19825153047737715, -0.17442529165545226, -0.18139460059036402, -0.17060563177026125, -0.048730963716182824, -0.17570511126224642, -0.1742806360581606, -0.1740325041264721, -0.17440239530850607, -0.17723107340907954, 0.44070468255200457, -0.11353665558824219, -0.08595008346826395, -0.1723592811900234, -0.16932417712000095, -0.05684216649956575, 0.2807181436558494, -0.1764599242472907, -0.17453781205384394, -0.17408197261531902, -0.04829124301685461, -0.17649033582378668, -0.20418012438905672, -0.16847603912698886, -0.1691571197139768, -0.1122428358359003, -0.09557835116756025, -0.17222615786305084, -0.16926174297283714, -0.04804614192731051, -0.07836401612339634, -0.1747568480840499, -0.11635256832573274, -0.10493618272589712, -0.048110866115180555, -0.16936982689308236, -0.18170147393528183, -0.1703046953798844, -0.17607344434949604, -0.11364632762268036, -0.16791579418031063, -0.172688521171075, -0.16908430928799598, -0.17285216378949528, -0.10770144476407874, -0.16668311534910132, 1.0927757950326829, -0.16958021032234777, -0.11192307795849274, -0.17059887852781583, -0.16916968899812515, -0.17645925661572173, -0.04806138708336064, -0.15575634165312424, -0.16845005798995008, -0.16308819469188388, 0.1951599614604032, -0.21402199171831027, -0.17642029772889237, -0.16985713210635706, -0.16833837937438179, -0.17222695053040157, -0.20414029722440982, -0.06139998456012957, -0.17014902898606532, -0.17114146571325403, -0.16904892797901233, -0.047592726501450106, -0.17928848073269912, -0.18141318036717474, -0.16772697449723695, -0.20421716663555084, -0.15613474195640412, -0.203665992338746, 0.9145568102077136, -0.19100635784830478, -0.10273850953498685, -0.04979093511370346, -0.2040067102444684, 0.012293137818861596, -0.16975915791833152, -0.04828232994983204, -0.04748439384007686, -0.17672362654102403, -0.14994410844639358, -0.1767131177019347, -0.11410679624138433, -0.1812504221823818]}, {\"customdata\": [[\"CryptoNight\"]], \"hovertemplate\": \"<b>%{hovertext}</b><br><br>Class=%{marker.color}<br>PC1=%{x}<br>PC2=%{y}<br>PC3=%{z}<br>Algorithm=%{customdata[0]}<extra></extra>\", \"hovertext\": [\"TurtleCoin\"], \"legendgroup\": \"2\", \"marker\": {\"color\": [2], \"coloraxis\": \"coloraxis\", \"symbol\": \"square\"}, \"mode\": \"markers\", \"name\": \"2\", \"scene\": \"scene\", \"showlegend\": true, \"type\": \"scatter3d\", \"x\": [10.751540632039978], \"y\": [2.2448437747557235], \"z\": [8.935829449337916]}, {\"customdata\": [[\"TRC10\"]], \"hovertemplate\": \"<b>%{hovertext}</b><br><br>Class=%{marker.color}<br>PC1=%{x}<br>PC2=%{y}<br>PC3=%{z}<br>Algorithm=%{customdata[0]}<extra></extra>\", \"hovertext\": [\"BitTorrent\"], \"legendgroup\": \"1\", \"marker\": {\"color\": [1], \"coloraxis\": \"coloraxis\", \"symbol\": \"x\"}, \"mode\": \"markers\", \"name\": \"1\", \"scene\": \"scene\", \"showlegend\": true, \"type\": \"scatter3d\", \"x\": [24.85430311933936], \"y\": [-1.544705500594543], \"z\": [-4.838707375551249]}],\n",
       "                        {\"coloraxis\": {\"colorbar\": {\"title\": {\"text\": \"Class\"}}, \"colorscale\": [[0.0, \"#0d0887\"], [0.1111111111111111, \"#46039f\"], [0.2222222222222222, \"#7201a8\"], [0.3333333333333333, \"#9c179e\"], [0.4444444444444444, \"#bd3786\"], [0.5555555555555556, \"#d8576b\"], [0.6666666666666666, \"#ed7953\"], [0.7777777777777778, \"#fb9f3a\"], [0.8888888888888888, \"#fdca26\"], [1.0, \"#f0f921\"]]}, \"legend\": {\"title\": {\"text\": \"Class\"}, \"tracegroupgap\": 0, \"x\": 0, \"y\": 1}, \"margin\": {\"t\": 60}, \"scene\": {\"domain\": {\"x\": [0.0, 1.0], \"y\": [0.0, 1.0]}, \"xaxis\": {\"title\": {\"text\": \"PC1\"}}, \"yaxis\": {\"title\": {\"text\": \"PC2\"}}, \"zaxis\": {\"title\": {\"text\": \"PC3\"}}}, \"template\": {\"data\": {\"bar\": [{\"error_x\": {\"color\": \"#2a3f5f\"}, \"error_y\": {\"color\": \"#2a3f5f\"}, \"marker\": {\"line\": {\"color\": \"#E5ECF6\", \"width\": 0.5}}, \"type\": \"bar\"}], \"barpolar\": [{\"marker\": {\"line\": {\"color\": \"#E5ECF6\", \"width\": 0.5}}, \"type\": \"barpolar\"}], \"carpet\": [{\"aaxis\": {\"endlinecolor\": \"#2a3f5f\", \"gridcolor\": \"white\", \"linecolor\": \"white\", \"minorgridcolor\": \"white\", \"startlinecolor\": \"#2a3f5f\"}, \"baxis\": {\"endlinecolor\": \"#2a3f5f\", \"gridcolor\": \"white\", \"linecolor\": \"white\", \"minorgridcolor\": \"white\", \"startlinecolor\": \"#2a3f5f\"}, \"type\": \"carpet\"}], \"choropleth\": [{\"colorbar\": {\"outlinewidth\": 0, \"ticks\": \"\"}, \"type\": \"choropleth\"}], \"contour\": [{\"colorbar\": {\"outlinewidth\": 0, \"ticks\": \"\"}, \"colorscale\": [[0.0, \"#0d0887\"], [0.1111111111111111, \"#46039f\"], [0.2222222222222222, \"#7201a8\"], [0.3333333333333333, \"#9c179e\"], [0.4444444444444444, \"#bd3786\"], [0.5555555555555556, \"#d8576b\"], [0.6666666666666666, \"#ed7953\"], [0.7777777777777778, \"#fb9f3a\"], [0.8888888888888888, \"#fdca26\"], [1.0, \"#f0f921\"]], \"type\": \"contour\"}], \"contourcarpet\": [{\"colorbar\": {\"outlinewidth\": 0, \"ticks\": \"\"}, \"type\": \"contourcarpet\"}], \"heatmap\": [{\"colorbar\": {\"outlinewidth\": 0, \"ticks\": \"\"}, \"colorscale\": [[0.0, \"#0d0887\"], [0.1111111111111111, \"#46039f\"], [0.2222222222222222, \"#7201a8\"], [0.3333333333333333, \"#9c179e\"], [0.4444444444444444, \"#bd3786\"], [0.5555555555555556, \"#d8576b\"], [0.6666666666666666, \"#ed7953\"], [0.7777777777777778, \"#fb9f3a\"], [0.8888888888888888, \"#fdca26\"], [1.0, \"#f0f921\"]], \"type\": \"heatmap\"}], \"heatmapgl\": [{\"colorbar\": {\"outlinewidth\": 0, \"ticks\": \"\"}, \"colorscale\": [[0.0, \"#0d0887\"], [0.1111111111111111, \"#46039f\"], [0.2222222222222222, \"#7201a8\"], [0.3333333333333333, \"#9c179e\"], [0.4444444444444444, \"#bd3786\"], [0.5555555555555556, \"#d8576b\"], [0.6666666666666666, \"#ed7953\"], [0.7777777777777778, \"#fb9f3a\"], [0.8888888888888888, \"#fdca26\"], [1.0, \"#f0f921\"]], \"type\": \"heatmapgl\"}], \"histogram\": [{\"marker\": {\"colorbar\": {\"outlinewidth\": 0, \"ticks\": \"\"}}, \"type\": \"histogram\"}], \"histogram2d\": [{\"colorbar\": {\"outlinewidth\": 0, \"ticks\": \"\"}, \"colorscale\": [[0.0, \"#0d0887\"], [0.1111111111111111, \"#46039f\"], [0.2222222222222222, \"#7201a8\"], [0.3333333333333333, \"#9c179e\"], [0.4444444444444444, \"#bd3786\"], [0.5555555555555556, \"#d8576b\"], [0.6666666666666666, \"#ed7953\"], [0.7777777777777778, \"#fb9f3a\"], [0.8888888888888888, \"#fdca26\"], [1.0, \"#f0f921\"]], \"type\": \"histogram2d\"}], \"histogram2dcontour\": [{\"colorbar\": {\"outlinewidth\": 0, \"ticks\": \"\"}, \"colorscale\": [[0.0, \"#0d0887\"], [0.1111111111111111, \"#46039f\"], [0.2222222222222222, \"#7201a8\"], [0.3333333333333333, \"#9c179e\"], [0.4444444444444444, \"#bd3786\"], [0.5555555555555556, \"#d8576b\"], [0.6666666666666666, \"#ed7953\"], [0.7777777777777778, \"#fb9f3a\"], [0.8888888888888888, \"#fdca26\"], [1.0, \"#f0f921\"]], \"type\": \"histogram2dcontour\"}], \"mesh3d\": [{\"colorbar\": {\"outlinewidth\": 0, \"ticks\": \"\"}, \"type\": \"mesh3d\"}], \"parcoords\": [{\"line\": {\"colorbar\": {\"outlinewidth\": 0, \"ticks\": \"\"}}, \"type\": \"parcoords\"}], \"pie\": [{\"automargin\": true, \"type\": \"pie\"}], \"scatter\": [{\"marker\": {\"colorbar\": {\"outlinewidth\": 0, \"ticks\": \"\"}}, \"type\": \"scatter\"}], \"scatter3d\": [{\"line\": {\"colorbar\": {\"outlinewidth\": 0, \"ticks\": \"\"}}, \"marker\": {\"colorbar\": {\"outlinewidth\": 0, \"ticks\": \"\"}}, \"type\": \"scatter3d\"}], \"scattercarpet\": [{\"marker\": {\"colorbar\": {\"outlinewidth\": 0, \"ticks\": \"\"}}, \"type\": \"scattercarpet\"}], \"scattergeo\": [{\"marker\": {\"colorbar\": {\"outlinewidth\": 0, \"ticks\": \"\"}}, \"type\": \"scattergeo\"}], \"scattergl\": [{\"marker\": {\"colorbar\": {\"outlinewidth\": 0, \"ticks\": \"\"}}, \"type\": \"scattergl\"}], \"scattermapbox\": [{\"marker\": {\"colorbar\": {\"outlinewidth\": 0, \"ticks\": \"\"}}, \"type\": \"scattermapbox\"}], \"scatterpolar\": [{\"marker\": {\"colorbar\": {\"outlinewidth\": 0, \"ticks\": \"\"}}, \"type\": \"scatterpolar\"}], \"scatterpolargl\": [{\"marker\": {\"colorbar\": {\"outlinewidth\": 0, \"ticks\": \"\"}}, \"type\": \"scatterpolargl\"}], \"scatterternary\": [{\"marker\": {\"colorbar\": {\"outlinewidth\": 0, \"ticks\": \"\"}}, \"type\": \"scatterternary\"}], \"surface\": [{\"colorbar\": {\"outlinewidth\": 0, \"ticks\": \"\"}, \"colorscale\": [[0.0, \"#0d0887\"], [0.1111111111111111, \"#46039f\"], [0.2222222222222222, \"#7201a8\"], [0.3333333333333333, \"#9c179e\"], [0.4444444444444444, \"#bd3786\"], [0.5555555555555556, \"#d8576b\"], [0.6666666666666666, \"#ed7953\"], [0.7777777777777778, \"#fb9f3a\"], [0.8888888888888888, \"#fdca26\"], [1.0, \"#f0f921\"]], \"type\": \"surface\"}], \"table\": [{\"cells\": {\"fill\": {\"color\": \"#EBF0F8\"}, \"line\": {\"color\": \"white\"}}, \"header\": {\"fill\": {\"color\": \"#C8D4E3\"}, \"line\": {\"color\": \"white\"}}, \"type\": \"table\"}]}, \"layout\": {\"annotationdefaults\": {\"arrowcolor\": \"#2a3f5f\", \"arrowhead\": 0, \"arrowwidth\": 1}, \"coloraxis\": {\"colorbar\": {\"outlinewidth\": 0, \"ticks\": \"\"}}, \"colorscale\": {\"diverging\": [[0, \"#8e0152\"], [0.1, \"#c51b7d\"], [0.2, \"#de77ae\"], [0.3, \"#f1b6da\"], [0.4, \"#fde0ef\"], [0.5, \"#f7f7f7\"], [0.6, \"#e6f5d0\"], [0.7, \"#b8e186\"], [0.8, \"#7fbc41\"], [0.9, \"#4d9221\"], [1, \"#276419\"]], \"sequential\": [[0.0, \"#0d0887\"], [0.1111111111111111, \"#46039f\"], [0.2222222222222222, \"#7201a8\"], [0.3333333333333333, \"#9c179e\"], [0.4444444444444444, \"#bd3786\"], [0.5555555555555556, \"#d8576b\"], [0.6666666666666666, \"#ed7953\"], [0.7777777777777778, \"#fb9f3a\"], [0.8888888888888888, \"#fdca26\"], [1.0, \"#f0f921\"]], \"sequentialminus\": [[0.0, \"#0d0887\"], [0.1111111111111111, \"#46039f\"], [0.2222222222222222, \"#7201a8\"], [0.3333333333333333, \"#9c179e\"], [0.4444444444444444, \"#bd3786\"], [0.5555555555555556, \"#d8576b\"], [0.6666666666666666, \"#ed7953\"], [0.7777777777777778, \"#fb9f3a\"], [0.8888888888888888, \"#fdca26\"], [1.0, \"#f0f921\"]]}, \"colorway\": [\"#636efa\", \"#EF553B\", \"#00cc96\", \"#ab63fa\", \"#FFA15A\", \"#19d3f3\", \"#FF6692\", \"#B6E880\", \"#FF97FF\", \"#FECB52\"], \"font\": {\"color\": \"#2a3f5f\"}, \"geo\": {\"bgcolor\": \"white\", \"lakecolor\": \"white\", \"landcolor\": \"#E5ECF6\", \"showlakes\": true, \"showland\": true, \"subunitcolor\": \"white\"}, \"hoverlabel\": {\"align\": \"left\"}, \"hovermode\": \"closest\", \"mapbox\": {\"style\": \"light\"}, \"paper_bgcolor\": \"white\", \"plot_bgcolor\": \"#E5ECF6\", \"polar\": {\"angularaxis\": {\"gridcolor\": \"white\", \"linecolor\": \"white\", \"ticks\": \"\"}, \"bgcolor\": \"#E5ECF6\", \"radialaxis\": {\"gridcolor\": \"white\", \"linecolor\": \"white\", \"ticks\": \"\"}}, \"scene\": {\"xaxis\": {\"backgroundcolor\": \"#E5ECF6\", \"gridcolor\": \"white\", \"gridwidth\": 2, \"linecolor\": \"white\", \"showbackground\": true, \"ticks\": \"\", \"zerolinecolor\": \"white\"}, \"yaxis\": {\"backgroundcolor\": \"#E5ECF6\", \"gridcolor\": \"white\", \"gridwidth\": 2, \"linecolor\": \"white\", \"showbackground\": true, \"ticks\": \"\", \"zerolinecolor\": \"white\"}, \"zaxis\": {\"backgroundcolor\": \"#E5ECF6\", \"gridcolor\": \"white\", \"gridwidth\": 2, \"linecolor\": \"white\", \"showbackground\": true, \"ticks\": \"\", \"zerolinecolor\": \"white\"}}, \"shapedefaults\": {\"line\": {\"color\": \"#2a3f5f\"}}, \"ternary\": {\"aaxis\": {\"gridcolor\": \"white\", \"linecolor\": \"white\", \"ticks\": \"\"}, \"baxis\": {\"gridcolor\": \"white\", \"linecolor\": \"white\", \"ticks\": \"\"}, \"bgcolor\": \"#E5ECF6\", \"caxis\": {\"gridcolor\": \"white\", \"linecolor\": \"white\", \"ticks\": \"\"}}, \"title\": {\"x\": 0.05}, \"xaxis\": {\"automargin\": true, \"gridcolor\": \"white\", \"linecolor\": \"white\", \"ticks\": \"\", \"title\": {\"standoff\": 15}, \"zerolinecolor\": \"white\", \"zerolinewidth\": 2}, \"yaxis\": {\"automargin\": true, \"gridcolor\": \"white\", \"linecolor\": \"white\", \"ticks\": \"\", \"title\": {\"standoff\": 15}, \"zerolinecolor\": \"white\", \"zerolinewidth\": 2}}}, \"width\": 800},\n",
       "                        {\"responsive\": true}\n",
       "                    ).then(function(){\n",
       "                            \n",
       "var gd = document.getElementById('9e57d2fd-0897-4d82-b8a6-29953254086c');\n",
       "var x = new MutationObserver(function (mutations, observer) {{\n",
       "        var display = window.getComputedStyle(gd).display;\n",
       "        if (!display || display === 'none') {{\n",
       "            console.log([gd, 'removed!']);\n",
       "            Plotly.purge(gd);\n",
       "            observer.disconnect();\n",
       "        }}\n",
       "}});\n",
       "\n",
       "// Listen for the removal of the full notebook cells\n",
       "var notebookContainer = gd.closest('#notebook-container');\n",
       "if (notebookContainer) {{\n",
       "    x.observe(notebookContainer, {childList: true});\n",
       "}}\n",
       "\n",
       "// Listen for the clearing of the current output cell\n",
       "var outputEl = gd.closest('.output');\n",
       "if (outputEl) {{\n",
       "    x.observe(outputEl, {childList: true});\n",
       "}}\n",
       "\n",
       "                        })\n",
       "                };\n",
       "                });\n",
       "            </script>\n",
       "        </div>"
      ]
     },
     "metadata": {},
     "output_type": "display_data"
    }
   ],
   "source": [
    "# Creating a 3D-Scatter with the PCA data and the clusters\n",
    "\n",
    "fig = px.scatter_3d(\n",
    "    clustered_df,\n",
    "    x =\"PC1\",\n",
    "    y = \"PC2\",\n",
    "    z=\"PC3\",\n",
    "    hover_data=['Algorithm'],\n",
    "    hover_name = \"CoinName\",\n",
    "    color=\"Class\",\n",
    "    symbol=\"Class\",\n",
    "    width=800,\n",
    ")\n",
    "fig.update_layout(legend=dict(x=0, y=1))\n",
    "fig.show()"
   ]
  },
  {
   "cell_type": "markdown",
   "metadata": {},
   "source": [
    "####  Table of Tradable Cryptocurrencies"
   ]
  },
  {
   "cell_type": "code",
   "execution_count": 94,
   "metadata": {},
   "outputs": [
    {
     "data": {},
     "metadata": {},
     "output_type": "display_data"
    },
    {
     "data": {
      "application/vnd.holoviews_exec.v0+json": "",
      "text/html": [
       "<div id='1360'>\n",
       "\n",
       "\n",
       "\n",
       "\n",
       "\n",
       "  <div class=\"bk-root\" id=\"4f210380-953f-4a28-8cb2-1116ef723fb9\" data-root-id=\"1360\"></div>\n",
       "</div>\n",
       "<script type=\"application/javascript\">(function(root) {\n",
       "  function embed_document(root) {\n",
       "  var docs_json = {\"6665b024-5576-4154-9066-547101368869\":{\"roots\":{\"references\":[{\"attributes\":{\"editor\":{\"id\":\"1375\"},\"field\":\"ProofType\",\"formatter\":{\"id\":\"1374\"},\"title\":\"ProofType\"},\"id\":\"1376\",\"type\":\"TableColumn\"},{\"attributes\":{},\"id\":\"1369\",\"type\":\"StringFormatter\"},{\"attributes\":{},\"id\":\"1370\",\"type\":\"StringEditor\"},{\"attributes\":{\"columns\":[{\"id\":\"1366\"},{\"id\":\"1371\"},{\"id\":\"1376\"},{\"id\":\"1381\"},{\"id\":\"1386\"},{\"id\":\"1391\"}],\"height\":300,\"reorderable\":false,\"source\":{\"id\":\"1362\"},\"view\":{\"id\":\"1395\"},\"width\":700},\"id\":\"1394\",\"type\":\"DataTable\"},{\"attributes\":{},\"id\":\"1365\",\"type\":\"StringEditor\"},{\"attributes\":{\"children\":[{\"id\":\"1361\"},{\"id\":\"1394\"},{\"id\":\"1400\"}],\"margin\":[0,0,0,0],\"name\":\"Row02164\",\"tags\":[\"embedded\"]},\"id\":\"1360\",\"type\":\"Row\"},{\"attributes\":{},\"id\":\"1375\",\"type\":\"StringEditor\"},{\"attributes\":{\"data\":{\"Algorithm\":[\"Scrypt\",\"Scrypt\",\"X13\",\"SHA-256\",\"Scrypt\",\"X11\",\"Ethash\",\"Equihash\",\"SHA-512\",\"Multiple\",\"SHA-256\",\"SHA-256\",\"Scrypt\",\"X15\",\"X11\",\"Scrypt\",\"Scrypt\",\"Multiple\",\"Scrypt\",\"SHA-256\",\"Scrypt\",\"Scrypt\",\"Quark\",\"Groestl\",\"Scrypt\",\"Scrypt\",\"Scrypt\",\"Scrypt\",\"Scrypt\",\"X11\",\"Scrypt\",\"Groestl\",\"Multiple\",\"SHA-256\",\"Scrypt\",\"Scrypt\",\"Scrypt\",\"Scrypt\",\"Scrypt\",\"NeoScrypt\",\"Scrypt\",\"Scrypt\",\"Scrypt\",\"Scrypt\",\"Scrypt\",\"X11\",\"SHA-256\",\"Scrypt\",\"Scrypt\",\"Scrypt\",\"SHA3\",\"Scrypt\",\"HybridScryptHash256\",\"Scrypt\",\"SHA-256\",\"Scrypt\",\"Scrypt\",\"SHA-256\",\"Scrypt\",\"NeoScrypt\",\"Scrypt\",\"Scrypt\",\"Scrypt\",\"Scrypt\",\"Scrypt\",\"X11\",\"SHA-256\",\"Multiple\",\"SHA-256\",\"PHI1612\",\"X11\",\"SHA-256\",\"SHA-256\",\"SHA-256\",\"Scrypt\",\"Scrypt\",\"Scrypt\",\"Lyra2REv2\",\"Scrypt\",\"X11\",\"SHA-256\",\"Scrypt\",\"CryptoNight\",\"CryptoNight\",\"Shabal256\",\"Counterparty\",\"Scrypt\",\"SHA-256\",\"Scrypt\",\"Scrypt\",\"X13\",\"Scrypt\",\"Scrypt\",\"Scrypt\",\"X13\",\"Scrypt\",\"Stanford Folding\",\"X11\",\"Scrypt\",\"Scrypt\",\"Scrypt\",\"M7 POW\",\"Scrypt\",\"SHA-256\",\"Scrypt\",\"SHA3\",\"X11\",\"Lyra2RE\",\"SHA-256\",\"QUAIT\",\"X11\",\"Scrypt\",\"Scrypt\",\"Scrypt\",\"Ethash\",\"X13\",\"SHA-256\",\"X15\",\"X11\",\"SHA-256\",\"BLAKE256\",\"Scrypt\",\"1GB AES Pattern Search\",\"SHA-256\",\"X11\",\"Scrypt\",\"SHA-256\",\"SHA-256\",\"Scrypt\",\"Scrypt\",\"X11\",\"Dagger\",\"Scrypt\",\"X11GOST\",\"X11\",\"Scrypt\",\"SHA-256\",\"Scrypt\",\"PoS\",\"Scrypt\",\"X11\",\"X11\",\"SHA-256\",\"SHA-256\",\"NIST5\",\"X11\",\"Scrypt\",\"POS 3.0\",\"Scrypt\",\"Scrypt\",\"Scrypt\",\"X13\",\"X11\",\"X11\",\"Equihash\",\"X11\",\"Scrypt\",\"CryptoNight\",\"SHA-256\",\"SHA-256\",\"X11\",\"Scrypt\",\"Multiple\",\"Scrypt\",\"SHA-256\",\"Scrypt\",\"Scrypt\",\"SHA-256D\",\"PoS\",\"X11\",\"Lyra2Z\",\"PoS\",\"X13\",\"X14\",\"PoS\",\"SHA-256D\",\"Ethash\",\"Equihash\",\"DPoS\",\"X11\",\"Scrypt\",\"X11\",\"X13\",\"X11\",\"PoS\",\"Scrypt\",\"Scrypt\",\"X11\",\"PoS\",\"X11\",\"SHA-256\",\"Scrypt\",\"X11\",\"Scrypt\",\"Scrypt\",\"X11\",\"CryptoNight\",\"Scrypt\",\"Scrypt\",\"Scrypt\",\"Scrypt\",\"Quark\",\"QuBit\",\"Scrypt\",\"CryptoNight\",\"Lyra2RE\",\"Scrypt\",\"SHA-256\",\"X11\",\"Scrypt\",\"X11\",\"Scrypt\",\"CryptoNight-V7\",\"Scrypt\",\"Scrypt\",\"Scrypt\",\"X13\",\"X11\",\"Equihash\",\"Scrypt\",\"Scrypt\",\"Lyra2RE\",\"Scrypt\",\"Dagger-Hashimoto\",\"X11\",\"Blake2S\",\"X11\",\"Scrypt\",\"PoS\",\"X11\",\"NIST5\",\"PoS\",\"X11\",\"Scrypt\",\"Scrypt\",\"Scrypt\",\"SHA-256\",\"X11\",\"Scrypt\",\"Scrypt\",\"SHA-256\",\"PoS\",\"Scrypt\",\"X15\",\"SHA-256\",\"Scrypt\",\"POS 3.0\",\"CryptoNight-V7\",\"536\",\"Blake2b\",\"Cloverhash\",\"CryptoNight\",\"NIST5\",\"X11\",\"NIST5\",\"Skein\",\"Scrypt\",\"X13\",\"Scrypt\",\"X11\",\"X11\",\"Scrypt\",\"CryptoNight\",\"X13\",\"Time Travel\",\"Scrypt\",\"Keccak\",\"SkunkHash v2 Raptor\",\"X11\",\"Skein\",\"SHA-256\",\"X11\",\"Scrypt\",\"VeChainThor Authority\",\"Scrypt\",\"PoS\",\"Scrypt\",\"Scrypt\",\"Scrypt\",\"Scrypt\",\"Scrypt\",\"Scrypt\",\"CryptoNight\",\"SHA-512\",\"Ouroboros\",\"X11\",\"Equihash\",\"NeoScrypt\",\"X11\",\"Scrypt\",\"NeoScrypt\",\"Lyra2REv2\",\"Equihash\",\"Scrypt\",\"SHA-256\",\"NIST5\",\"PHI1612\",\"Dagger\",\"Scrypt\",\"Quark\",\"Scrypt\",\"POS 2.0\",\"Scrypt\",\"SHA-256\",\"X11\",\"NeoScrypt\",\"Ethash\",\"NeoScrypt\",\"X11\",\"DPoS\",\"NIST5\",\"X13\",\"Multiple\",\"Scrypt\",\"CryptoNight\",\"CryptoNight\",\"Ethash\",\"NIST5\",\"Quark\",\"X11\",\"CryptoNight-V7\",\"Scrypt\",\"Scrypt\",\"Scrypt\",\"X11\",\"BLAKE256\",\"X11\",\"NeoScrypt\",\"Quark\",\"NeoScrypt\",\"Scrypt\",\"Scrypt\",\"Scrypt\",\"X11\",\"X11\",\"SHA-256\",\"C11\",\"POS 3.0\",\"Ethash\",\"Scrypt\",\"CryptoNight\",\"SkunkHash\",\"Scrypt\",\"CryptoNight\",\"Scrypt\",\"Dagger\",\"Lyra2REv2\",\"X13\",\"Proof-of-BibleHash\",\"SHA-256 + Hive\",\"Scrypt\",\"Scrypt\",\"X11\",\"C11\",\"Proof-of-Authority\",\"X11\",\"XEVAN\",\"Scrypt\",\"VBFT\",\"Ethash\",\"CryptoNight\",\"Scrypt\",\"IMesh\",\"NIST5\",\"Scrypt\",\"Scrypt\",\"Equihash\",\"Scrypt\",\"Lyra2Z\",\"Green Protocol\",\"PoS\",\"Scrypt\",\"Semux BFT consensus\",\"X11\",\"Quark\",\"PoS\",\"CryptoNight\",\"X16R\",\"Scrypt\",\"NIST5\",\"Lyra2RE\",\"XEVAN\",\"Tribus\",\"Scrypt\",\"Lyra2Z\",\"CryptoNight\",\"CryptoNight Heavy\",\"CryptoNight\",\"Scrypt\",\"Scrypt\",\"Jump Consistent Hash\",\"SHA-256D\",\"CryptoNight\",\"Scrypt\",\"X15\",\"Scrypt\",\"Quark\",\"SHA-256\",\"DPoS\",\"X16R\",\"HMQ1725\",\"X11\",\"X16R\",\"Quark\",\"Quark\",\"Scrypt\",\"Lyra2REv2\",\"Quark\",\"Scrypt\",\"Scrypt\",\"CryptoNight-V7\",\"Cryptonight-GPU\",\"XEVAN\",\"CryptoNight Heavy\",\"X11\",\"X11\",\"Scrypt\",\"PoS\",\"SHA-256\",\"Keccak\",\"X11\",\"X11\",\"Scrypt\",\"SHA-512\",\"X16R\",\"ECC 256K1\",\"Equihash\",\"XEVAN\",\"Lyra2Z\",\"SHA-256\",\"XEVAN\",\"CryptoNight\",\"Quark\",\"Blake\",\"Blake\",\"Equihash\",\"Exosis\",\"Scrypt\",\"Scrypt\",\"Equihash\",\"Quark\",\"Equihash\",\"Quark\",\"Scrypt\",\"QuBit\",\"X11\",\"Scrypt\",\"XEVAN\",\"SHA-256D\",\"X11\",\"SHA-256\",\"X13\",\"SHA-256\",\"X11\",\"DPoS\",\"Scrypt\",\"Scrypt\",\"NeoScrypt\",\"Scrypt\",\"Blake\",\"Scrypt\",\"SHA-256\",\"X11\",\"Scrypt\",\"Scrypt\",\"SHA-256\",\"X11\",\"SHA-256\",\"Scrypt\",\"Scrypt\",\"Scrypt\",\"Groestl\",\"X11\",\"Scrypt\",\"PoS\",\"Scrypt\",\"Scrypt\",\"X11\",\"SHA-256\",\"DPoS\",\"Scrypt\",\"Scrypt\",\"NeoScrypt\",\"SHA3-256\",\"Multiple\",\"X13\",\"Equihash+Scrypt\",\"Ethash\",\"SHA-256\",\"Leased POS\",\"PoS\",\"TRC10\",\"PoS\",\"SHA-256\",\"Scrypt\",\"CryptoNight\",\"Equihash\",\"Scrypt\"],\"Class\":{\"__ndarray__\":\"AwAAAAMAAAADAAAAAAAAAAAAAAADAAAAAAAAAAAAAAADAAAAAAAAAAMAAAADAAAAAAAAAAMAAAAAAAAAAAAAAAMAAAAAAAAAAAAAAAAAAAAAAAAAAAAAAAAAAAAAAAAAAAAAAAMAAAAAAAAAAwAAAAAAAAAAAAAAAwAAAAMAAAAAAAAAAAAAAAAAAAAAAAAAAAAAAAAAAAAAAAAAAAAAAAAAAAAAAAAAAAAAAAMAAAAAAAAAAwAAAAAAAAAAAAAAAAAAAAAAAAADAAAAAAAAAAAAAAAAAAAAAwAAAAMAAAAAAAAAAAAAAAAAAAADAAAAAwAAAAMAAAAAAAAAAAAAAAAAAAADAAAAAAAAAAMAAAAAAAAAAwAAAAMAAAAAAAAAAAAAAAAAAAADAAAAAwAAAAAAAAAAAAAAAAAAAAMAAAAAAAAAAwAAAAAAAAAAAAAAAwAAAAMAAAAAAAAAAwAAAAAAAAAAAAAAAwAAAAAAAAADAAAAAAAAAAMAAAAAAAAAAAAAAAMAAAAAAAAAAwAAAAAAAAAAAAAAAAAAAAAAAAAAAAAAAwAAAAAAAAAAAAAAAAAAAAMAAAAAAAAAAAAAAAAAAAADAAAAAAAAAAMAAAADAAAAAwAAAAAAAAAAAAAAAwAAAAAAAAAAAAAAAwAAAAMAAAAAAAAAAwAAAAAAAAADAAAAAwAAAAAAAAAAAAAAAAAAAAAAAAADAAAAAwAAAAMAAAADAAAAAwAAAAAAAAAAAAAAAwAAAAMAAAADAAAAAwAAAAMAAAAAAAAAAwAAAAMAAAADAAAAAwAAAAMAAAAAAAAAAwAAAAMAAAADAAAAAwAAAAAAAAADAAAAAAAAAAMAAAADAAAAAAAAAAAAAAAAAAAAAwAAAAAAAAADAAAAAwAAAAMAAAAAAAAAAwAAAAMAAAADAAAAAwAAAAMAAAAAAAAAAAAAAAMAAAADAAAAAAAAAAAAAAADAAAAAwAAAAMAAAADAAAAAwAAAAAAAAADAAAAAwAAAAMAAAADAAAAAwAAAAMAAAADAAAAAwAAAAAAAAADAAAAAwAAAAMAAAADAAAAAwAAAAMAAAAAAAAAAAAAAAAAAAADAAAAAwAAAAMAAAADAAAAAAAAAAMAAAAAAAAAAwAAAAMAAAAAAAAAAwAAAAAAAAAAAAAAAwAAAAAAAAAAAAAAAwAAAAAAAAADAAAAAwAAAAMAAAAAAAAAAwAAAAMAAAAAAAAAAwAAAAMAAAADAAAAAwAAAAMAAAADAAAAAwAAAAAAAAADAAAAAAAAAAMAAAADAAAAAwAAAAMAAAAAAAAAAwAAAAAAAAADAAAAAAAAAAAAAAAAAAAAAwAAAAAAAAADAAAAAwAAAAAAAAADAAAAAAAAAAAAAAAAAAAAAwAAAAAAAAADAAAAAAAAAAAAAAAAAAAAAwAAAAAAAAADAAAAAAAAAAMAAAADAAAAAwAAAAAAAAADAAAAAAAAAAAAAAAAAAAAAAAAAAMAAAADAAAAAAAAAAMAAAADAAAAAwAAAAAAAAADAAAAAAAAAAMAAAAAAAAAAwAAAAAAAAADAAAAAwAAAAMAAAADAAAAAAAAAAMAAAADAAAAAAAAAAMAAAADAAAAAwAAAAAAAAAAAAAAAAAAAAAAAAADAAAAAwAAAAMAAAADAAAAAAAAAAMAAAAAAAAAAAAAAAAAAAADAAAAAwAAAAAAAAAAAAAAAwAAAAMAAAAAAAAAAwAAAAAAAAAAAAAAAAAAAAMAAAAAAAAAAAAAAAMAAAADAAAAAwAAAAAAAAAAAAAAAAAAAAMAAAADAAAAAwAAAAIAAAAAAAAAAwAAAAAAAAAAAAAAAAAAAAAAAAADAAAAAwAAAAMAAAAAAAAAAAAAAAAAAAADAAAAAwAAAAMAAAADAAAAAwAAAAMAAAAAAAAAAAAAAAAAAAAAAAAAAwAAAAMAAAADAAAAAAAAAAMAAAAAAAAAAwAAAAMAAAADAAAAAwAAAAAAAAADAAAAAwAAAAAAAAADAAAAAwAAAAAAAAAAAAAAAwAAAAAAAAADAAAAAAAAAAAAAAAAAAAAAAAAAAMAAAADAAAAAAAAAAMAAAAAAAAAAwAAAAMAAAADAAAAAwAAAAMAAAADAAAAAAAAAAAAAAAAAAAAAwAAAAMAAAADAAAAAwAAAAMAAAADAAAAAAAAAAMAAAAAAAAAAAAAAAAAAAAAAAAAAwAAAAMAAAADAAAAAwAAAAAAAAADAAAAAwAAAAAAAAADAAAAAwAAAAAAAAADAAAAAAAAAAMAAAAAAAAAAAAAAAMAAAAAAAAAAwAAAAAAAAAAAAAAAwAAAAAAAAAAAAAAAwAAAAAAAAADAAAAAAAAAAMAAAADAAAAAAAAAAMAAAADAAAAAwAAAAMAAAADAAAAAAAAAAAAAAAAAAAAAwAAAAMAAAADAAAAAAAAAAAAAAADAAAAAAAAAAMAAAADAAAAAwAAAAAAAAADAAAAAwAAAAMAAAAAAAAAAwAAAAAAAAADAAAAAAAAAAMAAAADAAAAAwAAAAAAAAAAAAAAAwAAAAMAAAADAAAAAwAAAAMAAAADAAAAAwAAAAAAAAADAAAAAAAAAAAAAAADAAAAAwAAAAMAAAABAAAAAwAAAAMAAAADAAAAAAAAAAAAAAADAAAA\",\"dtype\":\"int32\",\"order\":\"little\",\"shape\":[498]},\"CoinName\":[\"42 Coin\",\"404Coin\",\"EliteCoin\",\"Bitcoin\",\"Litecoin\",\"Dash\",\"Ethereum Classic\",\"ZCash\",\"Bitshares\",\"DigiByte\",\"BitcoinDark\",\"PayCoin\",\"ProsperCoin\",\"KoboCoin\",\"Spreadcoin\",\"Argentum\",\"Aurora Coin\",\"MyriadCoin\",\"MoonCoin\",\"ZetaCoin\",\"SexCoin\",\"Quatloo\",\"QuarkCoin\",\"Riecoin\",\"Digitalcoin \",\"BitBar\",\"Catcoin\",\"CryptoBullion\",\"CannaCoin\",\"CryptCoin\",\"CasinoCoin\",\"Diamond\",\"Verge\",\"DevCoin\",\"EarthCoin\",\"E-Gulden\",\"Einsteinium\",\"Emerald\",\"Franko\",\"FeatherCoin\",\"GrandCoin\",\"GlobalCoin\",\"GoldCoin\",\"HoboNickels\",\"Infinite Coin\",\"IOCoin\",\"IXcoin\",\"KrugerCoin\",\"LuckyCoin\",\"Litebar \",\"MaxCoin\",\"MegaCoin\",\"MediterraneanCoin\",\"MinCoin\",\"MazaCoin\",\"Nautilus Coin\",\"NobleCoin\",\"Namecoin\",\"NyanCoin\",\"Orbitcoin\",\"PotCoin\",\"PhoenixCoin\",\"RonPaulCoin\",\"StableCoin\",\"SmartCoin\",\"SyncCoin\",\"SysCoin\",\"TeslaCoin\",\"TigerCoin\",\"TittieCoin\",\"TorCoin\",\"TerraCoin\",\"UnbreakableCoin\",\"Unobtanium\",\"UnitaryStatus Dollar\",\"UltraCoin\",\"ViaCoin\",\"Vertcoin\",\"WorldCoin\",\"X11 Coin\",\"JouleCoin\",\"ZCC Coin\",\"ByteCoin\",\"DigitalNote \",\"BurstCoin\",\"StorjCoin\",\"MonaCoin\",\"Neutron\",\"Gulden\",\"PesetaCoin\",\"Kore\",\"Wild Beast Coin\",\"Dnotes\",\"Flo\",\"Sativa Coin\",\"ArtByte\",\"Folding Coin\",\"Ucoin\",\"OmniCron\",\"Vtorrent\",\"GreenCoin\",\"Cryptonite\",\"MasterCoin\",\"SoonCoin\",\"1Credit\",\"Nexus\",\"MarsCoin \",\"Crypto\",\"Anarchists Prime\",\"Droidz\",\"BowsCoin\",\"Song Coin\",\"BitZeny\",\"Diggits\",\"Expanse\",\"Paycon\",\"Emercoin\",\"EverGreenCoin\",\"MindCoin\",\"I0coin\",\"Decred\",\"Revolution VR\",\"HOdlcoin\",\"EDRCoin\",\"Hitcoin\",\"Gamecredits\",\"DubaiCoin\",\"CarpeDiemCoin\",\"BillaryCoin\",\"GPU Coin\",\"Adzcoin\",\"SoilCoin\",\"YoCoin\",\"SibCoin\",\"EuropeCoin\",\"ZeitCoin\",\"SwingCoin\",\"SafeExchangeCoin\",\"Nebuchadnezzar\",\"Francs\",\"BolivarCoin\",\"Ratecoin\",\"Revenu\",\"Clockcoin\",\"VIP Tokens\",\"BitSend\",\"Omni\",\"Let it Ride\",\"PutinCoin\",\"iBankCoin\",\"Frankywillcoin\",\"MudraCoin\",\"PizzaCoin\",\"Lutetium Coin\",\"Komodo\",\"GoldBlocks\",\"CarterCoin\",\"Karbo\",\"BitTokens\",\"ZayedCoin\",\"MustangCoin\",\"ZoneCoin\",\"Circuits of Value\",\"DopeCoin\",\"DollarCoin\",\"Swiscoin\",\"Shilling\",\"BuzzCoin\",\"Opair\",\"Halloween Coin\",\"ZCoin\",\"CoffeeCoin\",\"RoyalCoin\",\"GanjaCoin V2\",\"TeamUP\",\"LanaCoin\",\"Elementrem\",\"ZClassic\",\"ARK\",\"InsaneCoin\",\"KiloCoin\",\"ArtexCoin\",\"EmberCoin\",\"XenixCoin\",\"FreeCoin\",\"PLNCoin\",\"AquariusCoin\",\"Kurrent\",\"Creatio\",\"Eternity\",\"Eurocoin\",\"BitcoinFast\",\"Stakenet\",\"BitConnect Coin\",\"MoneyCoin\",\"Enigma\",\"Cannabis Industry Coin\",\"Russiacoin\",\"PandaCoin\",\"GameUnits\",\"GAKHcoin\",\"Allsafe\",\"LiteCreed\",\"OsmiumCoin\",\"Bikercoins\",\"HexxCoin\",\"Klingon Empire Darsek\",\"Internet of People\",\"KushCoin\",\"Printerium\",\"PacCoin\",\"Impeach\",\"Citadel\",\"Zilbercoin\",\"FirstCoin\",\"BeaverCoin\",\"FindCoin\",\"VaultCoin\",\"Zero\",\"OpenChat\",\"Canada eCoin\",\"Zoin\",\"RenosCoin\",\"DubaiCoin\",\"VirtacoinPlus\",\"TajCoin\",\"Impact\",\"EB3coin\",\"Atmos\",\"HappyCoin\",\"Coinonat\",\"MacronCoin\",\"Condensate\",\"Independent Money System\",\"ArgusCoin\",\"LomoCoin\",\"ProCurrency\",\"GoldReserve\",\"BenjiRolls\",\"GrowthCoin\",\"ILCoin\",\"Phreak\",\"Degas Coin\",\"HTML5 Coin\",\"Ultimate Secure Cash\",\"EquiTrader\",\"QTUM\",\"Quantum Resistant Ledger\",\"Espers\",\"Nano\",\"ChanCoin\",\"Dinastycoin\",\"Denarius\",\"DigitalPrice\",\"Virta Unique Coin\",\"Bitcoin Planet\",\"Unify\",\"BritCoin\",\"SocialCoin\",\"ArcticCoin\",\"DAS\",\"Linda\",\"LeviarCoin\",\"DeepOnion\",\"Bitcore\",\"gCn Coin\",\"SmartCash\",\"Signatum\",\"Onix\",\"Cream\",\"Bitcoin Cash\",\"Monoeci\",\"Draftcoin\",\"Vechain\",\"Sojourn Coin\",\"Stakecoin\",\"FrazCoin\",\"Kronecoin\",\"AdCoin\",\"Linx\",\"CoinonatX\",\"Ethereum Dark\",\"Sumokoin\",\"Obsidian\",\"Cardano\",\"Regalcoin\",\"BitcoinZ\",\"TrezarCoin\",\"Elements\",\"TerraNovaCoin\",\"VIVO Coin\",\"Rupee\",\"Bitcoin Gold\",\"WomenCoin\",\"Theresa May Coin\",\"NamoCoin\",\"LUXCoin\",\"Pirl\",\"Xios\",\"Bitcloud 2.0\",\"eBoost\",\"KekCoin\",\"BlackholeCoin\",\"Infinity Economics\",\"Pura\",\"Innova\",\"Ellaism\",\"GoByte\",\"Magnet\",\"Lamden Tau\",\"Electra\",\"Bitcoin Diamond\",\"SHIELD\",\"Cash & Back Coin\",\"UltraNote\",\"BitCoal\",\"DaxxCoin\",\"Bulwark\",\"Kalkulus\",\"AC3\",\"Lethean\",\"GermanCoin\",\"LiteCoin Ultra\",\"PopularCoin\",\"PhantomX\",\"Photon\",\"Sucre\",\"SparksPay\",\"Digiwage\",\"GunCoin\",\"IrishCoin\",\"Trollcoin\",\"Litecoin Plus\",\"Monkey Project\",\"Pioneer Coin\",\"UnitedBitcoin\",\"Interzone\",\"TokenPay\",\"1717 Masonic Commemorative Token\",\"My Big Coin\",\"TurtleCoin\",\"MUNcoin\",\"Unified Society USDEX\",\"Niobio Cash\",\"ShareChain\",\"Travelflex\",\"KREDS\",\"Tokyo Coin\",\"BiblePay\",\"LitecoinCash\",\"BitFlip\",\"LottoCoin\",\"Crypto Improvement Fund\",\"Stipend\",\"Poa Network\",\"Pushi\",\"Ellerium\",\"Velox\",\"Ontology\",\"Callisto Network\",\"BitTube\",\"Poseidon\",\"Aidos Kuneen\",\"Bitspace\",\"Briacoin\",\"Ignition\",\"Bitrolium\",\"MedicCoin\",\"Alpenschillling\",\"Bitcoin Green\",\"Deviant Coin\",\"Abjcoin\",\"Semux\",\"FuturoCoin\",\"Carebit\",\"Zealium\",\"Monero Classic\",\"Proton\",\"iDealCash\",\"Jumpcoin\",\"Infinex\",\"Bitcoin Incognito\",\"KEYCO\",\"HollyWoodCoin\",\"GINcoin\",\"PlatinCoin\",\"Loki\",\"Newton Coin\",\"Swisscoin\",\"Xt3ch\",\"MassGrid\",\"TheVig\",\"PluraCoin\",\"EmaratCoin\",\"Dekado\",\"Lynx\",\"Poseidon Quark\",\"BitcoinWSpectrum\",\"Muse\",\"Motion\",\"PlusOneCoin\",\"Axe\",\"Trivechain\",\"Dystem\",\"Giant\",\"Peony Coin\",\"Absolute Coin\",\"Vitae\",\"HexCoin\",\"TPCash\",\"Webchain\",\"Ryo\",\"Urals Coin\",\"Qwertycoin\",\"ARENON\",\"EUNO\",\"MMOCoin\",\"Ketan\",\"Project Pai\",\"XDNA\",\"PAXEX\",\"Azart\",\"ThunderStake\",\"Kcash\",\"Xchange\",\"Acute Angle Cloud\",\"CrypticCoin\",\"Bettex coin\",\"Actinium\",\"Bitcoin SV\",\"BitMoney\",\"FREDEnergy\",\"HerbCoin\",\"Universal Molecule\",\"Lithium\",\"PirateCash\",\"Exosis\",\"Block-Logic\",\"Oduwa\",\"Beam\",\"Galilel\",\"Bithereum\",\"Crypto Sports\",\"Credit\",\"SLICE\",\"Dash Platinum\",\"Nasdacoin\",\"Beetle Coin\",\"Titan Coin\",\"Award\",\"BLAST\",\"Bitcoin Rhodium\",\"GlobalToken\",\"Insane Coin\",\"ALAX\",\"LiteDoge\",\"SolarCoin\",\"UFO Coin\",\"OrangeCoin\",\"BlakeCoin\",\"BitstarCoin\",\"NeosCoin\",\"PinkCoin\",\"Crypto Escudo\",\"AudioCoin\",\"IncaKoin\",\"Piggy Coin\",\"Crown Coin\",\"Genstake\",\"SmileyCoin\",\"XiaoMiCoin\",\"Groestlcoin\",\"CapriCoin\",\" ClubCoin\",\"Radium\",\"Bata\",\"Pakcoin\",\"Creditbit \",\"OKCash\",\"Lisk\",\"HiCoin\",\"WhiteCoin\",\"FriendshipCoin\",\"Fiii\",\"JoinCoin\",\"Triangles Coin\",\"Vollar\",\"Reality Clash\",\"TigerCash\",\"Waves\",\"Particl\",\"BitTorrent\",\"Nxt\",\"ZEPHYR\",\"Gapcoin\",\"Beldex\",\"Horizen\",\"BitcoinPlus\"],\"ProofType\":[\"PoW/PoS\",\"PoW/PoS\",\"PoW/PoS\",\"PoW\",\"PoW\",\"PoW/PoS\",\"PoW\",\"PoW\",\"PoS\",\"PoW\",\"PoW/PoS\",\"PoS\",\"PoW\",\"PoW/PoS\",\"PoW\",\"PoW\",\"PoW/PoS\",\"PoW\",\"PoW\",\"PoW\",\"PoW\",\"PoW\",\"PoW\",\"PoW\",\"PoW\",\"PoW/PoS\",\"PoW\",\"PoW/PoS\",\"PoW\",\"PoW\",\"PoC\",\"PoW/PoS\",\"PoW\",\"PoW\",\"PoW\",\"PoW\",\"PoW\",\"PoW\",\"PoW\",\"PoW\",\"PoW\",\"PoW\",\"PoW\",\"PoW/PoS\",\"PoW\",\"PoW/PoS\",\"PoW\",\"PoW\",\"PoW\",\"PoW\",\"PoW/PoS\",\"PoW\",\"PoW\",\"PoW\",\"PoW/PoS\",\"PoS\",\"PoW\",\"PoW\",\"PoW\",\"PoW/PoS\",\"PoW/PoS\",\"PoW/PoS\",\"PoW\",\"PoW\",\"PoW\",\"PoW/PoS\",\"PoW\",\"PoS\",\"PoW\",\"PoS\",\"PoW/PoS\",\"PoW\",\"PoW\",\"PoW\",\"PoW/PoS\",\"PoW/PoS\",\"PoW\",\"PoW\",\"PoW\",\"PoW/PoS\",\"PoW\",\"PoW/PoS\",\"PoW\",\"PoW\",\"PoC\",\"PoS\",\"PoW\",\"PoW/PoS\",\"PoW\",\"PoW\",\"PoW/PoS\",\"PoW\",\"PoS\",\"PoW\",\"PoW/PoS\",\"PoW\",\"PoW\",\"PoS\",\"PoW\",\"PoW/PoS\",\"PoW\",\"PoW\",\"PoW\",\"PoW\",\"PoW\",\"PoW/nPoS\",\"PoW\",\"PoW\",\"PoW\",\"PoW/PoS\",\"PoW\",\"PoW\",\"PoW\",\"PoS\",\"PoW\",\"PoW/PoS\",\"PoW/PoS\",\"PoW/PoS\",\"PoW\",\"PoW\",\"PoW/PoS\",\"PoW\",\"PoW\",\"PoW/PoS\",\"PoW/PoS\",\"PoW\",\"PoW/PoS\",\"PoW\",\"PoW/PoS\",\"PoS\",\"PoW\",\"PoW\",\"PoW\",\"PoW\",\"PoW/PoS\",\"PoS\",\"PoW/PoS\",\"PoC\",\"PoS\",\"PoW\",\"PoW\",\"PoW/PoS\",\"PoW/PoS\",\"PoW/PoS\",\"PoW/PoS\",\"PoW/PoS\",\"PoW\",\"PoS\",\"PoW/PoS\",\"PoW/PoS\",\"PoW/PoS\",\"PoS\",\"PoW\",\"PoS\",\"dPoW/PoW\",\"PoW/PoS\",\"PoW/PoS\",\"PoW\",\"PoW/PoS\",\"PoW\",\"PoW/PoS\",\"PoW/PoS\",\"PoW\",\"PoW\",\"PoW\",\"PoW/PoW\",\"PoW\",\"PoW/PoS\",\"PoS\",\"PoW/PoS\",\"PoW\",\"PoS\",\"PoS\",\"PoW/PoS\",\"PoS\",\"PoW/PoS\",\"PoW\",\"PoW\",\"DPoS\",\"PoW/PoS\",\"PoW\",\"PoW\",\"PoW/PoS\",\"PoW/PoS\",\"PoS\",\"PoW/PoS\",\"PoW/PoS\",\"PoW\",\"PoS\",\"PoW/PoS\",\"PoW/PoS\",\"PoW/PoS\",\"TPoS\",\"PoW/PoS\",\"PoW/PoS\",\"PoW/PoS\",\"PoW\",\"PoW/PoS\",\"PoS\",\"PoW/PoS\",\"PoW/PoS\",\"PoS\",\"PoW/PoS\",\"PoW\",\"PoW\",\"PoW\",\"PoW/PoS\",\"PoW/PoS\",\"PoW/PoS\",\"PoW/PoS\",\"PoW\",\"PoW/PoS\",\"PoW\",\"PoS\",\"PoW/PoS \",\"PoW\",\"PoS\",\"PoW\",\"PoW\",\"PoW/PoS\",\"PoW\",\"PoW\",\"PoS\",\"PoW\",\"PoW/PoS\",\"PoW/PoS\",\"PoW/PoS\",\"PoW\",\"PoS\",\"PoW/PoS\",\"PoW\",\"PoS\",\"PoW/PoS\",\"PoW/PoS\",\"PoW/PoS\",\"PoW/PoS\",\"PoS\",\"PoW/PoS\",\"PoW\",\"PoS\",\"PoW\",\"PoS\",\"PoW/PoS\",\"PoW/PoS\",\"PoS\",\"PoW\",\"PoS\",\"PoW\",\"PoW/PoS\",\"PoW\",\"PoW\",\"PoW\",\"PoW/PoS\",\"PoW\",\"PoW/PoS\",\"PoW/PoS\",\"PoW\",\"PoW/PoS\",\"PoW\",\"PoW\",\"PoW\",\"PoW/PoS\",\"PoW\",\"PoW/PoS\",\"PoW\",\"PoW\",\"PoW\",\"PoS\",\"PoW\",\"PoW/PoS\",\"PoW\",\"PoW/PoS\",\"PoS\",\"Proof of Authority\",\"PoW\",\"PoS\",\"PoW\",\"PoW\",\"PoW\",\"PoW\",\"PoW/PoS\",\"PoW/PoS\",\"PoW\",\"PoS\",\"PoS\",\"PoW/PoS\",\"PoW\",\"PoW/PoS\",\"PoW\",\"PoW/PoS\",\"PoW\",\"PoS\",\"PoW\",\"PoW/PoS\",\"PoW/PoS\",\"PoW/PoS\",\"PoW/PoS\",\"PoW\",\"PoW/PoS\",\"PoW/PoS\",\"PoW\",\"PoS\",\"PoW/PoS\",\"PoS\",\"PoW\",\"PoW\",\"PoW\",\"PoW\",\"PoW/PoS\",\"DPoS\",\"PoW/PoS\",\"PoW/PoS\",\"PoW\",\"PoW/PoS\",\"PoW\",\"PoW\",\"PoW\",\"PoS\",\"PoS\",\"PoW\",\"PoW\",\"PoW/PoS\",\"PoW/PoS\",\"PoW\",\"PoW/PoS\",\"PoW\",\"PoW\",\"PoW\",\"PoS\",\"PoW\",\"PoW\",\"PoW/PoS\",\"PoW/PoS\",\"PoS\",\"PoW\",\"PoW\",\"PoW\",\"PoS\",\"PoS\",\"PoW and PoS\",\"PoW\",\"PoW\",\"PoW/PoS\",\"PoW\",\"PoW\",\"PoW\",\"PoW\",\"PoS\",\"POBh\",\"PoW + Hive\",\"PoW\",\"PoW\",\"PoW\",\"PoW/PoS\",\"PoA\",\"PoW/PoS\",\"PoW/PoS\",\"PoS\",\"PoS\",\"PoW\",\"PoW\",\"PoW\",\"PoW\",\"PoW/PoS\",\"PoW/PoS\",\"PoW/PoS\",\"PoW\",\"PoS\",\"PoW\",\"PoS\",\"PoS\",\"PoW/PoS\",\"DPoS\",\"PoW\",\"PoW/PoS\",\"PoS\",\"PoW\",\"PoS\",\"PoW/PoS\",\"PoW\",\"PoW\",\"PoS/PoW\",\"PoW\",\"PoS\",\"PoW\",\"PoW\",\"PoW\",\"PoW\",\"PoW/PoS\",\"PoS\",\"PoW\",\"PoW/PoS\",\"PoW\",\"PoW/PoS\",\"PoS\",\"HPoW\",\"PoS\",\"PoS\",\"PoS\",\"PoW\",\"PoW\",\"PoW\",\"PoW/PoS\",\"PoS\",\"PoW/PoS\",\"PoS\",\"PoW/PoS\",\"PoS\",\"PoW\",\"PoW/PoS\",\"PoW\",\"PoW\",\"PoW\",\"PoW\",\"PoS\",\"PoW/PoS\",\"PoS\",\"PoS\",\"PoW\",\"PoW/PoS\",\"PoS\",\"PoW\",\"PoW/PoS\",\"Zero-Knowledge Proof\",\"PoW\",\"DPOS\",\"PoW\",\"PoS\",\"PoW\",\"PoW\",\"Pos\",\"PoW\",\"PoW/PoS\",\"PoW\",\"PoW\",\"PoS\",\"PoW\",\"PoW\",\"PoW/PoS\",\"PoW\",\"PoW/PoS\",\"PoW\",\"PoS\",\"PoW/PoS\",\"PoW\",\"PoS\",\"PoW/PoS\",\"PoW/PoS\",\"PoW/PoS\",\"PoW/PoS\",\"PoW\",\"PoW\",\"PoW\",\"PoW/PoS\",\"DPoS\",\"PoW/PoS\",\"PoW\",\"PoW\",\"PoW/PoS\",\"PoW\",\"PoW/PoS\",\"PoS\",\"PoW/PoS\",\"PoW\",\"PoW/PoS\",\"PoW/PoS\",\"PoW/PoS\",\"PoW\",\"PoW/PoS\",\"PoW\",\"PoW/PoS\",\"PoW\",\"PoW/PoS\",\"PoW/PoS\",\"PoS\",\"PoW\",\"PoW\",\"Proof of Trust\",\"PoW/PoS\",\"DPoS\",\"PoS\",\"PoW/PoS\",\"PoW/PoS\",\"DPoC\",\"PoW\",\"PoW/PoS\",\"PoW\",\"PoW\",\"PoS\",\"LPoS\",\"PoS\",\"DPoS\",\"PoS/LPoS\",\"DPoS\",\"PoW/PoS\",\"PoW\",\"PoW\",\"PoS\"],\"TotalCoinSupply\":{\"__ndarray__\":\"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\",\"dtype\":\"float64\",\"order\":\"little\",\"shape\":[498]},\"TotalCoinsMined\":{\"__ndarray__\":\"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\",\"dtype\":\"float64\",\"order\":\"little\",\"shape\":[498]}},\"selected\":{\"id\":\"1363\"},\"selection_policy\":{\"id\":\"1396\"}},\"id\":\"1362\",\"type\":\"ColumnDataSource\"},{\"attributes\":{},\"id\":\"1385\",\"type\":\"StringEditor\"},{\"attributes\":{},\"id\":\"1364\",\"type\":\"StringFormatter\"},{\"attributes\":{\"margin\":[5,5,5,5],\"name\":\"HSpacer02168\",\"sizing_mode\":\"stretch_width\"},\"id\":\"1361\",\"type\":\"Spacer\"},{\"attributes\":{\"editor\":{\"id\":\"1390\"},\"field\":\"Class\",\"formatter\":{\"id\":\"1389\"},\"title\":\"Class\"},\"id\":\"1391\",\"type\":\"TableColumn\"},{\"attributes\":{},\"id\":\"1390\",\"type\":\"IntEditor\"},{\"attributes\":{\"margin\":[5,5,5,5],\"name\":\"HSpacer02169\",\"sizing_mode\":\"stretch_width\"},\"id\":\"1400\",\"type\":\"Spacer\"},{\"attributes\":{\"source\":{\"id\":\"1362\"}},\"id\":\"1395\",\"type\":\"CDSView\"},{\"attributes\":{},\"id\":\"1374\",\"type\":\"StringFormatter\"},{\"attributes\":{\"editor\":{\"id\":\"1385\"},\"field\":\"TotalCoinsMined\",\"formatter\":{\"id\":\"1384\"},\"title\":\"TotalCoinsMined\"},\"id\":\"1386\",\"type\":\"TableColumn\"},{\"attributes\":{},\"id\":\"1363\",\"type\":\"Selection\"},{\"attributes\":{},\"id\":\"1384\",\"type\":\"StringFormatter\"},{\"attributes\":{},\"id\":\"1379\",\"type\":\"StringFormatter\"},{\"attributes\":{\"editor\":{\"id\":\"1365\"},\"field\":\"CoinName\",\"formatter\":{\"id\":\"1364\"},\"title\":\"CoinName\"},\"id\":\"1366\",\"type\":\"TableColumn\"},{\"attributes\":{},\"id\":\"1389\",\"type\":\"NumberFormatter\"},{\"attributes\":{\"editor\":{\"id\":\"1380\"},\"field\":\"TotalCoinSupply\",\"formatter\":{\"id\":\"1379\"},\"title\":\"TotalCoinSupply\"},\"id\":\"1381\",\"type\":\"TableColumn\"},{\"attributes\":{},\"id\":\"1396\",\"type\":\"UnionRenderers\"},{\"attributes\":{\"editor\":{\"id\":\"1370\"},\"field\":\"Algorithm\",\"formatter\":{\"id\":\"1369\"},\"title\":\"Algorithm\"},\"id\":\"1371\",\"type\":\"TableColumn\"},{\"attributes\":{},\"id\":\"1380\",\"type\":\"StringEditor\"}],\"root_ids\":[\"1360\"]},\"title\":\"Bokeh Application\",\"version\":\"2.1.1\"}};\n",
       "  var render_items = [{\"docid\":\"6665b024-5576-4154-9066-547101368869\",\"root_ids\":[\"1360\"],\"roots\":{\"1360\":\"4f210380-953f-4a28-8cb2-1116ef723fb9\"}}];\n",
       "  root.Bokeh.embed.embed_items_notebook(docs_json, render_items);\n",
       "  }\n",
       "if (root.Bokeh !== undefined) {\n",
       "    embed_document(root);\n",
       "  } else {\n",
       "    var attempts = 0;\n",
       "    var timer = setInterval(function(root) {\n",
       "      if (root.Bokeh !== undefined) {\n",
       "        clearInterval(timer);\n",
       "        embed_document(root);\n",
       "      } else if (document.readyState == \"complete\") {\n",
       "        attempts++;\n",
       "        if (attempts > 100) {\n",
       "          clearInterval(timer);\n",
       "          console.log(\"Bokeh: ERROR: Unable to run BokehJS code because BokehJS library is missing\");\n",
       "        }\n",
       "      }\n",
       "    }, 10, root)\n",
       "  }\n",
       "})(window);</script>"
      ],
      "text/plain": [
       ":Table   [CoinName,Algorithm,ProofType,TotalCoinSupply,TotalCoinsMined,Class]"
      ]
     },
     "execution_count": 94,
     "metadata": {
      "application/vnd.holoviews_exec.v0+json": {
       "id": "1360"
      }
     },
     "output_type": "execute_result"
    }
   ],
   "source": [
    "clustered_df.hvplot.table(columns=[\"CoinName\", \"Algorithm\", \"ProofType\", \"TotalCoinSupply\", \"TotalCoinsMined\", \"Class\"])"
   ]
  },
  {
   "cell_type": "markdown",
   "metadata": {},
   "source": [
    "#### Scatter Plot with Tradable Cryptocurrencies"
   ]
  },
  {
   "cell_type": "code",
   "execution_count": 95,
   "metadata": {},
   "outputs": [
    {
     "data": {
      "text/html": [
       "<div>\n",
       "<style scoped>\n",
       "    .dataframe tbody tr th:only-of-type {\n",
       "        vertical-align: middle;\n",
       "    }\n",
       "\n",
       "    .dataframe tbody tr th {\n",
       "        vertical-align: top;\n",
       "    }\n",
       "\n",
       "    .dataframe thead th {\n",
       "        text-align: right;\n",
       "    }\n",
       "</style>\n",
       "<table border=\"1\" class=\"dataframe\">\n",
       "  <thead>\n",
       "    <tr style=\"text-align: right;\">\n",
       "      <th></th>\n",
       "      <th>Algorithm</th>\n",
       "      <th>ProofType</th>\n",
       "      <th>TotalCoinSupply</th>\n",
       "      <th>TotalCoinsMined</th>\n",
       "      <th>PC1</th>\n",
       "      <th>PC2</th>\n",
       "      <th>PC3</th>\n",
       "      <th>CoinName</th>\n",
       "      <th>Class</th>\n",
       "    </tr>\n",
       "  </thead>\n",
       "  <tbody>\n",
       "    <tr>\n",
       "      <th>42</th>\n",
       "      <td>Scrypt</td>\n",
       "      <td>PoW/PoS</td>\n",
       "      <td>0.000000</td>\n",
       "      <td>0.005942</td>\n",
       "      <td>-0.208086</td>\n",
       "      <td>-0.793526</td>\n",
       "      <td>0.223477</td>\n",
       "      <td>42 Coin</td>\n",
       "      <td>3</td>\n",
       "    </tr>\n",
       "    <tr>\n",
       "      <th>404</th>\n",
       "      <td>Scrypt</td>\n",
       "      <td>PoW/PoS</td>\n",
       "      <td>0.000532</td>\n",
       "      <td>0.007002</td>\n",
       "      <td>-0.186751</td>\n",
       "      <td>-0.795939</td>\n",
       "      <td>0.213344</td>\n",
       "      <td>404Coin</td>\n",
       "      <td>3</td>\n",
       "    </tr>\n",
       "    <tr>\n",
       "      <th>1337</th>\n",
       "      <td>X13</td>\n",
       "      <td>PoW/PoS</td>\n",
       "      <td>0.314159</td>\n",
       "      <td>0.035342</td>\n",
       "      <td>3.418905</td>\n",
       "      <td>-0.320347</td>\n",
       "      <td>2.775380</td>\n",
       "      <td>EliteCoin</td>\n",
       "      <td>3</td>\n",
       "    </tr>\n",
       "    <tr>\n",
       "      <th>BTC</th>\n",
       "      <td>SHA-256</td>\n",
       "      <td>PoW</td>\n",
       "      <td>0.000021</td>\n",
       "      <td>0.005960</td>\n",
       "      <td>-0.181891</td>\n",
       "      <td>0.663655</td>\n",
       "      <td>-0.204139</td>\n",
       "      <td>Bitcoin</td>\n",
       "      <td>0</td>\n",
       "    </tr>\n",
       "    <tr>\n",
       "      <th>LTC</th>\n",
       "      <td>Scrypt</td>\n",
       "      <td>PoW</td>\n",
       "      <td>0.000084</td>\n",
       "      <td>0.006006</td>\n",
       "      <td>-0.180293</td>\n",
       "      <td>0.571174</td>\n",
       "      <td>-0.048350</td>\n",
       "      <td>Litecoin</td>\n",
       "      <td>0</td>\n",
       "    </tr>\n",
       "  </tbody>\n",
       "</table>\n",
       "</div>"
      ],
      "text/plain": [
       "     Algorithm ProofType  TotalCoinSupply  TotalCoinsMined       PC1  \\\n",
       "42      Scrypt   PoW/PoS         0.000000         0.005942 -0.208086   \n",
       "404     Scrypt   PoW/PoS         0.000532         0.007002 -0.186751   \n",
       "1337       X13   PoW/PoS         0.314159         0.035342  3.418905   \n",
       "BTC    SHA-256       PoW         0.000021         0.005960 -0.181891   \n",
       "LTC     Scrypt       PoW         0.000084         0.006006 -0.180293   \n",
       "\n",
       "           PC2       PC3   CoinName  Class  \n",
       "42   -0.793526  0.223477    42 Coin      3  \n",
       "404  -0.795939  0.213344    404Coin      3  \n",
       "1337 -0.320347  2.775380  EliteCoin      3  \n",
       "BTC   0.663655 -0.204139    Bitcoin      0  \n",
       "LTC   0.571174 -0.048350   Litecoin      0  "
      ]
     },
     "execution_count": 95,
     "metadata": {},
     "output_type": "execute_result"
    }
   ],
   "source": [
    "# Scaling data to create the scatter plot\n",
    "clustered_df[['TotalCoinsMined','TotalCoinSupply']]  = MinMaxScaler().fit_transform(clustered_df[['TotalCoinsMined','TotalCoinSupply']])\n",
    "clustered_df.head()"
   ]
  },
  {
   "cell_type": "code",
   "execution_count": 96,
   "metadata": {},
   "outputs": [
    {
     "data": {},
     "metadata": {},
     "output_type": "display_data"
    },
    {
     "data": {
      "application/vnd.holoviews_exec.v0+json": "",
      "text/html": [
       "<div id='1412'>\n",
       "\n",
       "\n",
       "\n",
       "\n",
       "\n",
       "  <div class=\"bk-root\" id=\"c2f3398d-b729-4a25-aceb-c815469222c3\" data-root-id=\"1412\"></div>\n",
       "</div>\n",
       "<script type=\"application/javascript\">(function(root) {\n",
       "  function embed_document(root) {\n",
       "  var docs_json = {\"4f65178e-2223-4341-8c3d-94a05177de59\":{\"roots\":{\"references\":[{\"attributes\":{\"end\":1.042857142857143,\"reset_end\":1.042857142857143,\"reset_start\":-0.04285714285714286,\"start\":-0.04285714285714286,\"tags\":[[[\"TotalCoinsMined\",\"TotalCoinsMined\",null]]]},\"id\":\"1414\",\"type\":\"Range1d\"},{\"attributes\":{},\"id\":\"1458\",\"type\":\"BasicTickFormatter\"},{\"attributes\":{\"children\":[{\"id\":\"1413\"},{\"id\":\"1417\"},{\"id\":\"1475\"}],\"margin\":[0,0,0,0],\"name\":\"Row02290\",\"tags\":[\"embedded\"]},\"id\":\"1412\",\"type\":\"Row\"},{\"attributes\":{\"axis\":{\"id\":\"1426\"},\"grid_line_color\":null,\"ticker\":null},\"id\":\"1429\",\"type\":\"Grid\"},{\"attributes\":{\"align\":null,\"below\":[{\"id\":\"1426\"}],\"center\":[{\"id\":\"1429\"},{\"id\":\"1433\"}],\"left\":[{\"id\":\"1430\"}],\"margin\":null,\"min_border_bottom\":10,\"min_border_left\":10,\"min_border_right\":10,\"min_border_top\":10,\"plot_height\":300,\"plot_width\":700,\"renderers\":[{\"id\":\"1453\"}],\"sizing_mode\":\"fixed\",\"title\":{\"id\":\"1418\"},\"toolbar\":{\"id\":\"1440\"},\"x_range\":{\"id\":\"1414\"},\"x_scale\":{\"id\":\"1422\"},\"y_range\":{\"id\":\"1415\"},\"y_scale\":{\"id\":\"1424\"}},\"id\":\"1417\",\"subtype\":\"Figure\",\"type\":\"Plot\"},{\"attributes\":{\"callback\":null,\"renderers\":[{\"id\":\"1453\"}],\"tags\":[\"hv_created\"],\"tooltips\":[[\"TotalCoinsMined\",\"@{TotalCoinsMined}\"],[\"TotalCoinSupply\",\"@{TotalCoinSupply}\"],[\"CoinName\",\"@{CoinName}\"]]},\"id\":\"1416\",\"type\":\"HoverTool\"},{\"attributes\":{},\"id\":\"1434\",\"type\":\"SaveTool\"},{\"attributes\":{},\"id\":\"1422\",\"type\":\"LinearScale\"},{\"attributes\":{\"fill_alpha\":{\"value\":0.2},\"fill_color\":{\"value\":\"#1f77b3\"},\"line_alpha\":{\"value\":0.2},\"line_color\":{\"value\":\"#1f77b3\"},\"size\":{\"units\":\"screen\",\"value\":5.477225575051661},\"x\":{\"field\":\"TotalCoinsMined\"},\"y\":{\"field\":\"TotalCoinSupply\"}},\"id\":\"1452\",\"type\":\"Scatter\"},{\"attributes\":{},\"id\":\"1436\",\"type\":\"WheelZoomTool\"},{\"attributes\":{\"source\":{\"id\":\"1447\"}},\"id\":\"1454\",\"type\":\"CDSView\"},{\"attributes\":{\"text\":\"\",\"text_color\":{\"value\":\"black\"},\"text_font_size\":{\"value\":\"12pt\"}},\"id\":\"1418\",\"type\":\"Title\"},{\"attributes\":{},\"id\":\"1438\",\"type\":\"ResetTool\"},{\"attributes\":{\"data_source\":{\"id\":\"1447\"},\"glyph\":{\"id\":\"1450\"},\"hover_glyph\":null,\"muted_glyph\":{\"id\":\"1452\"},\"nonselection_glyph\":{\"id\":\"1451\"},\"selection_glyph\":null,\"view\":{\"id\":\"1454\"}},\"id\":\"1453\",\"type\":\"GlyphRenderer\"},{\"attributes\":{\"axis\":{\"id\":\"1430\"},\"dimension\":1,\"grid_line_color\":null,\"ticker\":null},\"id\":\"1433\",\"type\":\"Grid\"},{\"attributes\":{\"fill_color\":{\"value\":\"#1f77b3\"},\"line_color\":{\"value\":\"#1f77b3\"},\"size\":{\"units\":\"screen\",\"value\":5.477225575051661},\"x\":{\"field\":\"TotalCoinsMined\"},\"y\":{\"field\":\"TotalCoinSupply\"}},\"id\":\"1450\",\"type\":\"Scatter\"},{\"attributes\":{\"data\":{\"CoinName\":[\"42 Coin\",\"404Coin\",\"EliteCoin\",\"Bitcoin\",\"Litecoin\",\"Dash\",\"Ethereum Classic\",\"ZCash\",\"Bitshares\",\"DigiByte\",\"BitcoinDark\",\"PayCoin\",\"ProsperCoin\",\"KoboCoin\",\"Spreadcoin\",\"Argentum\",\"Aurora Coin\",\"MyriadCoin\",\"MoonCoin\",\"ZetaCoin\",\"SexCoin\",\"Quatloo\",\"QuarkCoin\",\"Riecoin\",\"Digitalcoin \",\"BitBar\",\"Catcoin\",\"CryptoBullion\",\"CannaCoin\",\"CryptCoin\",\"CasinoCoin\",\"Diamond\",\"Verge\",\"DevCoin\",\"EarthCoin\",\"E-Gulden\",\"Einsteinium\",\"Emerald\",\"Franko\",\"FeatherCoin\",\"GrandCoin\",\"GlobalCoin\",\"GoldCoin\",\"HoboNickels\",\"Infinite Coin\",\"IOCoin\",\"IXcoin\",\"KrugerCoin\",\"LuckyCoin\",\"Litebar \",\"MaxCoin\",\"MegaCoin\",\"MediterraneanCoin\",\"MinCoin\",\"MazaCoin\",\"Nautilus Coin\",\"NobleCoin\",\"Namecoin\",\"NyanCoin\",\"Orbitcoin\",\"PotCoin\",\"PhoenixCoin\",\"RonPaulCoin\",\"StableCoin\",\"SmartCoin\",\"SyncCoin\",\"SysCoin\",\"TeslaCoin\",\"TigerCoin\",\"TittieCoin\",\"TorCoin\",\"TerraCoin\",\"UnbreakableCoin\",\"Unobtanium\",\"UnitaryStatus Dollar\",\"UltraCoin\",\"ViaCoin\",\"Vertcoin\",\"WorldCoin\",\"X11 Coin\",\"JouleCoin\",\"ZCC Coin\",\"ByteCoin\",\"DigitalNote \",\"BurstCoin\",\"StorjCoin\",\"MonaCoin\",\"Neutron\",\"Gulden\",\"PesetaCoin\",\"Kore\",\"Wild Beast Coin\",\"Dnotes\",\"Flo\",\"Sativa Coin\",\"ArtByte\",\"Folding Coin\",\"Ucoin\",\"OmniCron\",\"Vtorrent\",\"GreenCoin\",\"Cryptonite\",\"MasterCoin\",\"SoonCoin\",\"1Credit\",\"Nexus\",\"MarsCoin \",\"Crypto\",\"Anarchists Prime\",\"Droidz\",\"BowsCoin\",\"Song Coin\",\"BitZeny\",\"Diggits\",\"Expanse\",\"Paycon\",\"Emercoin\",\"EverGreenCoin\",\"MindCoin\",\"I0coin\",\"Decred\",\"Revolution VR\",\"HOdlcoin\",\"EDRCoin\",\"Hitcoin\",\"Gamecredits\",\"DubaiCoin\",\"CarpeDiemCoin\",\"BillaryCoin\",\"GPU Coin\",\"Adzcoin\",\"SoilCoin\",\"YoCoin\",\"SibCoin\",\"EuropeCoin\",\"ZeitCoin\",\"SwingCoin\",\"SafeExchangeCoin\",\"Nebuchadnezzar\",\"Francs\",\"BolivarCoin\",\"Ratecoin\",\"Revenu\",\"Clockcoin\",\"VIP Tokens\",\"BitSend\",\"Omni\",\"Let it Ride\",\"PutinCoin\",\"iBankCoin\",\"Frankywillcoin\",\"MudraCoin\",\"PizzaCoin\",\"Lutetium Coin\",\"Komodo\",\"GoldBlocks\",\"CarterCoin\",\"Karbo\",\"BitTokens\",\"ZayedCoin\",\"MustangCoin\",\"ZoneCoin\",\"Circuits of Value\",\"DopeCoin\",\"DollarCoin\",\"Swiscoin\",\"Shilling\",\"BuzzCoin\",\"Opair\",\"Halloween Coin\",\"ZCoin\",\"CoffeeCoin\",\"RoyalCoin\",\"GanjaCoin V2\",\"TeamUP\",\"LanaCoin\",\"Elementrem\",\"ZClassic\",\"ARK\",\"InsaneCoin\",\"KiloCoin\",\"ArtexCoin\",\"EmberCoin\",\"XenixCoin\",\"FreeCoin\",\"PLNCoin\",\"AquariusCoin\",\"Kurrent\",\"Creatio\",\"Eternity\",\"Eurocoin\",\"BitcoinFast\",\"Stakenet\",\"BitConnect Coin\",\"MoneyCoin\",\"Enigma\",\"Cannabis Industry Coin\",\"Russiacoin\",\"PandaCoin\",\"GameUnits\",\"GAKHcoin\",\"Allsafe\",\"LiteCreed\",\"OsmiumCoin\",\"Bikercoins\",\"HexxCoin\",\"Klingon Empire Darsek\",\"Internet of People\",\"KushCoin\",\"Printerium\",\"PacCoin\",\"Impeach\",\"Citadel\",\"Zilbercoin\",\"FirstCoin\",\"BeaverCoin\",\"FindCoin\",\"VaultCoin\",\"Zero\",\"OpenChat\",\"Canada eCoin\",\"Zoin\",\"RenosCoin\",\"DubaiCoin\",\"VirtacoinPlus\",\"TajCoin\",\"Impact\",\"EB3coin\",\"Atmos\",\"HappyCoin\",\"Coinonat\",\"MacronCoin\",\"Condensate\",\"Independent Money System\",\"ArgusCoin\",\"LomoCoin\",\"ProCurrency\",\"GoldReserve\",\"BenjiRolls\",\"GrowthCoin\",\"ILCoin\",\"Phreak\",\"Degas Coin\",\"HTML5 Coin\",\"Ultimate Secure Cash\",\"EquiTrader\",\"QTUM\",\"Quantum Resistant Ledger\",\"Espers\",\"Nano\",\"ChanCoin\",\"Dinastycoin\",\"Denarius\",\"DigitalPrice\",\"Virta Unique Coin\",\"Bitcoin Planet\",\"Unify\",\"BritCoin\",\"SocialCoin\",\"ArcticCoin\",\"DAS\",\"Linda\",\"LeviarCoin\",\"DeepOnion\",\"Bitcore\",\"gCn Coin\",\"SmartCash\",\"Signatum\",\"Onix\",\"Cream\",\"Bitcoin Cash\",\"Monoeci\",\"Draftcoin\",\"Vechain\",\"Sojourn Coin\",\"Stakecoin\",\"FrazCoin\",\"Kronecoin\",\"AdCoin\",\"Linx\",\"CoinonatX\",\"Ethereum Dark\",\"Sumokoin\",\"Obsidian\",\"Cardano\",\"Regalcoin\",\"BitcoinZ\",\"TrezarCoin\",\"Elements\",\"TerraNovaCoin\",\"VIVO Coin\",\"Rupee\",\"Bitcoin Gold\",\"WomenCoin\",\"Theresa May Coin\",\"NamoCoin\",\"LUXCoin\",\"Pirl\",\"Xios\",\"Bitcloud 2.0\",\"eBoost\",\"KekCoin\",\"BlackholeCoin\",\"Infinity Economics\",\"Pura\",\"Innova\",\"Ellaism\",\"GoByte\",\"Magnet\",\"Lamden Tau\",\"Electra\",\"Bitcoin Diamond\",\"SHIELD\",\"Cash & Back Coin\",\"UltraNote\",\"BitCoal\",\"DaxxCoin\",\"Bulwark\",\"Kalkulus\",\"AC3\",\"Lethean\",\"GermanCoin\",\"LiteCoin Ultra\",\"PopularCoin\",\"PhantomX\",\"Photon\",\"Sucre\",\"SparksPay\",\"Digiwage\",\"GunCoin\",\"IrishCoin\",\"Trollcoin\",\"Litecoin Plus\",\"Monkey Project\",\"Pioneer Coin\",\"UnitedBitcoin\",\"Interzone\",\"TokenPay\",\"1717 Masonic Commemorative Token\",\"My Big Coin\",\"TurtleCoin\",\"MUNcoin\",\"Unified Society USDEX\",\"Niobio Cash\",\"ShareChain\",\"Travelflex\",\"KREDS\",\"Tokyo Coin\",\"BiblePay\",\"LitecoinCash\",\"BitFlip\",\"LottoCoin\",\"Crypto Improvement Fund\",\"Stipend\",\"Poa Network\",\"Pushi\",\"Ellerium\",\"Velox\",\"Ontology\",\"Callisto Network\",\"BitTube\",\"Poseidon\",\"Aidos Kuneen\",\"Bitspace\",\"Briacoin\",\"Ignition\",\"Bitrolium\",\"MedicCoin\",\"Alpenschillling\",\"Bitcoin Green\",\"Deviant Coin\",\"Abjcoin\",\"Semux\",\"FuturoCoin\",\"Carebit\",\"Zealium\",\"Monero Classic\",\"Proton\",\"iDealCash\",\"Jumpcoin\",\"Infinex\",\"Bitcoin Incognito\",\"KEYCO\",\"HollyWoodCoin\",\"GINcoin\",\"PlatinCoin\",\"Loki\",\"Newton Coin\",\"Swisscoin\",\"Xt3ch\",\"MassGrid\",\"TheVig\",\"PluraCoin\",\"EmaratCoin\",\"Dekado\",\"Lynx\",\"Poseidon Quark\",\"BitcoinWSpectrum\",\"Muse\",\"Motion\",\"PlusOneCoin\",\"Axe\",\"Trivechain\",\"Dystem\",\"Giant\",\"Peony Coin\",\"Absolute Coin\",\"Vitae\",\"HexCoin\",\"TPCash\",\"Webchain\",\"Ryo\",\"Urals Coin\",\"Qwertycoin\",\"ARENON\",\"EUNO\",\"MMOCoin\",\"Ketan\",\"Project Pai\",\"XDNA\",\"PAXEX\",\"Azart\",\"ThunderStake\",\"Kcash\",\"Xchange\",\"Acute Angle Cloud\",\"CrypticCoin\",\"Bettex coin\",\"Actinium\",\"Bitcoin SV\",\"BitMoney\",\"FREDEnergy\",\"HerbCoin\",\"Universal Molecule\",\"Lithium\",\"PirateCash\",\"Exosis\",\"Block-Logic\",\"Oduwa\",\"Beam\",\"Galilel\",\"Bithereum\",\"Crypto Sports\",\"Credit\",\"SLICE\",\"Dash Platinum\",\"Nasdacoin\",\"Beetle Coin\",\"Titan Coin\",\"Award\",\"BLAST\",\"Bitcoin Rhodium\",\"GlobalToken\",\"Insane Coin\",\"ALAX\",\"LiteDoge\",\"SolarCoin\",\"UFO Coin\",\"OrangeCoin\",\"BlakeCoin\",\"BitstarCoin\",\"NeosCoin\",\"PinkCoin\",\"Crypto Escudo\",\"AudioCoin\",\"IncaKoin\",\"Piggy Coin\",\"Crown Coin\",\"Genstake\",\"SmileyCoin\",\"XiaoMiCoin\",\"Groestlcoin\",\"CapriCoin\",\" ClubCoin\",\"Radium\",\"Bata\",\"Pakcoin\",\"Creditbit \",\"OKCash\",\"Lisk\",\"HiCoin\",\"WhiteCoin\",\"FriendshipCoin\",\"Fiii\",\"JoinCoin\",\"Triangles Coin\",\"Vollar\",\"Reality Clash\",\"TigerCash\",\"Waves\",\"Particl\",\"BitTorrent\",\"Nxt\",\"ZEPHYR\",\"Gapcoin\",\"Beldex\",\"Horizen\",\"BitcoinPlus\"],\"TotalCoinSupply\":{\"__ndarray__\":\"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\",\"dtype\":\"float64\",\"order\":\"little\",\"shape\":[498]},\"TotalCoinsMined\":{\"__ndarray__\":\"qvQP5PNWeD9BbH8H8a18P29/oq5aGKI/0yJb8tNpeD+XmutkU5l4P+zVqSl2YHg/5zhntE7OeD/hkxjmuV54P3vCSYbBzoE/JM4xSxnQkT8+VRhHT1h4PyxXGRaVY3g/VyKIqQZdeD/7s7qU2HF4Py1uByqxYng/vTRH0M1jeD8wdZP9C2p4PwSzSbV9SH8/34U85/NWeD+u2viLKAp5P+poLnS23ng/5+QBF7NeeD/ivH+TPGh5Py5k1SMfi3g/2BMBDyp6eD8VrDpb/1Z4P2u26e+NXng/x9Aw9gtYeD/5hc3B51t4P6LbuMI2XHg/1N460Eubpz/KgxuRblp4P6guGie7dpY/NLItLmtjmT/q1u9hRvqSPxwQ/w/4bHg/H2KNUmY9eT+dAoYEe2t4P8xz2+MnWHg/b6+xRagyeT97PQ/81fl7P69U2zcZnHg//t8nf9CCeD+aRHjF8LR4P3gan34ez7g/GLbRe4lpeD8KPmFGKG14P/FzN+Fo9ng/tN72EU1reD8HiASLHVh4P40rpeall3g/YQjFUR9/eD8yNTzUhYF4P17sWFYQXXg/1IlQIyP6fj8mvPQD/Wd4PxEUiiMTCYE/HQjP6HdmeD+89Y/2XLd5P/8K0fVXWng/IpSHAWhBeT94Hd3D0qR4P3euIH4dWHg/S3PJznJweD+107th5nF4P0UmYTL0Vng/ftqV3hSoej9EPOctdat4P3nQN7vKhHg/HOhhoBMDfz/9sJvRdVh4PxHSItsZb3g/hojZ7VlZeD+T0HUIKld4P95MeB0G3Hw/FpJVNtiLeD+HJ8jwU294PwrIfi3VjHg/8dO2k+LUeD+K5rxlRV54P8DCxaU4gHg/6AI5+cTyeD8vDHNmA2vIP5inADVmX4o/MJ/7p97Lfz/2jnwF1Yx4PxeEgvvAnng/oXKAsCSAeD/vW/sr7wt6P44xBjW+53g/eyEXAxVZeD8bMvDpJFd4P6ROY8PVDnk/QSTTtkb3eD9UTzfAbF54Pw30q1NnmXs/VBGUlmpMez9gqE/jyFl4P4QihwOhYXg/bCARzStjeD8MhpuDjqaFPzaMYsvtQHs/4z1T2ppXeD//WqkJE2R4P9B0B6gLV3g/Whp99vmZeD92miXX4Hh4P0pdPRRsZXg/SX4H0npmeD/n2x1M+V94P/9NJMynZ3g/L6TWfD15eD+IdJDpkKZ4P3LBeL89wHg/ys1RwwBieD+2KbHANm94Px6S8yhKhHg/K5BO4zJleD9iEFHWqGd4P9ktB4MPbXg/i7wgqd1heD9/Vc8ADzR5P8z2btABY3g/5Z/iANFaeD/ytTM/NGSRP4Ox92h7oHg/JiLkWFpceD9YUEPTKXCcP3+6kmNtYHg/6tMXApKBeD/VWV7bcoZ4P1jiU830XHg/3MdKbp9XeD9jQIMFIWl4P+3nlQrpYXg/RJTtxa0Mpj+QECCsj1t4P5d30OUAloA/Iso5pwJseD/BtmX33l14P6xr1y5UZXg/TNUspJ/keD+nF6oeNlh4P0lwdCd/aHg/DpnI/dCueD8QAJFQoXB4P3fYPwmaV3g/2tlmU5V/eD9BKOe3C697P8JZIua3W3g/csF4vz3AeD/D+62SN1x4P0s9D0hnWHg/9PR7y7IKez+FGsTo+tB4P+M8BfJWZ3g/x7jPpmaEeD9FrOhTMF94P0j95V6UV3g/6bkB1oZdeD/P2FIjpVd4P80HAtKrWXg/tB89kNZzfD/O7EIw+tF4P0PRwn2KYHg/QsQFB1UTez+F+h/vqGJ4P7h8AbkHN5o/HoC52uakeD8lYn32oG15P4U3+dLrXng/ZMh80IjzeD+EaXrClVl4P3LBeL89wHg/PO4ktLZpeD+QAHySWMp8P6nxOUmLcng/2hjM8txceD8ge+CG4Mh4P/FCK/pDang/ZaC7xqEleT/RMkzBh7p7P0XNrf82OLk/K4cLgAJbeD/gZlHQmIt4P8NHFjDyaHg/uuiqIohZeD8cBgsSkJd4PyLKOacCbHg/7m361lddeD+1FgWfBmR4P3BAUm1EbHg/A7d6aIqmeD+ZjRiQnmJ4P6X2xrxxYng/P30Dd89XeD8f3geH+1d4P79PWArGX3g/jRA6RQptpD+kwJn7m1p4P4Za6pxxWng/stl/0wZieD8AnnBtx3Z4P7feqNrkV3g/5SEL+s1geD+D3taS7Vh4P/KscHkvcHg/O+diwZxZeD9EvJ856Vx4P0rV5EpmY3g/EukvUlWMej9+CxryRld4P91+BImAYng/yfcWowdaeD9coIAixcp4P9ES5Y87Wng/JOmO4z5meD/qDED18XZ4P5GtdIg9Xng/tB89kNZzfD/bB1mKE8B4PwzIua16ang/E6702Oh8eD8PJ5W7TVl4P/Cx5r/PZHg/OfDe/cdjeD/dm3cMb8t4Px5Yuz5wmng/Of5oSffLeD9R8Va1nG14P4K9OnmcYXg/baHEeZr9eT8w8txsDdd4Pzrm0wObXHg/96G0ZSlYeD9ApB2meld4P8hQ6tjQwHg/F18zOwhpeD/nr5cSTWx4P/W4Ak6yjXk/ZJlvzmPCfT/GwG788WJ4P88Oh+RwbXg/YOPJ0wfypz9tHKW/12F4Pwe8OmRZZXg/csF4vz3AeD/RybTBo594P+yBPFiuh50/rxo9cz/jeD9+ZBJZVWp4P5QBlUUdyH8/gfB1OlhbeD/as08x83t4P91pHzQ5mXg/zWkX6x1eeD9MySB6C2p4P/Ws/HNYbXg/PlJ5y2RceD94yN1NX3J4PzAwStm2WXg/D1S0VB3Fjj/9r4UI3WV4PzqSHl0Hbng/rBK9K7JpeD9/1dePqbfFP81WoEQ9x4A/s5t/t6LIeD82S0vN59d4P0p/nKHJiHg/KNgYY+ZpeD8LIzPIL2R4P6r0Mlyaang/pmqbA06Nrz+4iNqpdld4P9/LxggqW3g/sp6HfitheD/YsBZXVGl4P66OvG9TeXg/WpGfyXN6eD8x6uuNhmt4P9k7KPFfW3g/clU/WV9geD+Xub1YRnF4P67eLQsmX6A/UOK5YJleeD9DYPiKD+OGP1G3Vv4/F3k/jc4HBWC6gT+OXwtaJ1h4P//l2sRWW3g/s4nWzjhweD8dHNGUEGl4P9VFz0mn9Ks/STWLId+3eD+0SCNaKaV6P0u7d5uyX3g/FMl2r7x6eD8nLrpNN1l4P2fhmNRJd3g/MDSODTvAeD8MHkSC72N4PzNf6DcuaHg/5YoSBHatjj93U+JUbw95P6isK0KqXXg/JHnDNmJkeD/THHDpF114P6X85uArf3g/hF6UbkeGeT9V42YugKShP1xJKWYxGHk/Y2AH5yhSej/Tn8t3zMt4PxDeWSkg6Zk/0WO6zbBbeD8OtkddZHt6P4Sjt4HmZHg/Bt81Hc5oeD+bg0s0hKt4P488AOOJJ3o/Eo9WmRlFhj9fePI70V94P8n/wbtmUoQ/YGHoE4SGeD/qFvbK/YKiPzjYAcVnW3g/A//kDzdfeD+NngkzsnN4PzKHdQabknk/+FcgUteGeD9IXYlfO8V6P8vueu+WWXg/Q4jwzZdbeD9eiH8O4V94P6KpimUvbHg/c61r3H9jeD/PEoXUemx4P60+hQCoWHg/a7OvXdlgeD8z4v+jo1yuP9thuZsGXHg/azRvCDhOeT9Cb1Pc9+N4P5Iz+q3zXZA/kSfEMPTHeD/i1D/Iy/x6P2voQ1luSXk/KlmJGsOgfz+IpvmcGPd6P/IGwJUOZHg/GGJsNRX8lD+d/VXEbDV5PzAAMI3MYng/OH3+4z4ueT9uFFwxPFl4Pz2g9uNkV3g/N1u7/N9xeD8hFufCOAR7P05tpQOpW3k/7XI5NDyreD8bZ4z1PFt4P5e5vVhGcXg/OX9fPXhleD+aXsjP11d4P+hmAYQyWHg/BD7f8BSieD8+L4TxYnB5P/ohzzO9c3g/h3+GWkZheD8nKEp3/G14P6KZoQ5bYXg/eXSmuD9YeD/kxIGab3h4Pw/zQRsV6ng/tQPGFp1ieD8F9EIL0Wd4P/a4vt+WW3g/XLThpl4dfj/X6ybiIm14P7ihdOdRXHg/sNNeMG9ieD83Y4VIyld4P8T7rdy0f3g/aRoK/E5eeD9kUQaaCld4PxgZOYYea3g/O1mcTqtFqD8jjiGdmJKQP+iMr3X8Xng/a69sDgDmeD/efRjb8nl4Pwbhw7WopHo/6OW0vLFteD/8y1ik1nZ4P/XlLQbVibU/zYGdBNBZeD8OfEAu0pN4P8XjXx4cang/bphQHYJfeD+fh6QmDmB4P+XRyLE1XHg/nCXBFtR9eD8oJrXbaF54P3w1OWkvXXg/u6cBvgxYeD/C0SyJ/WR4P5EZbfR/nHg/NqCcuXFYeD8KANJppFx4P7QhkVhbZ3g/GHBdKhpceD+risqJemZ4P7NxSqSPHLs/A3wFwj1reD9Xp2rjWXd4Px/MIWlqyHg/rKL+5sVgeD8edM+OAX2APxL6gk3fW3g/K/LTDbJbeD8XS4baO1x4P8QY24H2snw/tB89kNZzfD9ezrnkOGF4P7QfPZDWc3w/iSVWIQXhhD844glZGV54P7crw/9OZXg/2IvqjuVpeD89C6H4fjJ5P6rcRbJfAoA/lZku4SF8eD9DFJRJnVh4P56GFi+jZ3g/3ThKKSRleD9tp0dWYVd4P6plzHkafHg/c+cxAINmeD+a0/ULh3x4P9g+swEvang/MZZd/W5xeD82/0Jb/Vh4P/cx2aXc46I/E05N4Y9keD9BGQfHtFd4Pz5atvaVbHg/j9K4Z2koeT8kLZnjtwZ8P2mAsTowZ3g/ZylpFwOOeD9h65JRL1h4P1nbFmIKsHg/K3usa/xveD+0Hz2Q1nN8P4QoryL/1ZU/9fwt0XSReD+4j9M49AiEP97mPketWng/S2IicItveD+h6gcNnmx4P46OV8OTW3g/+A+rD2Iiej/gakPYbIx7P1mEEjyNX3w/OMd5cNuHmD/W77HbVF96P7htBL8nb3g/ykVZMyCWeD+SmJ8tcECiP5wKa8+mAHo/p3+5lCCkeD/pVvda9yp5P9V70vsNxHg/DX9k2vlaeD/gWyO9RVx4P2pONIlSoHg/hUl6W79oeD/gicL3k6V4PyJfN8tP1Xg/6AzKKgRekD9H7q0gSWB5Pw2d3N0hWHg/AAAAAAAAAABH2Cg7dlp4P4beGNMZV3g/csF4vz3AeD8h1+hTvHB4P7QfPZDWc3w/csF4vz3AeD8+dlILumB4PwAAAAAAAPA/tB89kNZzfD9H8HufXEiAP1J0w1+sZng/YeinyQNffD8SOiOUol54P0Wh+HcWV3g/\",\"dtype\":\"float64\",\"order\":\"little\",\"shape\":[498]}},\"selected\":{\"id\":\"1448\"},\"selection_policy\":{\"id\":\"1464\"}},\"id\":\"1447\",\"type\":\"ColumnDataSource\"},{\"attributes\":{},\"id\":\"1427\",\"type\":\"BasicTicker\"},{\"attributes\":{\"margin\":[5,5,5,5],\"name\":\"HSpacer02295\",\"sizing_mode\":\"stretch_width\"},\"id\":\"1475\",\"type\":\"Spacer\"},{\"attributes\":{\"bottom_units\":\"screen\",\"fill_alpha\":0.5,\"fill_color\":\"lightgrey\",\"left_units\":\"screen\",\"level\":\"overlay\",\"line_alpha\":1.0,\"line_color\":\"black\",\"line_dash\":[4,4],\"line_width\":2,\"right_units\":\"screen\",\"top_units\":\"screen\"},\"id\":\"1439\",\"type\":\"BoxAnnotation\"},{\"attributes\":{},\"id\":\"1448\",\"type\":\"Selection\"},{\"attributes\":{\"margin\":[5,5,5,5],\"name\":\"HSpacer02294\",\"sizing_mode\":\"stretch_width\"},\"id\":\"1413\",\"type\":\"Spacer\"},{\"attributes\":{\"end\":1.1,\"reset_end\":1.1,\"reset_start\":-0.1,\"start\":-0.1,\"tags\":[[[\"TotalCoinSupply\",\"TotalCoinSupply\",null]]]},\"id\":\"1415\",\"type\":\"Range1d\"},{\"attributes\":{\"axis_label\":\"TotalCoinsMined\",\"bounds\":\"auto\",\"formatter\":{\"id\":\"1456\"},\"major_label_orientation\":\"horizontal\",\"ticker\":{\"id\":\"1427\"}},\"id\":\"1426\",\"type\":\"LinearAxis\"},{\"attributes\":{},\"id\":\"1435\",\"type\":\"PanTool\"},{\"attributes\":{\"overlay\":{\"id\":\"1439\"}},\"id\":\"1437\",\"type\":\"BoxZoomTool\"},{\"attributes\":{\"axis_label\":\"TotalCoinSupply\",\"bounds\":\"auto\",\"formatter\":{\"id\":\"1458\"},\"major_label_orientation\":\"horizontal\",\"ticker\":{\"id\":\"1431\"}},\"id\":\"1430\",\"type\":\"LinearAxis\"},{\"attributes\":{\"active_drag\":\"auto\",\"active_inspect\":\"auto\",\"active_multi\":null,\"active_scroll\":\"auto\",\"active_tap\":\"auto\",\"tools\":[{\"id\":\"1416\"},{\"id\":\"1434\"},{\"id\":\"1435\"},{\"id\":\"1436\"},{\"id\":\"1437\"},{\"id\":\"1438\"}]},\"id\":\"1440\",\"type\":\"Toolbar\"},{\"attributes\":{},\"id\":\"1424\",\"type\":\"LinearScale\"},{\"attributes\":{},\"id\":\"1456\",\"type\":\"BasicTickFormatter\"},{\"attributes\":{\"fill_alpha\":{\"value\":0.1},\"fill_color\":{\"value\":\"#1f77b3\"},\"line_alpha\":{\"value\":0.1},\"line_color\":{\"value\":\"#1f77b3\"},\"size\":{\"units\":\"screen\",\"value\":5.477225575051661},\"x\":{\"field\":\"TotalCoinsMined\"},\"y\":{\"field\":\"TotalCoinSupply\"}},\"id\":\"1451\",\"type\":\"Scatter\"},{\"attributes\":{},\"id\":\"1431\",\"type\":\"BasicTicker\"},{\"attributes\":{},\"id\":\"1464\",\"type\":\"UnionRenderers\"}],\"root_ids\":[\"1412\"]},\"title\":\"Bokeh Application\",\"version\":\"2.1.1\"}};\n",
       "  var render_items = [{\"docid\":\"4f65178e-2223-4341-8c3d-94a05177de59\",\"root_ids\":[\"1412\"],\"roots\":{\"1412\":\"c2f3398d-b729-4a25-aceb-c815469222c3\"}}];\n",
       "  root.Bokeh.embed.embed_items_notebook(docs_json, render_items);\n",
       "  }\n",
       "if (root.Bokeh !== undefined) {\n",
       "    embed_document(root);\n",
       "  } else {\n",
       "    var attempts = 0;\n",
       "    var timer = setInterval(function(root) {\n",
       "      if (root.Bokeh !== undefined) {\n",
       "        clearInterval(timer);\n",
       "        embed_document(root);\n",
       "      } else if (document.readyState == \"complete\") {\n",
       "        attempts++;\n",
       "        if (attempts > 100) {\n",
       "          clearInterval(timer);\n",
       "          console.log(\"Bokeh: ERROR: Unable to run BokehJS code because BokehJS library is missing\");\n",
       "        }\n",
       "      }\n",
       "    }, 10, root)\n",
       "  }\n",
       "})(window);</script>"
      ],
      "text/plain": [
       ":Scatter   [TotalCoinsMined]   (TotalCoinSupply,CoinName)"
      ]
     },
     "execution_count": 96,
     "metadata": {
      "application/vnd.holoviews_exec.v0+json": {
       "id": "1412"
      }
     },
     "output_type": "execute_result"
    }
   ],
   "source": [
    "# Plot the scatter with x=\"TotalCoinsMined\" and y=\"TotalCoinSupply\"\n",
    "clustered_df.hvplot.scatter(x=\"TotalCoinsMined\",y=\"TotalCoinSupply\",hover_cols=[\"CoinName\"])"
   ]
  },
  {
   "cell_type": "code",
   "execution_count": null,
   "metadata": {},
   "outputs": [],
   "source": []
  },
  {
   "cell_type": "code",
   "execution_count": null,
   "metadata": {},
   "outputs": [],
   "source": []
  },
  {
   "cell_type": "code",
   "execution_count": null,
   "metadata": {},
   "outputs": [],
   "source": []
  },
  {
   "cell_type": "code",
   "execution_count": null,
   "metadata": {},
   "outputs": [],
   "source": []
  },
  {
   "cell_type": "code",
   "execution_count": null,
   "metadata": {},
   "outputs": [],
   "source": []
  }
 ],
 "metadata": {
  "kernelspec": {
   "display_name": "Python 3",
   "language": "python",
   "name": "python3"
  },
  "language_info": {
   "codemirror_mode": {
    "name": "ipython",
    "version": 3
   },
   "file_extension": ".py",
   "mimetype": "text/x-python",
   "name": "python",
   "nbconvert_exporter": "python",
   "pygments_lexer": "ipython3",
   "version": "3.8.3"
  }
 },
 "nbformat": 4,
 "nbformat_minor": 4
}
